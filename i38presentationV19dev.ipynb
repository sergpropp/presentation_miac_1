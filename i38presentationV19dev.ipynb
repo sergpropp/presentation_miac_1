{
 "cells": [
  {
   "cell_type": "code",
   "execution_count": 326,
   "id": "bf0c7e1c",
   "metadata": {},
   "outputs": [],
   "source": [
    "import numpy as np\n",
    "import pandas as pd\n",
    "import re\n",
    "import datetime\n",
    "import openpyxl\n",
    "import calendar\n",
    "import os\n",
    "import glob\n",
    "from pptx import Presentation\n",
    "from pptx.util import Inches\n",
    "from pptx.util import Pt\n",
    "from pptx.enum.text import PP_ALIGN\n",
    "from pptx.dml.color import RGBColor\n",
    "from pptx.enum.text import MSO_AUTO_SIZE\n",
    "from pptx.enum.shapes import MSO_SHAPE\n",
    "import io\n",
    "from functools import reduce\n",
    "import math\n",
    "import psutil"
   ]
  },
  {
   "cell_type": "code",
   "execution_count": 327,
   "id": "1cd3f5c8",
   "metadata": {},
   "outputs": [
    {
     "data": {
      "text/plain": [
       "' \\nСписок МО для выгрузки из отчета ЦБ Главное - Дополнительные отчеты - показатели записи на прием к врачу за период в 1 неделю которые у меня называются record\\nГАУЗ ТО \"Городская поликлиника № 1\"; ГАУЗ ТО \"Городская поликлиника № 12\"; ГАУЗ ТО \"Городская поликлиника № 13 \"; ГАУЗ ТО \"Городская поликлиника № 4\"; ГАУЗ ТО \"Городская поликлиника №5\"; ГАУЗ ТО \"Областная больница № 19\" (г.Тюмень); ГАУЗ ТО «Городская Поликлиника № 6»; ГАУЗ ТО «Городская поликлиника № 8»; ГАУЗ ТО «Городская поликлиника №17»; ГАУЗ ТО «Городская поликлиника №3»; ГБУЗ ТО \"Областная больница № 11\" (р.п. Голышманово); ГБУЗ ТО \"Областная больница № 12\" (г.Заводоуковск); ГБУЗ ТО \"Областная больница № 14 им. В.Н.Шанаурина\" (с. Казанское); ГБУЗ ТО \"Областная больница № 15\" (с.Нижняя Тавда); ГБУЗ ТО \"Областная больница № 23\" (г.Ялуторовск); ГБУЗ ТО \"Областная больница № 24\" (с.Ярково); ГБУЗ ТО \"Областная больница № 3\" (г.Тобольск); ГБУЗ ТО \"Областная больница № 4\" (г.Ишим); ГБУЗ ТО \"Областная больница № 9\" (с.Вагай); ГБУЗ ТО \"Областная больница №13\" (с. Исетское); ГБУЗ ТО \"Областная стоматологическая поликлиника\"; ГБУЗ ТО \"ОКБ №2\"; ГБУЗ ТО \"ОНД\"; ГБУЗ ТО \"Роддом № 3\"; ГБУЗ ТО \"Роддом №2\"; ГБУЗ ТО «Областной клинический фтизиопульмонологический центр»; ГБУЗ ТО Областная больница №20 (с.Уват); ГБУЗ ТО ОКПБ\\n'"
      ]
     },
     "execution_count": 327,
     "metadata": {},
     "output_type": "execute_result"
    }
   ],
   "source": [
    "''' \n",
    "Список МО для выгрузки из отчета ЦБ Главное - Дополнительные отчеты - показатели записи на прием к врачу за период в 1 неделю которые у меня называются record\n",
    "ГАУЗ ТО \"Городская поликлиника № 1\"; ГАУЗ ТО \"Городская поликлиника № 12\"; ГАУЗ ТО \"Городская поликлиника № 13 \"; ГАУЗ ТО \"Городская поликлиника № 4\"; ГАУЗ ТО \"Городская поликлиника №5\"; ГАУЗ ТО \"Областная больница № 19\" (г.Тюмень); ГАУЗ ТО «Городская Поликлиника № 6»; ГАУЗ ТО «Городская поликлиника № 8»; ГАУЗ ТО «Городская поликлиника №17»; ГАУЗ ТО «Городская поликлиника №3»; ГБУЗ ТО \"Областная больница № 11\" (р.п. Голышманово); ГБУЗ ТО \"Областная больница № 12\" (г.Заводоуковск); ГБУЗ ТО \"Областная больница № 14 им. В.Н.Шанаурина\" (с. Казанское); ГБУЗ ТО \"Областная больница № 15\" (с.Нижняя Тавда); ГБУЗ ТО \"Областная больница № 23\" (г.Ялуторовск); ГБУЗ ТО \"Областная больница № 24\" (с.Ярково); ГБУЗ ТО \"Областная больница № 3\" (г.Тобольск); ГБУЗ ТО \"Областная больница № 4\" (г.Ишим); ГБУЗ ТО \"Областная больница № 9\" (с.Вагай); ГБУЗ ТО \"Областная больница №13\" (с. Исетское); ГБУЗ ТО \"Областная стоматологическая поликлиника\"; ГБУЗ ТО \"ОКБ №2\"; ГБУЗ ТО \"ОНД\"; ГБУЗ ТО \"Роддом № 3\"; ГБУЗ ТО \"Роддом №2\"; ГБУЗ ТО «Областной клинический фтизиопульмонологический центр»; ГБУЗ ТО Областная больница №20 (с.Уват); ГБУЗ ТО ОКПБ\n",
    "'''"
   ]
  },
  {
   "cell_type": "code",
   "execution_count": 328,
   "id": "39987886",
   "metadata": {},
   "outputs": [],
   "source": [
    "# Это дата выгрузки по МО из ФРМР\n",
    "upload_date = '02.02.2024'"
   ]
  },
  {
   "cell_type": "code",
   "execution_count": 329,
   "id": "caca7d6d",
   "metadata": {},
   "outputs": [],
   "source": [
    "# Это дата выгрузки отчетов original и workers  по пятницам\n",
    "period_last = '22.02.2024'"
   ]
  },
  {
   "cell_type": "code",
   "execution_count": 330,
   "id": "819d77a0",
   "metadata": {},
   "outputs": [],
   "source": [
    "# Указываем верхнюю и нижнюю границу периода\n",
    "start_date = '2024-02-19'\n",
    "end_date = '2024-02-25'"
   ]
  },
  {
   "cell_type": "code",
   "execution_count": 331,
   "id": "3206acfe",
   "metadata": {},
   "outputs": [],
   "source": [
    "period = f\"{start_date} - {end_date}\""
   ]
  },
  {
   "cell_type": "code",
   "execution_count": 332,
   "id": "3c9903cd",
   "metadata": {},
   "outputs": [
    {
     "data": {
      "text/plain": [
       "'2024-02-19 - 2024-02-25'"
      ]
     },
     "execution_count": 332,
     "metadata": {},
     "output_type": "execute_result"
    }
   ],
   "source": [
    "period"
   ]
  },
  {
   "cell_type": "code",
   "execution_count": 333,
   "id": "abee63bb",
   "metadata": {},
   "outputs": [],
   "source": [
    "# Переменная окружения\n",
    "ROOT_PATH = os.getcwd()\n",
    "# поправочный файл от Анны Флягиной в котором учет должности ведется в перекрестной таблице\n",
    "POST_AD = ROOT_PATH + '/guide/uchet_doljnosty.xlsx'\n",
    "# в этой папке содержится отчет по штатным единицам из ФРМР по каждой МО они должны обновляться раз в неделю\n",
    "FRMR_FILES = ROOT_PATH + '/frmr'\n",
    "# в этой папке содержится справочник МО\n",
    "GUIDE_MEDORGANIZATION = ROOT_PATH + '/guide/medicine_organization_2.xlsx'\n",
    "# в этой папке содержится список исключений которые мы не принимаем в расчет файл формирует Анна Флягина\n",
    "DELETE_ORGANIZATION = ROOT_PATH + '/guide/ОБЩИЙ ДЕКАБРЬ.xlsx'\n",
    "# Это отчет о сотрудниках работающих в организации который формируется в ФРМР на дату аналогичную выгрузке из АНАЛИТ (например на 8 число для 1 слайда) для второго слайда - на 4 число, это другая выгрузка\n",
    "WORKERS_XLS = ROOT_PATH + '/input/workers.xlsx'\n",
    "#Это перечень должностей которые мы учитываем при подсчете\n",
    "LIST_DOLJNOST = ROOT_PATH + '/guide/tablica_doljnost.xlsx'\n",
    "# Это данные из Аналит-расписание на пятницу\n",
    "ORIGINAL_ANALIT = ROOT_PATH + '/input/original.xlsx'\n",
    "# Это данные из Аналит расписания на понедельник\n",
    "FILTR_ANALIT = ROOT_PATH + '/input/original_filtr.xlsx'\n",
    "# Это перечень строк из ФРМР которые не следует использовать при расчетах\n",
    "GUIDE_DELETE_MED = ROOT_PATH + '/guide/guide_delete.xlsx'\n",
    "# Это норма слотов для каждой должности\n",
    "NORMA_SLOTOV = ROOT_PATH + '/guide/norma_slotov.xlsx'\n",
    "# Это записи на прием к врачу\n",
    "RECORD_DOCTORS = ROOT_PATH + '/input/record.xlsx'\n",
    "# Это неотложка\n",
    "EMERGENCY_XLSX = ROOT_PATH + '/emergency'\n",
    "NEOTLOJKA_XLSX = ROOT_PATH + '/emergency/neotlojka.xlsx'\n",
    "# Это три файла выгрузки для обработки аналит\n",
    "ANALIT_SLIDE5 = ROOT_PATH + '/analitSlide5'\n",
    "# Это расписание 1С\n",
    "RASPISANIE_1C =  ROOT_PATH + '/input/1c_raspisanie.xlsx'\n",
    "# Это справочник должностей и соответствующих им специальностей из аналит\n",
    "DOLJNOST_ANALIT = ROOT_PATH + '/guide/analit_doljnost.xlsx'\n",
    "# Это корректировочный файл для удаленя из 1С\n",
    "DELETE_RAS_1C = ROOT_PATH + '/input/Del_ras1c.xlsx'\n",
    "# Это еще один корректировочный файл для файло которые мы не берем из original_filtr\n",
    "DELETE_ORIGINAL_FILTR = ROOT_PATH + '/guide/analit_original_filter_delete.xlsx'\n",
    "# Это порядок расположения столбцов\n",
    "SEQUENCE = pd.read_excel(ROOT_PATH + '/guide/psequence.xlsx')"
   ]
  },
  {
   "cell_type": "markdown",
   "id": "d7b6720d",
   "metadata": {},
   "source": [
    "##### Порядок отображения МО"
   ]
  },
  {
   "cell_type": "code",
   "execution_count": 334,
   "id": "0d86e7a8",
   "metadata": {},
   "outputs": [],
   "source": [
    "sequence_mo = SEQUENCE"
   ]
  },
  {
   "cell_type": "markdown",
   "id": "71ff7b93",
   "metadata": {},
   "source": [
    "##### Настройка цветов презентации"
   ]
  },
  {
   "cell_type": "code",
   "execution_count": 335,
   "id": "190f3025",
   "metadata": {},
   "outputs": [],
   "source": [
    "color_red = RGBColor(246, 175, 171)\n",
    "color_green = RGBColor(153, 219, 161)\n",
    "color_neutral = RGBColor(223, 220, 230)\n",
    "color_header = RGBColor(99, 89, 122)\n",
    "color_title = RGBColor(55, 34, 105)\n",
    "color_yallow = RGBColor(246, 235, 171)\n",
    "# Задание черного цвета границы таблицы\n",
    "border_color = RGBColor(0, 0, 0)  # Черный цвет (RGB: 0, 0, 0)"
   ]
  },
  {
   "cell_type": "markdown",
   "id": "7bee00a7",
   "metadata": {},
   "source": [
    "##### Подготавливаем данные для слайда 1, столбца 1"
   ]
  },
  {
   "cell_type": "code",
   "execution_count": 336,
   "id": "bd38328b",
   "metadata": {},
   "outputs": [],
   "source": [
    "# Импортируем справочник медорганизаций\n",
    "medorganization = pd.read_excel(GUIDE_MEDORGANIZATION)"
   ]
  },
  {
   "cell_type": "code",
   "execution_count": 337,
   "id": "d2230783",
   "metadata": {},
   "outputs": [],
   "source": [
    "\n",
    "# Загружаем выгрузки из ФРМР по МО и объединяем\n",
    "my_excel = glob.glob(os.path.join(FRMR_FILES,\"*.xlsx\"))\n",
    "len(my_excel)\n",
    "svod = []\n",
    "for my_files in my_excel:\n",
    "    next_df = pd.read_excel(my_files, sheet_name=1)\n",
    "    next_df['МО'] = my_files.split(\"/\")[-1]\n",
    "    svod.append(next_df)\n",
    "frmr = pd.concat(svod, sort=False, axis=0)\n",
    "frmr['МО'] = frmr['МО'].str.replace(r'.xlsx$', '', regex=True)\n",
    "frmr = frmr[frmr['Должность'] != 'Итого:']\n",
    "frmr = frmr.fillna(0)"
   ]
  },
  {
   "cell_type": "code",
   "execution_count": 338,
   "id": "caee78fb",
   "metadata": {},
   "outputs": [],
   "source": [
    "frmr['Должность по Фед. справочнику'] = frmr['Должность по Фед. справочнику'].str.lower()"
   ]
  },
  {
   "cell_type": "markdown",
   "id": "004a2ad1",
   "metadata": {},
   "source": [
    "##### Фильтруем по должности"
   ]
  },
  {
   "cell_type": "code",
   "execution_count": 339,
   "id": "262844ba",
   "metadata": {},
   "outputs": [],
   "source": [
    "tablica_doljnost = pd.read_excel(LIST_DOLJNOST)\n",
    "employee_list = tablica_doljnost['Должность'].to_list()\n",
    "frmr_all = frmr[frmr['Должность'].isin(employee_list)] # Это фильтр по должности\n",
    "frmr_all = frmr_all[frmr_all['Отделение стационара'] == 0] # Это исключение стационаров"
   ]
  },
  {
   "cell_type": "code",
   "execution_count": 340,
   "id": "3e29f6e1",
   "metadata": {},
   "outputs": [],
   "source": [
    "# Это собранный Аней Флягиной список исключений\n",
    "deletion = pd.read_excel(DELETE_ORGANIZATION, sheet_name=1, usecols=['Структурное подразделение', 'Должность', 'Должность по Фед. справочнику', \n",
    "                                                                     'Штатных единиц', 'Занятых штатных единиц', 'В т.ч. внешнее совместительство', \n",
    "                                                                     'Вакансий', 'MO']) \n",
    "deletion.rename(columns={'MO': 'МО'}, inplace=True)\n",
    "deletion = deletion[['МО', 'Структурное подразделение', 'Должность', 'Должность по Фед. справочнику']]"
   ]
  },
  {
   "cell_type": "code",
   "execution_count": 341,
   "id": "87b890f7",
   "metadata": {},
   "outputs": [],
   "source": [
    "# Мержим обработанную выгрузку из ФРМР с исключениями и убираем исключения\n",
    "frmr_all = frmr_all.merge(deletion, on=['Структурное подразделение', 'Должность', 'Должность по Фед. справочнику', 'МО'], how='left', indicator=True)\n",
    "frmr_all = frmr_all.query('_merge == \"left_only\"').drop('_merge', axis=1)\n",
    "frmr_all.reset_index(drop=True, inplace=True)"
   ]
  },
  {
   "cell_type": "code",
   "execution_count": 342,
   "id": "a04ffe3f",
   "metadata": {},
   "outputs": [],
   "source": [
    "test_frmr_all_ftisio_unique = frmr_all[frmr_all['МО'] == 'ОКФЦ']"
   ]
  },
  {
   "cell_type": "markdown",
   "id": "cfadb4cd",
   "metadata": {},
   "source": [
    "##### Мержим обработанный список со справочником медорганизаций чтобы привести названия в нужный нам вид"
   ]
  },
  {
   "cell_type": "code",
   "execution_count": 343,
   "id": "d4213550",
   "metadata": {},
   "outputs": [],
   "source": [
    "frmr_all_merge = pd.merge(frmr_all, medorganization, on='МО', how='left')\n",
    "frmr_all_merge = frmr_all_merge[['Организация', 'Структурное подразделение', 'Отделение стационара', 'Должность по Фед. справочнику', 'Штатных единиц', 'Занятых штатных единиц', 'В т.ч. внешнее совместительство', 'Вакансий']]\n",
    "frmr_all_merge.rename(columns={'Должность по Фед. справочнику': 'Должность'}, inplace=True)"
   ]
  },
  {
   "cell_type": "code",
   "execution_count": 344,
   "id": "b7c9e2a8",
   "metadata": {},
   "outputs": [
    {
     "data": {
      "text/plain": [
       "array([nan, 'ГАУЗ ТО «ГП №13»', 'ГБУЗ ТО «ОКФЦ»', 'ГАУЗ ТО \"ОСП\"',\n",
       "       'ГБУЗ ТО «ОБ №23»', 'ГАУЗ ТО «ГП №17»', 'ГБУЗ ТО «ОКБ №2»',\n",
       "       'ГБУЗ ТО «ОБ №13»', 'ГАУЗ ТО «ГП №4»', 'ГАУЗ ТО «ГП №1»',\n",
       "       'ГБУЗ ТО «ОБ №12»', 'ГБУЗ ТО «Роддом № 2»', 'ГАУЗ ТО «ГП №6»',\n",
       "       'ГАУЗ ТО «ГП №12»', 'ГБУЗ ТО «ОБ №15»', 'ГБУЗ ТО «ОБ №3»',\n",
       "       'ГБУЗ ТО «ОНД»', 'ГБУЗ ТО «ОБ №19»', 'ГБУЗ ТО «ОБ №24»',\n",
       "       'ГАУЗ ТО «ГП №3»', 'ГБУЗ ТО «Перинатальный центр»',\n",
       "       'ГБУЗ ТО «ОБ №11»', 'ГБУЗ ТО «ОБ №4»', 'ГБУЗ ТО «ОБ №14»',\n",
       "       'ГБУЗ ТО «ОБ №9»', 'ГАУЗ ТО «ГП №5»', 'ГАУЗ ТО «ГП №8»',\n",
       "       'ГБУЗ ТО «Родильный дом №3»', 'ГБУЗ ТО «ОКПБ»', 'ГБУЗ ТО «ОБ №20»',\n",
       "       'ГБУЗ ТО «ОКБ №1»'], dtype=object)"
      ]
     },
     "execution_count": 344,
     "metadata": {},
     "output_type": "execute_result"
    }
   ],
   "source": [
    "frmr_all_merge['Организация'].unique()"
   ]
  },
  {
   "cell_type": "code",
   "execution_count": 345,
   "id": "1b462ee1",
   "metadata": {},
   "outputs": [],
   "source": [
    "# Загрузка корректировочного файла от Анны Флягиной\n",
    "uchet_doljnosty = pd.read_excel(POST_AD).fillna(0)\n",
    "employee_uchet = pd.melt(uchet_doljnosty, id_vars=['Организация'], value_vars=employee_list, var_name='Должность', value_name='Проверка')\n",
    "employee_uchet.sort_values(by='Проверка', ascending=True, inplace=True)"
   ]
  },
  {
   "cell_type": "markdown",
   "id": "ba20be6e",
   "metadata": {},
   "source": [
    "##### Объединяем с проверочным файлом в котором указаны должности по которым мы не считаем и удаляем ненужные"
   ]
  },
  {
   "cell_type": "code",
   "execution_count": 346,
   "id": "11bc3a19",
   "metadata": {},
   "outputs": [
    {
     "name": "stderr",
     "output_type": "stream",
     "text": [
      "/tmp/ipykernel_7504/4235904968.py:1: FutureWarning: Downcasting object dtype arrays on .fillna, .ffill, .bfill is deprecated and will change in a future version. Call result.infer_objects(copy=False) instead. To opt-in to the future behavior, set `pd.set_option('future.no_silent_downcasting', True)`\n",
      "  frmr_all_uchet = pd.merge(frmr_all_merge, employee_uchet, on=['Организация', 'Должность'], how='left').fillna(0)\n"
     ]
    }
   ],
   "source": [
    "frmr_all_uchet = pd.merge(frmr_all_merge, employee_uchet, on=['Организация', 'Должность'], how='left').fillna(0)\n",
    "frmr_all_uchet = frmr_all_uchet[frmr_all_uchet['Проверка'] != 0]"
   ]
  },
  {
   "cell_type": "code",
   "execution_count": 347,
   "id": "28b75210",
   "metadata": {},
   "outputs": [
    {
     "data": {
      "text/plain": [
       "array(['ГАУЗ ТО «ГП №13»', 'ГБУЗ ТО «ОКФЦ»', 'ГАУЗ ТО \"ОСП\"',\n",
       "       'ГБУЗ ТО «ОБ №23»', 'ГАУЗ ТО «ГП №17»', 'ГБУЗ ТО «ОКБ №2»',\n",
       "       'ГБУЗ ТО «ОБ №13»', 'ГАУЗ ТО «ГП №4»', 'ГАУЗ ТО «ГП №1»',\n",
       "       'ГБУЗ ТО «ОБ №12»', 'ГБУЗ ТО «Роддом № 2»', 'ГАУЗ ТО «ГП №6»',\n",
       "       'ГАУЗ ТО «ГП №12»', 'ГБУЗ ТО «ОБ №15»', 'ГБУЗ ТО «ОБ №3»',\n",
       "       'ГБУЗ ТО «ОНД»', 'ГБУЗ ТО «ОБ №19»', 'ГБУЗ ТО «ОБ №24»',\n",
       "       'ГАУЗ ТО «ГП №3»', 'ГБУЗ ТО «ОБ №11»', 'ГБУЗ ТО «ОБ №4»',\n",
       "       'ГБУЗ ТО «ОБ №14»', 'ГБУЗ ТО «ОБ №9»', 'ГАУЗ ТО «ГП №5»',\n",
       "       'ГАУЗ ТО «ГП №8»', 'ГБУЗ ТО «Родильный дом №3»', 'ГБУЗ ТО «ОКПБ»',\n",
       "       'ГБУЗ ТО «ОБ №20»'], dtype=object)"
      ]
     },
     "execution_count": 347,
     "metadata": {},
     "output_type": "execute_result"
    }
   ],
   "source": [
    "frmr_all_uchet['Организация'].unique()"
   ]
  },
  {
   "cell_type": "code",
   "execution_count": 348,
   "id": "1e821bc3",
   "metadata": {},
   "outputs": [],
   "source": [
    "proverka_all_uchet = frmr_all_uchet[frmr_all_uchet['Организация'] == 'ГБУЗ ТО «ОКФЦ»']"
   ]
  },
  {
   "cell_type": "markdown",
   "id": "17d56f47",
   "metadata": {},
   "source": [
    "##### Расчет Слайд 1 Столбец 1"
   ]
  },
  {
   "cell_type": "code",
   "execution_count": 349,
   "id": "5cdd22b0",
   "metadata": {},
   "outputs": [],
   "source": [
    "# формирование первого столбца первого слайда\n",
    "frmr_all_slide_1 = frmr_all_uchet[['Организация', 'Должность']]"
   ]
  },
  {
   "cell_type": "code",
   "execution_count": 350,
   "id": "ef4ca5ac",
   "metadata": {},
   "outputs": [],
   "source": [
    "test_ftisiatr  = frmr_all_uchet[['Организация', 'Должность']]"
   ]
  },
  {
   "cell_type": "code",
   "execution_count": 351,
   "id": "6e1c49c9",
   "metadata": {},
   "outputs": [
    {
     "data": {
      "text/plain": [
       "array(['ГАУЗ ТО «ГП №13»', 'ГБУЗ ТО «ОКФЦ»', 'ГАУЗ ТО \"ОСП\"',\n",
       "       'ГБУЗ ТО «ОБ №23»', 'ГАУЗ ТО «ГП №17»', 'ГБУЗ ТО «ОКБ №2»',\n",
       "       'ГБУЗ ТО «ОБ №13»', 'ГАУЗ ТО «ГП №4»', 'ГАУЗ ТО «ГП №1»',\n",
       "       'ГБУЗ ТО «ОБ №12»', 'ГБУЗ ТО «Роддом № 2»', 'ГАУЗ ТО «ГП №6»',\n",
       "       'ГАУЗ ТО «ГП №12»', 'ГБУЗ ТО «ОБ №15»', 'ГБУЗ ТО «ОБ №3»',\n",
       "       'ГБУЗ ТО «ОНД»', 'ГБУЗ ТО «ОБ №19»', 'ГБУЗ ТО «ОБ №24»',\n",
       "       'ГАУЗ ТО «ГП №3»', 'ГБУЗ ТО «ОБ №11»', 'ГБУЗ ТО «ОБ №4»',\n",
       "       'ГБУЗ ТО «ОБ №14»', 'ГБУЗ ТО «ОБ №9»', 'ГАУЗ ТО «ГП №5»',\n",
       "       'ГАУЗ ТО «ГП №8»', 'ГБУЗ ТО «Родильный дом №3»', 'ГБУЗ ТО «ОКПБ»',\n",
       "       'ГБУЗ ТО «ОБ №20»'], dtype=object)"
      ]
     },
     "execution_count": 351,
     "metadata": {},
     "output_type": "execute_result"
    }
   ],
   "source": [
    "test_ftisiatr['Организация'].unique()"
   ]
  },
  {
   "cell_type": "code",
   "execution_count": 352,
   "id": "e13b80a5",
   "metadata": {},
   "outputs": [
    {
     "name": "stderr",
     "output_type": "stream",
     "text": [
      "/tmp/ipykernel_7504/1896369310.py:1: SettingWithCopyWarning: \n",
      "A value is trying to be set on a copy of a slice from a DataFrame\n",
      "\n",
      "See the caveats in the documentation: https://pandas.pydata.org/pandas-docs/stable/user_guide/indexing.html#returning-a-view-versus-a-copy\n",
      "  frmr_all_slide_1.rename(columns={'Организация': 'Наименование МО'}, inplace=True)\n"
     ]
    }
   ],
   "source": [
    "\n",
    "frmr_all_slide_1.rename(columns={'Организация': 'Наименование МО'}, inplace=True)"
   ]
  },
  {
   "cell_type": "code",
   "execution_count": 353,
   "id": "25db4696",
   "metadata": {},
   "outputs": [
    {
     "name": "stderr",
     "output_type": "stream",
     "text": [
      "/tmp/ipykernel_7504/1793884492.py:1: SettingWithCopyWarning: \n",
      "A value is trying to be set on a copy of a slice from a DataFrame.\n",
      "Try using .loc[row_indexer,col_indexer] = value instead\n",
      "\n",
      "See the caveats in the documentation: https://pandas.pydata.org/pandas-docs/stable/user_guide/indexing.html#returning-a-view-versus-a-copy\n",
      "  frmr_all_slide_1['Должность'] = np.where(frmr_all_slide_1['Должность'] == 'врач-фтизиатр', 'врач-фтизиатр участковый', frmr_all_slide_1['Должность'])\n"
     ]
    }
   ],
   "source": [
    "frmr_all_slide_1['Должность'] = np.where(frmr_all_slide_1['Должность'] == 'врач-фтизиатр', 'врач-фтизиатр участковый', frmr_all_slide_1['Должность'])"
   ]
  },
  {
   "cell_type": "code",
   "execution_count": 354,
   "id": "7e9d9d12",
   "metadata": {},
   "outputs": [
    {
     "name": "stderr",
     "output_type": "stream",
     "text": [
      "/tmp/ipykernel_7504/2508088442.py:1: SettingWithCopyWarning: \n",
      "A value is trying to be set on a copy of a slice from a DataFrame.\n",
      "Try using .loc[row_indexer,col_indexer] = value instead\n",
      "\n",
      "See the caveats in the documentation: https://pandas.pydata.org/pandas-docs/stable/user_guide/indexing.html#returning-a-view-versus-a-copy\n",
      "  frmr_all_slide_1['Должность'] = np.where(frmr_all_slide_1['Должность'] == 'врач-психиатр детский', 'врач-психиатр детский участковый', frmr_all_slide_1['Должность'])\n"
     ]
    }
   ],
   "source": [
    "frmr_all_slide_1['Должность'] = np.where(frmr_all_slide_1['Должность'] == 'врач-психиатр детский', 'врач-психиатр детский участковый', frmr_all_slide_1['Должность'])"
   ]
  },
  {
   "cell_type": "code",
   "execution_count": 355,
   "id": "082898ec",
   "metadata": {},
   "outputs": [],
   "source": [
    "double_frmr_slide_1 = frmr_all_slide_1.drop_duplicates()"
   ]
  },
  {
   "cell_type": "code",
   "execution_count": 356,
   "id": "64d0b8a1",
   "metadata": {},
   "outputs": [],
   "source": [
    "slide_1_column1 = pd.pivot_table(double_frmr_slide_1, \n",
    "                                 index='Наименование МО', \n",
    "                                 values='Должность', \n",
    "                                 aggfunc='count', \n",
    "                                 margins=True, \n",
    "                                 margins_name='Итого').reset_index()"
   ]
  },
  {
   "cell_type": "code",
   "execution_count": 357,
   "id": "4009ad7b",
   "metadata": {},
   "outputs": [],
   "source": [
    "slide_1_column1.rename(columns={'Должность': 'Кол-во должностей из 14'}, inplace=True)\n",
    "slide_1_column1 = slide_1_column1[(slide_1_column1['Наименование МО'] != 'ГБУЗ ТО «ОКБ №1»') &   \n",
    "                                  (slide_1_column1['Наименование МО'] != 'ГБУЗ ТО «Перинатальный центр»')]\n",
    "slide_1_column1.reset_index(drop=True, inplace=True)"
   ]
  },
  {
   "cell_type": "markdown",
   "id": "68d3b501",
   "metadata": {},
   "source": [
    "##### СЛАЙД 1 СТОЛБЕЦ 2"
   ]
  },
  {
   "cell_type": "code",
   "execution_count": 358,
   "id": "1c0f04d9",
   "metadata": {},
   "outputs": [
    {
     "name": "stderr",
     "output_type": "stream",
     "text": [
      "/home/serg/prezentation/venv/lib/python3.10/site-packages/openpyxl/styles/stylesheet.py:226: UserWarning: Workbook contains no default style, apply openpyxl's default\n",
      "  warn(\"Workbook contains no default style, apply openpyxl's default\")\n"
     ]
    }
   ],
   "source": [
    "workers = pd.read_excel(WORKERS_XLS, skiprows=6)\n",
    "workers.rename(columns={'Unnamed: 0': 'СНИЛС', \n",
    "                    'Unnamed: 1': 'Фамилия', \n",
    "                    'Unnamed: 2': 'Имя', \n",
    "                    'Unnamed: 3': 'Отчество', \n",
    "                    'Unnamed: 4': 'Пол', \n",
    "                    'Unnamed: 5': 'Дата рождения', \n",
    "                    'Unnamed: 6': 'Сведения о трудоустройстве'}, inplace=True)"
   ]
  },
  {
   "cell_type": "code",
   "execution_count": 359,
   "id": "bdc32b79",
   "metadata": {},
   "outputs": [],
   "source": [
    "workers['Должность по фед справочнику'] = workers['Должность по фед справочнику'].str.lower()"
   ]
  },
  {
   "cell_type": "code",
   "execution_count": 360,
   "id": "11f6c318",
   "metadata": {},
   "outputs": [],
   "source": [
    "post_array = workers['Должность по фед справочнику'].unique()\n",
    "post_df = pd.DataFrame({'Должность':post_array})"
   ]
  },
  {
   "cell_type": "code",
   "execution_count": 361,
   "id": "bc7fb788",
   "metadata": {},
   "outputs": [],
   "source": [
    "guide_post = pd.merge(tablica_doljnost, post_df, on='Должность', how='inner')\n",
    "guide_post = guide_post.rename(columns={'Должность' : 'Должность по фед справочнику'})"
   ]
  },
  {
   "cell_type": "code",
   "execution_count": 362,
   "id": "0d1565ea",
   "metadata": {},
   "outputs": [],
   "source": [
    "# Оставляем только амбулаторные подразделения\n",
    "workers = workers[workers['Тип структурного подразделения'] == 'Амбулаторный']\n",
    "# Подгружаем справочник на удаление\n",
    "delete_rows = pd.read_excel(GUIDE_DELETE_MED, skiprows=6)\n",
    "delete_rows.rename(columns={'Unnamed: 0': 'СНИЛС', \n",
    "                    'Unnamed: 1': 'Фамилия', \n",
    "                    'Unnamed: 2': 'Имя', \n",
    "                    'Unnamed: 3': 'Отчество', \n",
    "                    'Unnamed: 4': 'Пол', \n",
    "                    'Unnamed: 5': 'Дата рождения', \n",
    "                    'Unnamed: 6': 'Сведения о трудоустройстве'}, inplace=True)\n",
    "delete_rows = delete_rows[['Краткое наименование организации', 'OID структурного подразделения', 'Должность по фед справочнику']]\n",
    "delete_rows['Удалить'] = 'True'\n",
    "# Мержим со справочником на удаление и удаляем все значения не соответсвующие типу амбулаторный из исходного массива\n",
    "result = pd.merge(workers, delete_rows,on=['Краткое наименование организации', \n",
    "                                      'OID структурного подразделения', \n",
    "                                      'Должность по фед справочнику'], how='left')\n",
    "result = result[result['Удалить'].isnull()]\n"
   ]
  },
  {
   "cell_type": "code",
   "execution_count": 363,
   "id": "ef5fe55c",
   "metadata": {},
   "outputs": [],
   "source": [
    "# Удаление дубликатов из первого DataFrame\n",
    "guide_post['Delete'] = True\n",
    "result_filtered = pd.merge(result, guide_post, on=['Должность по фед справочнику'], how='left')\n"
   ]
  },
  {
   "cell_type": "code",
   "execution_count": 364,
   "id": "7f5f5fa9",
   "metadata": {},
   "outputs": [],
   "source": [
    "result_filtered = result_filtered[result_filtered['Delete']  == True]"
   ]
  },
  {
   "cell_type": "code",
   "execution_count": 365,
   "id": "c6eace0b",
   "metadata": {},
   "outputs": [],
   "source": [
    "resultSlide = pd.merge(result_filtered, medorganization, on='Краткое наименование организации', how='left')"
   ]
  },
  {
   "cell_type": "code",
   "execution_count": 366,
   "id": "a782aa03",
   "metadata": {},
   "outputs": [],
   "source": [
    "resultSlide.drop('Должность', axis=1, inplace=True)"
   ]
  },
  {
   "cell_type": "code",
   "execution_count": 367,
   "id": "dfe87942",
   "metadata": {},
   "outputs": [],
   "source": [
    "resultSlide.rename(columns={'Должность по фед справочнику': 'Должность'}, inplace=True)"
   ]
  },
  {
   "cell_type": "code",
   "execution_count": 368,
   "id": "b1e015e8",
   "metadata": {},
   "outputs": [],
   "source": [
    "itog1 = pd.pivot_table(resultSlide, \n",
    "                      index=['Организация', 'Должность'], \n",
    "                      columns=['Причина временного неисполнения функциональных обязанностей'], \n",
    "                      values='СНИЛС', \n",
    "                      aggfunc=pd.Series.nunique).fillna(0)\n",
    "itog1.reset_index(inplace=True)"
   ]
  },
  {
   "cell_type": "code",
   "execution_count": 369,
   "id": "cc2f41cd",
   "metadata": {},
   "outputs": [],
   "source": [
    "itog1_slide1 = pd.merge(itog1, employee_uchet, on=['Организация', 'Должность'], how='left').fillna(0)"
   ]
  },
  {
   "cell_type": "code",
   "execution_count": 370,
   "id": "a24d7e21",
   "metadata": {},
   "outputs": [],
   "source": [
    "itog1_slide1 = itog1_slide1[itog1_slide1['Проверка'] != 0]"
   ]
  },
  {
   "cell_type": "code",
   "execution_count": 371,
   "id": "5a6328ee",
   "metadata": {},
   "outputs": [],
   "source": [
    "itog2 = pd.pivot_table(resultSlide, \n",
    "                      index=['Организация', 'Должность'], \n",
    "                      values='СНИЛС', \n",
    "                      aggfunc=pd.Series.nunique)\n",
    "itog2.reset_index(inplace=True)"
   ]
  },
  {
   "cell_type": "code",
   "execution_count": 372,
   "id": "d8055b92",
   "metadata": {},
   "outputs": [],
   "source": [
    "itog2_slide1 = pd.merge(itog2, employee_uchet, on=['Организация', 'Должность'], how='left').fillna(0)"
   ]
  },
  {
   "cell_type": "code",
   "execution_count": 373,
   "id": "de899800",
   "metadata": {},
   "outputs": [
    {
     "data": {
      "text/html": [
       "<div>\n",
       "<style scoped>\n",
       "    .dataframe tbody tr th:only-of-type {\n",
       "        vertical-align: middle;\n",
       "    }\n",
       "\n",
       "    .dataframe tbody tr th {\n",
       "        vertical-align: top;\n",
       "    }\n",
       "\n",
       "    .dataframe thead th {\n",
       "        text-align: right;\n",
       "    }\n",
       "</style>\n",
       "<table border=\"1\" class=\"dataframe\">\n",
       "  <thead>\n",
       "    <tr style=\"text-align: right;\">\n",
       "      <th></th>\n",
       "      <th>Организация</th>\n",
       "      <th>Должность</th>\n",
       "      <th>СНИЛС</th>\n",
       "      <th>Проверка</th>\n",
       "    </tr>\n",
       "  </thead>\n",
       "  <tbody>\n",
       "    <tr>\n",
       "      <th>245</th>\n",
       "      <td>ГБУЗ ТО «ОНД»</td>\n",
       "      <td>врач-психиатр-нарколог</td>\n",
       "      <td>13</td>\n",
       "      <td>1.0</td>\n",
       "    </tr>\n",
       "  </tbody>\n",
       "</table>\n",
       "</div>"
      ],
      "text/plain": [
       "       Организация               Должность  СНИЛС  Проверка\n",
       "245  ГБУЗ ТО «ОНД»  врач-психиатр-нарколог     13       1.0"
      ]
     },
     "execution_count": 373,
     "metadata": {},
     "output_type": "execute_result"
    }
   ],
   "source": [
    "itog2_slide1[itog2_slide1['Организация'] == 'ГБУЗ ТО «ОНД»']"
   ]
  },
  {
   "cell_type": "code",
   "execution_count": 374,
   "id": "58a83e2a",
   "metadata": {},
   "outputs": [],
   "source": [
    "itog = pd.merge(itog2_slide1, itog1_slide1, on=['Организация', 'Должность', 'Проверка'], how='outer').fillna(0)"
   ]
  },
  {
   "cell_type": "code",
   "execution_count": 375,
   "id": "10bdead7",
   "metadata": {},
   "outputs": [],
   "source": [
    "guide_post2 = pd.merge(tablica_doljnost, post_df, on='Должность', how='inner')"
   ]
  },
  {
   "cell_type": "code",
   "execution_count": 376,
   "id": "4dd641d1",
   "metadata": {},
   "outputs": [],
   "source": [
    "itog_merge = pd.merge(guide_post2, itog, on=['Должность'], how='left')"
   ]
  },
  {
   "cell_type": "code",
   "execution_count": 377,
   "id": "b1937950",
   "metadata": {},
   "outputs": [],
   "source": [
    "itog_merge = itog_merge[itog_merge['Проверка'] != 0]"
   ]
  },
  {
   "cell_type": "code",
   "execution_count": 378,
   "id": "4d43dfc0",
   "metadata": {},
   "outputs": [],
   "source": [
    "itog_merge_mo = pd.merge(medorganization, itog_merge, on='Организация', how='left').dropna()"
   ]
  },
  {
   "cell_type": "code",
   "execution_count": 379,
   "id": "0d3096b2",
   "metadata": {},
   "outputs": [],
   "source": [
    "itog_merge_mo = itog_merge_mo[['Организация', 'Должность', 'СНИЛС', 'временная нетрудоспособность', \n",
    "                               'дополнительное профессиональное образование', 'иные причины', 'отпуск без сохранения заработной платы', \n",
    "                               'отпуск по беременности и родам', 'отпуск по уходу за ребенком']]"
   ]
  },
  {
   "cell_type": "code",
   "execution_count": 380,
   "id": "a67f1406",
   "metadata": {},
   "outputs": [
    {
     "data": {
      "text/html": [
       "<div>\n",
       "<style scoped>\n",
       "    .dataframe tbody tr th:only-of-type {\n",
       "        vertical-align: middle;\n",
       "    }\n",
       "\n",
       "    .dataframe tbody tr th {\n",
       "        vertical-align: top;\n",
       "    }\n",
       "\n",
       "    .dataframe thead th {\n",
       "        text-align: right;\n",
       "    }\n",
       "</style>\n",
       "<table border=\"1\" class=\"dataframe\">\n",
       "  <thead>\n",
       "    <tr style=\"text-align: right;\">\n",
       "      <th></th>\n",
       "      <th>Организация</th>\n",
       "      <th>Должность</th>\n",
       "      <th>СНИЛС</th>\n",
       "      <th>временная нетрудоспособность</th>\n",
       "      <th>дополнительное профессиональное образование</th>\n",
       "      <th>иные причины</th>\n",
       "      <th>отпуск без сохранения заработной платы</th>\n",
       "      <th>отпуск по беременности и родам</th>\n",
       "      <th>отпуск по уходу за ребенком</th>\n",
       "    </tr>\n",
       "  </thead>\n",
       "  <tbody>\n",
       "    <tr>\n",
       "      <th>220</th>\n",
       "      <td>ГБУЗ ТО «ОКПБ»</td>\n",
       "      <td>врач-психиатр детский участковый</td>\n",
       "      <td>7.0</td>\n",
       "      <td>0.0</td>\n",
       "      <td>0.0</td>\n",
       "      <td>0.0</td>\n",
       "      <td>0.0</td>\n",
       "      <td>0.0</td>\n",
       "      <td>1.0</td>\n",
       "    </tr>\n",
       "  </tbody>\n",
       "</table>\n",
       "</div>"
      ],
      "text/plain": [
       "        Организация                         Должность  СНИЛС  \\\n",
       "220  ГБУЗ ТО «ОКПБ»  врач-психиатр детский участковый    7.0   \n",
       "\n",
       "     временная нетрудоспособность  \\\n",
       "220                           0.0   \n",
       "\n",
       "     дополнительное профессиональное образование  иные причины  \\\n",
       "220                                          0.0           0.0   \n",
       "\n",
       "     отпуск без сохранения заработной платы  отпуск по беременности и родам  \\\n",
       "220                                     0.0                             0.0   \n",
       "\n",
       "     отпуск по уходу за ребенком  \n",
       "220                          1.0  "
      ]
     },
     "execution_count": 380,
     "metadata": {},
     "output_type": "execute_result"
    }
   ],
   "source": [
    "itog_merge_mo[itog_merge_mo['Организация'] == 'ГБУЗ ТО «ОКПБ»']"
   ]
  },
  {
   "cell_type": "code",
   "execution_count": 381,
   "id": "0a6329a2",
   "metadata": {},
   "outputs": [],
   "source": [
    "res = itog_merge_mo.sort_values(by=['Организация', 'Должность']).reset_index(drop=True)"
   ]
  },
  {
   "cell_type": "code",
   "execution_count": 382,
   "id": "209fdf5b",
   "metadata": {},
   "outputs": [],
   "source": [
    "res.rename(columns={'СНИЛС' : 'Всего'}, inplace=True)"
   ]
  },
  {
   "cell_type": "code",
   "execution_count": 383,
   "id": "a8c697a9",
   "metadata": {},
   "outputs": [
    {
     "name": "stderr",
     "output_type": "stream",
     "text": [
      "/tmp/ipykernel_7504/1761294361.py:2: FutureWarning: The provided callable <function sum at 0x7eff90181d80> is currently using DataFrameGroupBy.sum. In a future version of pandas, the provided callable will be used directly. To keep current behavior pass the string \"sum\" instead.\n",
      "  slide_1_column2 = pd.pivot_table(res,\n"
     ]
    }
   ],
   "source": [
    "res['Итого'] = res['Всего'] - res['временная нетрудоспособность'] - res['дополнительное профессиональное образование'] - res['иные причины'] - res['отпуск без сохранения заработной платы'] - res['отпуск по беременности и родам'] - res['отпуск по уходу за ребенком']\n",
    "slide_1_column2 = pd.pivot_table(res, \n",
    "                                 index='Организация', \n",
    "                                 values='Всего', \n",
    "                                 aggfunc=np.sum, \n",
    "                                 margins=True, \n",
    "                                 margins_name='Итого').reset_index()"
   ]
  },
  {
   "cell_type": "code",
   "execution_count": 384,
   "id": "8225e124",
   "metadata": {},
   "outputs": [],
   "source": [
    "slide_1_column2 = pd.merge(medorganization, slide_1_column2, on='Организация', how='outer')"
   ]
  },
  {
   "cell_type": "code",
   "execution_count": 385,
   "id": "d9e35467",
   "metadata": {},
   "outputs": [],
   "source": [
    "slide_1_column2 = slide_1_column2[(slide_1_column2['Краткое наименование организации'] != 'Тюменская больница ФГБУЗ ЗСМЦ ФМБА России') & \n",
    "                                  (slide_1_column2['Краткое наименование организации'] != 'Тобольская больница ФГБУЗ ЗСМЦ ФМБА России') & \n",
    "                                  (slide_1_column2['Краткое наименование организации'] != 'ГБУЗ ТО \"ЦПБС\"') & \n",
    "                                  (slide_1_column2['Краткое наименование организации'] != 'ГАУЗ ТО «Областной лечебно-реабилитационный центр»') & \n",
    "                                  (slide_1_column2['Краткое наименование организации'] != 'ГАУЗ ТО «Госпиталь для ветеранов войн»') & \n",
    "                                  (slide_1_column2['Краткое наименование организации'] != 'ГАУЗ ТО \"ОБЛАСТНОЙ ОФТАЛЬМОЛОГИЧЕСКИЙ ДИСПАНСЕР\"') & \n",
    "                                  (slide_1_column2['Краткое наименование организации'] != 'ГАУЗ ТО \"МКМЦ \"МЕДИЦИНСКИЙ ГОРОД\"') & \n",
    "                                  (slide_1_column2['Краткое наименование организации'] != 'ГАУЗ ТО \"МКДЦ\"') & \n",
    "                                  (slide_1_column2['Краткое наименование организации'] != 'ГАУЗ ТО \"ДЛРЦ \"НАДЕЖДА\"') &\n",
    "                                  (slide_1_column2['Краткое наименование организации'] != 'ГБУЗ ТО «ОКБ № 1»') &\n",
    "                                  (slide_1_column2['Краткое наименование организации'] != 'АО \"МСЧ \"НЕФТЯНИК\"') &\n",
    "                                  (slide_1_column2['Краткое наименование организации'] != 'ГБУЗ ТО \"ПЕРИНАТАЛЬНЫЙ ЦЕНТР\" (Г.ТЮМЕНЬ)')]"
   ]
  },
  {
   "cell_type": "code",
   "execution_count": 386,
   "id": "8f0805e7",
   "metadata": {},
   "outputs": [],
   "source": [
    "slide_1_column2 = slide_1_column2[['Организация', 'Всего']]\n",
    "slide_1_column2.reset_index(drop=True, inplace=True)\n",
    "slide_1_column2.rename(columns={'Организация': 'Наименование МО'}, inplace=True)\n",
    "slide_1_column2['Наименование МО'] = slide_1_column2['Наименование МО'].fillna('Итого')"
   ]
  },
  {
   "cell_type": "markdown",
   "id": "74a12f53",
   "metadata": {},
   "source": [
    "##### Слайд 1 Столбец 3"
   ]
  },
  {
   "cell_type": "code",
   "execution_count": 387,
   "id": "fbae0b71",
   "metadata": {},
   "outputs": [
    {
     "name": "stderr",
     "output_type": "stream",
     "text": [
      "/tmp/ipykernel_7504/3511262596.py:1: FutureWarning: The provided callable <function sum at 0x7eff90181d80> is currently using DataFrameGroupBy.sum. In a future version of pandas, the provided callable will be used directly. To keep current behavior pass the string \"sum\" instead.\n",
      "  slide_1_column3 = pd.pivot_table(res,\n"
     ]
    }
   ],
   "source": [
    "slide_1_column3 = pd.pivot_table(res, \n",
    "                                 index='Организация', \n",
    "                                 values='Итого', \n",
    "                                 aggfunc=np.sum, \n",
    "                                 margins=True, \n",
    "                                 margins_name='Итого').reset_index()\n",
    "slide_1_column3 = pd.merge(medorganization, slide_1_column3, on='Организация', how='outer')\n",
    "slide_1_column3 = slide_1_column3[(slide_1_column3['Краткое наименование организации'] != 'Тюменская больница ФГБУЗ ЗСМЦ ФМБА России') & \n",
    "                                  (slide_1_column3['Краткое наименование организации'] != 'Тобольская больница ФГБУЗ ЗСМЦ ФМБА России') & \n",
    "                                  (slide_1_column3['Краткое наименование организации'] != 'ГБУЗ ТО \"ЦПБС\"') & \n",
    "                                  (slide_1_column3['Краткое наименование организации'] != 'ГАУЗ ТО «Областной лечебно-реабилитационный центр»') & \n",
    "                                  (slide_1_column3['Краткое наименование организации'] != 'ГАУЗ ТО «Госпиталь для ветеранов войн»') & \n",
    "                                  (slide_1_column3['Краткое наименование организации'] != 'ГАУЗ ТО \"ОБЛАСТНОЙ ОФТАЛЬМОЛОГИЧЕСКИЙ ДИСПАНСЕР\"') & \n",
    "                                  (slide_1_column3['Краткое наименование организации'] != 'ГАУЗ ТО \"МКМЦ \"МЕДИЦИНСКИЙ ГОРОД\"') & \n",
    "                                  (slide_1_column3['Краткое наименование организации'] != 'ГАУЗ ТО \"МКДЦ\"') & \n",
    "                                  (slide_1_column3['Краткое наименование организации'] != 'ГАУЗ ТО \"ДЛРЦ \"НАДЕЖДА\"') &\n",
    "                                  (slide_1_column3['Краткое наименование организации'] != 'ГБУЗ ТО «ОКБ № 1»') &\n",
    "                                  (slide_1_column3['Краткое наименование организации'] != 'АО \"МСЧ \"НЕФТЯНИК\"') &\n",
    "                                  (slide_1_column3['Краткое наименование организации'] != 'ГБУЗ ТО \"ПЕРИНАТАЛЬНЫЙ ЦЕНТР\" (Г.ТЮМЕНЬ)')]\n",
    "slide_1_column3 = slide_1_column3[['Организация', 'Итого']]\n",
    "slide_1_column3.reset_index(drop=True, inplace=True)\n",
    "slide_1_column3.rename(columns={'Организация': 'Наименование МО'}, inplace=True)\n",
    "slide_1_column3['Наименование МО'] = slide_1_column3['Наименование МО'].fillna('Итого')"
   ]
  },
  {
   "cell_type": "markdown",
   "id": "e86e959a",
   "metadata": {},
   "source": [
    "###### Создаем слайд 1 столбец 4\n",
    "* Файл original выгружается из аналит расписания за период в одну неделю вперед по пути Статистика Здравоохранение - Организация работы фронт-офиса - Деталзация расписания врачей."
   ]
  },
  {
   "cell_type": "code",
   "execution_count": 388,
   "id": "ccdf33fd",
   "metadata": {},
   "outputs": [],
   "source": [
    "original = pd.read_excel(ORIGINAL_ANALIT)"
   ]
  },
  {
   "cell_type": "code",
   "execution_count": 389,
   "id": "43eed037",
   "metadata": {},
   "outputs": [],
   "source": [
    "original = original[(original['Медицинская организация'] != 'Всего')]\n",
    "analit_merge = pd.merge(original, medorganization, on='Медицинская организация', how='left')\n",
    "analit_result  = analit_merge[['Медицинская организация', 'Краткое наименование организации', 'Отделение', 'Отделение (адрес)',\n",
    "       'Должность', 'Специальность', 'Врач', 'Дней расписания', 'Слотов на 7 дней', 'Слотов на 14 дней', 'Слотов на 30 дней',\n",
    "       'Формиров. расписания на 7 дней, %', 'Формиров. расписания на 14 дней, %', 'Формиров. расписания на 30 дней, %',\n",
    "       'Слотов первичного приёма на 7 дней', 'Доля первичного приёма на 7 дней, %', 'Слотов первичного приёма на 14 дней',\n",
    "       'Доля первичного приёма на 14 дней, %', 'Слотов первичного приёма на 30 дней', 'Доля первичного приёма на 30 дней, %']]\n",
    "delete_rows2 = pd.read_excel(GUIDE_DELETE_MED, skiprows=6)\n",
    "delete_rows2.rename(columns={'Unnamed: 0': 'СНИЛС', \n",
    "                    'Unnamed: 1': 'Фамилия', \n",
    "                    'Unnamed: 2': 'Имя', \n",
    "                    'Unnamed: 3': 'Отчество', \n",
    "                    'Unnamed: 4': 'Пол', \n",
    "                    'Unnamed: 5': 'Дата рождения', \n",
    "                    'Unnamed: 6': 'Сведения о трудоустройстве'}, inplace=True)\n",
    "delete_rows2 = delete_rows2[['Краткое наименование организации', 'Наименование структурного подразделения', 'Должность по фед справочнику']]\n",
    "delete_rows2 = delete_rows2.rename(columns={'Должность по фед справочнику' : 'Должность', 'Наименование структурного подразделения': 'Отделение'})\n",
    "delete_rows2['Удалить'] = 'True'\n",
    "result_original = pd.merge(analit_result, delete_rows2,on=['Краткое наименование организации', \n",
    "                                      'Отделение', \n",
    "                                      'Должность'], how='left')\n",
    "result_original = result_original[result_original['Удалить'] != 'True']"
   ]
  },
  {
   "cell_type": "markdown",
   "id": "52670626",
   "metadata": {},
   "source": [
    "###### Порядок работы с данными\n",
    "* Вначале смержить со справочником медорганизаций\n",
    "* потом смержить с таблицей исключений\n",
    "* Потом убрать исключения\n",
    "* Только затем мержить с остальными данными"
   ]
  },
  {
   "cell_type": "code",
   "execution_count": 390,
   "id": "74a6f8a1",
   "metadata": {},
   "outputs": [],
   "source": [
    "resultSlide1_4 = pd.merge(result_original, medorganization, on=['Медицинская организация', 'Краткое наименование организации'], how='outer')[[ 'Организация', 'Отделение', 'Отделение (адрес)', 'Должность', 'Специальность', 'Врач',\n",
    "'Дней расписания', 'Слотов на 7 дней', 'Слотов на 14 дней',\n",
    "'Слотов на 30 дней', 'Формиров. расписания на 7 дней, %',\n",
    "'Формиров. расписания на 14 дней, %',\n",
    "'Формиров. расписания на 30 дней, %',\n",
    "'Слотов первичного приёма на 7 дней',\n",
    "'Доля первичного приёма на 7 дней, %',\n",
    "'Слотов первичного приёма на 14 дней',\n",
    "'Доля первичного приёма на 14 дней, %',\n",
    "'Слотов первичного приёма на 30 дней',\n",
    "'Доля первичного приёма на 30 дней, %', 'Удалить']]"
   ]
  },
  {
   "cell_type": "code",
   "execution_count": 391,
   "id": "7fbe6cc4",
   "metadata": {},
   "outputs": [
    {
     "name": "stderr",
     "output_type": "stream",
     "text": [
      "/tmp/ipykernel_7504/4259935434.py:1: FutureWarning: Downcasting object dtype arrays on .fillna, .ffill, .bfill is deprecated and will change in a future version. Call result.infer_objects(copy=False) instead. To opt-in to the future behavior, set `pd.set_option('future.no_silent_downcasting', True)`\n",
      "  resultSlide1_4 = pd.merge(resultSlide1_4, employee_uchet, on=['Организация', 'Должность'], how='left').fillna(0)\n"
     ]
    }
   ],
   "source": [
    "resultSlide1_4 = pd.merge(resultSlide1_4, employee_uchet, on=['Организация', 'Должность'], how='left').fillna(0)"
   ]
  },
  {
   "cell_type": "code",
   "execution_count": 392,
   "id": "6bb06c0f",
   "metadata": {},
   "outputs": [],
   "source": [
    "resultSlide1_4 = resultSlide1_4[resultSlide1_4['Проверка'] != 0]"
   ]
  },
  {
   "cell_type": "code",
   "execution_count": 393,
   "id": "65c08d54",
   "metadata": {},
   "outputs": [],
   "source": [
    "table_analit_doljnost = pd.read_excel(DOLJNOST_ANALIT)\n",
    "merge = pd.merge(resultSlide1_4, table_analit_doljnost, on = ['Должность', 'Специальность'], how='right')"
   ]
  },
  {
   "cell_type": "code",
   "execution_count": 394,
   "id": "363c99ec",
   "metadata": {},
   "outputs": [
    {
     "name": "stderr",
     "output_type": "stream",
     "text": [
      "/tmp/ipykernel_7504/515607811.py:3: FutureWarning: Downcasting behavior in `replace` is deprecated and will be removed in a future version. To retain the old behavior, explicitly call `result.infer_objects(copy=False)`. To opt-in to the future behavior, set `pd.set_option('future.no_silent_downcasting', True)`\n",
      "  df1['Доля первичного приёма на 7 дней, %'] = df1['Доля первичного приёма на 7 дней, %'].replace('-', 0)\n",
      "/tmp/ipykernel_7504/515607811.py:4: FutureWarning: Downcasting behavior in `replace` is deprecated and will be removed in a future version. To retain the old behavior, explicitly call `result.infer_objects(copy=False)`. To opt-in to the future behavior, set `pd.set_option('future.no_silent_downcasting', True)`\n",
      "  df1['Доля первичного приёма на 14 дней, %'] = df1['Доля первичного приёма на 14 дней, %'].replace('-', 0)\n",
      "/tmp/ipykernel_7504/515607811.py:6: FutureWarning: The provided callable <function sum at 0x7eff90181d80> is currently using DataFrameGroupBy.sum. In a future version of pandas, the provided callable will be used directly. To keep current behavior pass the string \"sum\" instead.\n",
      "  svod_slotov = pd.pivot_table(df1, values=['Слотов на 7 дней',\n"
     ]
    }
   ],
   "source": [
    "df1 = merge\n",
    "df2 = merge\n",
    "df1['Доля первичного приёма на 7 дней, %'] = df1['Доля первичного приёма на 7 дней, %'].replace('-', 0)\n",
    "df1['Доля первичного приёма на 14 дней, %'] = df1['Доля первичного приёма на 14 дней, %'].replace('-', 0)\n",
    "df1['Доля первичного приёма на 30 дней, %'] = df1['Доля первичного приёма на 30 дней, %'].replace('-', 0)\n",
    "svod_slotov = pd.pivot_table(df1, values=['Слотов на 7 дней', \n",
    "                                          'Слотов на 14 дней', \n",
    "                                          'Слотов на 30 дней', \n",
    "                                          'Слотов первичного приёма на 7 дней', \n",
    "                                          'Слотов первичного приёма на 14 дней', \n",
    "                                          'Слотов первичного приёма на 30 дней'], \n",
    "                             index=['Организация', 'Должность'], \n",
    "                             aggfunc=np.sum, \n",
    "                             fill_value=0)\n",
    "svod_slotov.reset_index(drop=False, inplace=True)\n",
    "def proz7days(row):\n",
    "    if row['Слотов первичного приёма на 7 дней'] != 0 and row['Слотов на 7 дней'] != 0:\n",
    "        val = round(row['Слотов первичного приёма на 7 дней'] / row['Слотов на 7 дней'] * 100)\n",
    "    else:\n",
    "        val = 0\n",
    "    return val\n",
    "svod_slotov['% конкурентных слотов на 7 дней'] = svod_slotov.apply(proz7days, axis = 1)\n",
    "def proz14days(row):\n",
    "    if row['Слотов первичного приёма на 14 дней'] != 0 and row['Слотов на 14 дней'] != 0:\n",
    "        val = round(row['Слотов первичного приёма на 14 дней'] / row['Слотов на 14 дней'] * 100)\n",
    "    else:\n",
    "        val = 0\n",
    "    return val\n",
    "svod_slotov['% конкурентных слотов на 14 дней'] = svod_slotov.apply(proz14days, axis = 1)\n",
    "def proz30days(row):\n",
    "    if row['Слотов первичного приёма на 30 дней'] != 0 and row['Слотов на 30 дней'] != 0:\n",
    "        val = round(row['Слотов первичного приёма на 30 дней'] / row['Слотов на 30 дней'] * 100)\n",
    "    else:\n",
    "        val = 0\n",
    "    return val\n",
    "svod_slotov['% конкурентных слотов на 30 дней'] = svod_slotov.apply(proz30days, axis = 1)\n",
    "df2_7days = df2[df2['Доля первичного приёма на 7 дней, %'] != '-']\n",
    "df2_14days = df2[df2['Доля первичного приёма на 14 дней, %'] != '-']\n",
    "df2_30days = df2[df2['Доля первичного приёма на 30 дней, %'] != '-']\n",
    "unigue_7days = pd.pivot_table(df2_7days, values=['Врач'], \n",
    "                             index=['Организация', 'Должность'], \n",
    "                             aggfunc=pd.Series.nunique, \n",
    "                             fill_value=0)\n",
    "unigue_14days = pd.pivot_table(df2_14days, values=['Врач'], \n",
    "                             index=['Организация', 'Должность'], \n",
    "                             aggfunc=pd.Series.nunique, \n",
    "                             fill_value=0)\n",
    "unigue_30days = pd.pivot_table(df2_30days, values=['Врач'], \n",
    "                             index=['Организация', 'Должность'], \n",
    "                             aggfunc=pd.Series.nunique, \n",
    "                             fill_value=0)\n",
    "unigue_7days.reset_index(drop=False, inplace=True)\n",
    "unigue_14days.reset_index(drop=False, inplace=True)\n",
    "unigue_30days.reset_index(drop=False, inplace=True)\n",
    "unigue_7days.rename(columns = {'Врач': 'кол-во сотрудников с сформированным расписанием на 7 дней'}, inplace=True)\n",
    "unigue_14days.rename(columns = {'Врач': 'кол-во сотрудников с сформированным расписанием на 14 дней'}, inplace=True)\n",
    "unigue_30days.rename(columns = {'Врач': 'кол-во сотрудников с сформированным расписанием на 30 дней'}, inplace=True)\n",
    "all_days = [svod_slotov, unigue_7days, unigue_14days, unigue_30days]\n",
    "itog = reduce(lambda left,right: pd.merge(left,right,on=['Организация', 'Должность'], how='outer'), all_days).fillna('none')"
   ]
  },
  {
   "cell_type": "code",
   "execution_count": 395,
   "id": "5134ed45",
   "metadata": {},
   "outputs": [],
   "source": [
    "employee_with_schedule =itog.copy()"
   ]
  },
  {
   "cell_type": "code",
   "execution_count": 396,
   "id": "c09ae64a",
   "metadata": {},
   "outputs": [],
   "source": [
    "employee_with_schedule = employee_with_schedule[['Организация', 'Должность', 'кол-во сотрудников с сформированным расписанием на 7 дней', 'Слотов на 7 дней', 'Слотов первичного приёма на 7 дней']]"
   ]
  },
  {
   "cell_type": "code",
   "execution_count": 397,
   "id": "78c08093",
   "metadata": {},
   "outputs": [],
   "source": [
    "itog = itog[['Организация', 'кол-во сотрудников с сформированным расписанием на 7 дней']]\n",
    "itog.rename(columns={'кол-во сотрудников с сформированным расписанием на 7 дней': 'Кол-во физ-лиц на которые заведено расписание'}, inplace=True)"
   ]
  },
  {
   "cell_type": "code",
   "execution_count": 398,
   "id": "3672fd40",
   "metadata": {},
   "outputs": [
    {
     "name": "stderr",
     "output_type": "stream",
     "text": [
      "/tmp/ipykernel_7504/3990487209.py:1: FutureWarning: The provided callable <function sum at 0x7eff90181d80> is currently using DataFrameGroupBy.sum. In a future version of pandas, the provided callable will be used directly. To keep current behavior pass the string \"sum\" instead.\n",
      "  slide1_column4 = pd.pivot_table(itog, index='Организация', values=['Кол-во физ-лиц на которые заведено расписание'], aggfunc=np.sum).reset_index()\n"
     ]
    }
   ],
   "source": [
    "slide1_column4 = pd.pivot_table(itog, index='Организация', values=['Кол-во физ-лиц на которые заведено расписание'], aggfunc=np.sum).reset_index()\n",
    "slide1_column4.rename(columns={'Организация': 'Наименование МО'}, inplace=True)"
   ]
  },
  {
   "cell_type": "code",
   "execution_count": 399,
   "id": "de1e94dd",
   "metadata": {},
   "outputs": [],
   "source": [
    "# Добавление строки \"Итого\" с числовым индексом\n",
    "total_row = pd.Series(['Итого', slide1_column4['Кол-во физ-лиц на которые заведено расписание'].sum()], index=slide1_column4.columns)\n",
    "slide1_column4 = pd.concat([slide1_column4, pd.DataFrame([total_row])], ignore_index=True)\n",
    "# slide1_column4 = slide1_column4.append(total_row, ignore_index=True)"
   ]
  },
  {
   "cell_type": "markdown",
   "id": "b8408bf2",
   "metadata": {},
   "source": [
    "##### Создаем Слайд 1 столбец 6 Здесь мы считаем тех кто в отпуске по беременности и родам"
   ]
  },
  {
   "cell_type": "code",
   "execution_count": 400,
   "id": "64feec55",
   "metadata": {},
   "outputs": [],
   "source": [
    "decree = res[['Организация', 'отпуск по беременности и родам', 'отпуск по уходу за ребенком']]"
   ]
  },
  {
   "cell_type": "code",
   "execution_count": 401,
   "id": "46ef5551",
   "metadata": {},
   "outputs": [
    {
     "name": "stderr",
     "output_type": "stream",
     "text": [
      "/tmp/ipykernel_7504/1532569484.py:1: SettingWithCopyWarning: \n",
      "A value is trying to be set on a copy of a slice from a DataFrame.\n",
      "Try using .loc[row_indexer,col_indexer] = value instead\n",
      "\n",
      "See the caveats in the documentation: https://pandas.pydata.org/pandas-docs/stable/user_guide/indexing.html#returning-a-view-versus-a-copy\n",
      "  decree['Кол-во физ-лиц в ФРМР в ДО'] = decree['отпуск по беременности и родам'] + decree['отпуск по уходу за ребенком']\n"
     ]
    }
   ],
   "source": [
    "decree['Кол-во физ-лиц в ФРМР в ДО'] = decree['отпуск по беременности и родам'] + decree['отпуск по уходу за ребенком']"
   ]
  },
  {
   "cell_type": "code",
   "execution_count": 402,
   "id": "2b8d41cf",
   "metadata": {},
   "outputs": [
    {
     "name": "stderr",
     "output_type": "stream",
     "text": [
      "/tmp/ipykernel_7504/3786653454.py:1: FutureWarning: The provided callable <function sum at 0x7eff90181d80> is currently using DataFrameGroupBy.sum. In a future version of pandas, the provided callable will be used directly. To keep current behavior pass the string \"sum\" instead.\n",
      "  slide_1_column6 = pd.pivot_table(decree,\n"
     ]
    }
   ],
   "source": [
    "slide_1_column6 = pd.pivot_table(decree, \n",
    "                                 index='Организация', \n",
    "                                 values='Кол-во физ-лиц в ФРМР в ДО', \n",
    "                                 aggfunc=np.sum, \n",
    "                                 margins=True, \n",
    "                                 margins_name='Итого').reset_index()\n",
    "slide_1_column6.rename(columns={'Организация': 'Наименование МО'}, inplace=True)"
   ]
  },
  {
   "cell_type": "markdown",
   "id": "594b6680",
   "metadata": {},
   "source": [
    "##### Считаем 7 столбец 1 слайда"
   ]
  },
  {
   "cell_type": "code",
   "execution_count": 403,
   "id": "c3d315ff",
   "metadata": {},
   "outputs": [
    {
     "name": "stderr",
     "output_type": "stream",
     "text": [
      "/tmp/ipykernel_7504/2237574477.py:1: FutureWarning: The provided callable <function sum at 0x7eff90181d80> is currently using DataFrameGroupBy.sum. In a future version of pandas, the provided callable will be used directly. To keep current behavior pass the string \"sum\" instead.\n",
      "  slide_1_column7 = pd.pivot_table(frmr_all_uchet, index='Организация', values='Занятых штатных единиц', aggfunc=np.sum, margins=True, margins_name='Итого').round(2).reset_index()\n"
     ]
    }
   ],
   "source": [
    "slide_1_column7 = pd.pivot_table(frmr_all_uchet, index='Организация', values='Занятых штатных единиц', aggfunc=np.sum, margins=True, margins_name='Итого').round(2).reset_index()"
   ]
  },
  {
   "cell_type": "code",
   "execution_count": 404,
   "id": "79e90eb9",
   "metadata": {},
   "outputs": [],
   "source": [
    "slide_1_column7.rename(columns={'Организация': 'Наименование МО', 'Занятых штатных единиц': 'Кол-во ставок в ШР МО'}, inplace=True)"
   ]
  },
  {
   "cell_type": "code",
   "execution_count": 405,
   "id": "6f1b2b1c",
   "metadata": {},
   "outputs": [],
   "source": [
    "slide_1_column7['Кол-во ставок в ШР МО'] = slide_1_column7['Кол-во ставок в ШР МО'].round(2)"
   ]
  },
  {
   "cell_type": "markdown",
   "id": "c7b3b4f2",
   "metadata": {},
   "source": [
    "#### Подготовка данных для слайда 2"
   ]
  },
  {
   "cell_type": "markdown",
   "id": "8172aad3",
   "metadata": {},
   "source": [
    "1. Рассчитать долю фактического количества слотов от расчетных %\n",
    "2. Рассчитать долю фактического количества слотов от расчетных у врачей участковой службы, %\n",
    "3. Рассчитать долю конкурентных слотов от  общего количества слотов, %\n",
    "4. Рассчитать доля конкурентных слотов участковой службы от общего количества слотов, %\n",
    "5. Рассчитать итоги для каждого столбца с долей\n",
    "6. Объединить в один датафрейм\n",
    "7. Датафрейм использовать для построения таблицы и добавить таблицу на слайд\n",
    "8. Настроить форматирование по условиям в таблице\n",
    "9. Настроить оформление слайда"
   ]
  },
  {
   "cell_type": "code",
   "execution_count": 406,
   "id": "c65abe3b",
   "metadata": {},
   "outputs": [
    {
     "name": "stderr",
     "output_type": "stream",
     "text": [
      "/tmp/ipykernel_7504/2565044582.py:7: FutureWarning: The provided callable <function sum at 0x7eff90181d80> is currently using DataFrameGroupBy.sum. In a future version of pandas, the provided callable will be used directly. To keep current behavior pass the string \"sum\" instead.\n",
      "  pivot_table_frmr = pd.pivot_table(frmr_all_slide_2, index='Организация', values='Сумма слотов на врача', aggfunc=np.sum, margins=True, margins_name='Итого')\n"
     ]
    }
   ],
   "source": [
    "frmr_all_slide_2 = frmr_all_uchet\n",
    "frmr_all_slide_2 = frmr_all_slide_2[['Организация', 'Структурное подразделение', 'Отделение стационара', 'Должность', 'Штатных единиц', 'Занятых штатных единиц', 'В т.ч. внешнее совместительство']]\n",
    "norma = pd.read_excel(NORMA_SLOTOV)\n",
    "frmr_all_slide_2 = pd.merge(frmr_all_uchet, norma, how='left', on='Должность')\n",
    "frmr_all_slide_2 = frmr_all_slide_2[frmr_all_slide_2['Отделение стационара'] == 0]\n",
    "frmr_all_slide_2['Сумма слотов на врача'] = frmr_all_slide_2['Занятых штатных единиц'] * frmr_all_slide_2['Норма слотов']\n",
    "pivot_table_frmr = pd.pivot_table(frmr_all_slide_2, index='Организация', values='Сумма слотов на врача', aggfunc=np.sum, margins=True, margins_name='Итого')\n",
    "pivot_table_frmr = pivot_table_frmr.reset_index()"
   ]
  },
  {
   "cell_type": "markdown",
   "id": "89574f38",
   "metadata": {},
   "source": [
    "#### Обрабатываю данные показателей записи на прием к врачу"
   ]
  },
  {
   "cell_type": "code",
   "execution_count": 407,
   "id": "907999be",
   "metadata": {},
   "outputs": [],
   "source": [
    "indi = pd.read_excel(RECORD_DOCTORS, skiprows=[0, 1, 2, 3, 4])"
   ]
  },
  {
   "cell_type": "code",
   "execution_count": 408,
   "id": "9c802c7b",
   "metadata": {},
   "outputs": [],
   "source": [
    "indicators = indi.copy()"
   ]
  },
  {
   "cell_type": "code",
   "execution_count": 409,
   "id": "9e283c7c",
   "metadata": {},
   "outputs": [],
   "source": [
    "indicators.rename(columns={'Unnamed: 0': 'МО', 'Unnamed: 3': 'Должность'}, inplace=True)\n",
    "indicators = indicators[['МО', 'Должность', 'Общее число слотов в расписании']].fillna(0)\n",
    "indicators.rename(columns={'МО': 'Медицинская организация'}, inplace=True)"
   ]
  },
  {
   "cell_type": "code",
   "execution_count": 410,
   "id": "60955c92",
   "metadata": {},
   "outputs": [],
   "source": [
    "indicator_mo = pd.merge(indicators, medorganization, how='left', on='Медицинская организация').dropna()"
   ]
  },
  {
   "cell_type": "code",
   "execution_count": 411,
   "id": "a4c67368",
   "metadata": {},
   "outputs": [],
   "source": [
    "indicator_mo = indicator_mo[['Организация', 'Должность', 'Общее число слотов в расписании']]"
   ]
  },
  {
   "cell_type": "code",
   "execution_count": 412,
   "id": "a8401b5d",
   "metadata": {},
   "outputs": [
    {
     "name": "stderr",
     "output_type": "stream",
     "text": [
      "/tmp/ipykernel_7504/193165115.py:1: UserWarning: Boolean Series key will be reindexed to match DataFrame index.\n",
      "  indicator_mo = indicator_mo[(indicator_mo['Должность'] == 'врач - детский хирург') |\n"
     ]
    }
   ],
   "source": [
    "indicator_mo = indicator_mo[(indicator_mo['Должность'] == 'врач - детский хирург') | \n",
    "            (indicator_mo['Должность'] == 'врач общей практики (семейный врач)') |\n",
    "            (indicator_mo['Должность'] ==  'врач-акушер-гинеколог') |\n",
    "            (indicator_mo['Должность'] ==  'врач-оториноларинголог') |\n",
    "            (indicator_mo['Должность'] ==  'врач-офтальмолог') |\n",
    "            (indicator_mo['Должность'] ==  'врач-педиатр участковый') |\n",
    "            (indicator_mo['Должность'] ==  'врач-психиатр детский') |\n",
    "            (indicator_mo['Должность'] ==  'врач-психиатр-нарколог') |\n",
    "            (indicator_mo['Должность'] ==  'врач-стоматолог') |\n",
    "            (indicator_mo['Должность'] ==  'врач-стоматолог детский') |\n",
    "            (indicator_mo['Должность'] ==  'врач-стоматолог-терапевт') |\n",
    "            (indicator_mo['Должность'] ==  'врач-терапевт участковый') |\n",
    "            (indicator_mo['Должность'] ==  'врач-фтизиатр') |\n",
    "            (indicators['Должность'] ==  'врач-фтизиатр участковый') |\n",
    "            (indicator_mo['Должность'] ==  'врач-хирург') |\n",
    "            (indicator_mo['Должность'] ==  'врач-психиатр детский участковый')]"
   ]
  },
  {
   "cell_type": "markdown",
   "id": "d27d6c8c",
   "metadata": {},
   "source": [
    "##### Проверка с таблицей с единичками по должностям, исключение из расчета должности которые считать не следует"
   ]
  },
  {
   "cell_type": "code",
   "execution_count": 413,
   "id": "78d3e917",
   "metadata": {},
   "outputs": [],
   "source": [
    "indicator_mo_uchet = pd.merge(indicator_mo, employee_uchet, on=['Организация', 'Должность'], how='left').fillna(0)"
   ]
  },
  {
   "cell_type": "code",
   "execution_count": 414,
   "id": "01e3b385",
   "metadata": {},
   "outputs": [],
   "source": [
    "indicator_mo_uchet = indicator_mo_uchet[indicator_mo_uchet['Проверка'] != 0]"
   ]
  },
  {
   "cell_type": "markdown",
   "id": "1c017f74",
   "metadata": {},
   "source": [
    "1. Расчет показателя 'Доля фактического количества слотов от расчетных, %'"
   ]
  },
  {
   "cell_type": "code",
   "execution_count": 415,
   "id": "7ddf7ba9",
   "metadata": {},
   "outputs": [
    {
     "name": "stderr",
     "output_type": "stream",
     "text": [
      "/tmp/ipykernel_7504/2200017004.py:1: FutureWarning: The provided callable <function sum at 0x7eff90181d80> is currently using DataFrameGroupBy.sum. In a future version of pandas, the provided callable will be used directly. To keep current behavior pass the string \"sum\" instead.\n",
      "  fact_slots = pd.pivot_table(indicator_mo_uchet, index='Организация', values='Общее число слотов в расписании', aggfunc=np.sum, margins=True, margins_name='Итого').reset_index()\n"
     ]
    }
   ],
   "source": [
    "fact_slots = pd.pivot_table(indicator_mo_uchet, index='Организация', values='Общее число слотов в расписании', aggfunc=np.sum, margins=True, margins_name='Итого').reset_index()"
   ]
  },
  {
   "cell_type": "code",
   "execution_count": 416,
   "id": "453f9e1b",
   "metadata": {},
   "outputs": [],
   "source": [
    "itog_slots = pd.merge(fact_slots, pivot_table_frmr, on='Организация')"
   ]
  },
  {
   "cell_type": "code",
   "execution_count": 417,
   "id": "798047c0",
   "metadata": {},
   "outputs": [],
   "source": [
    "itog_slots['Доля фактического количества слотов от расчетных, не менее 80%'] = round(itog_slots['Общее число слотов в расписании'] / itog_slots['Сумма слотов на врача'] * 100, 2)\n",
    "itog_slots = itog_slots[['Организация', 'Доля фактического количества слотов от расчетных, не менее 80%']]\n",
    "itog_slots = itog_slots[itog_slots['Организация'] != 'ПЦ_Тюмень']\n",
    "itog_slots = itog_slots[itog_slots['Организация'] != 'ОКБ1']\n",
    "itog_slots.reset_index(drop=True, inplace=True)"
   ]
  },
  {
   "cell_type": "markdown",
   "id": "f50d60d1",
   "metadata": {},
   "source": [
    "2. Расчет показателя 'Доля фактического количества слотов от расчетных у врачей участковой службы, %'"
   ]
  },
  {
   "cell_type": "markdown",
   "id": "8f3d036c",
   "metadata": {},
   "source": [
    "##### считаем норму для участковой службы"
   ]
  },
  {
   "cell_type": "code",
   "execution_count": 418,
   "id": "ae8e486e",
   "metadata": {},
   "outputs": [],
   "source": [
    "frmr_uchastkov = frmr_all_merge[(frmr_all_merge['Должность'] ==  'врач-педиатр участковый') |  (frmr_all_merge['Должность'] ==  'врач-терапевт участковый')]"
   ]
  },
  {
   "cell_type": "code",
   "execution_count": 419,
   "id": "6533c498",
   "metadata": {},
   "outputs": [],
   "source": [
    "frmr_uchastkov = pd.merge(frmr_uchastkov, norma, how='left', on='Должность')"
   ]
  },
  {
   "cell_type": "code",
   "execution_count": 420,
   "id": "e1db9ab4",
   "metadata": {},
   "outputs": [],
   "source": [
    "frmr_uchastkov['Норма штатных единиц'] = frmr_uchastkov['Норма слотов'] * frmr_uchastkov['Занятых штатных единиц']"
   ]
  },
  {
   "cell_type": "code",
   "execution_count": 421,
   "id": "529eca96",
   "metadata": {},
   "outputs": [
    {
     "name": "stderr",
     "output_type": "stream",
     "text": [
      "/tmp/ipykernel_7504/4131419777.py:1: FutureWarning: The provided callable <function sum at 0x7eff90181d80> is currently using DataFrameGroupBy.sum. In a future version of pandas, the provided callable will be used directly. To keep current behavior pass the string \"sum\" instead.\n",
      "  pivot_table_frmr_uchastkov = pd.pivot_table(frmr_uchastkov, index='Организация', values='Норма штатных единиц', aggfunc=np.sum, margins=True, margins_name='Итого')\n"
     ]
    }
   ],
   "source": [
    "pivot_table_frmr_uchastkov = pd.pivot_table(frmr_uchastkov, index='Организация', values='Норма штатных единиц', aggfunc=np.sum, margins=True, margins_name='Итого')\n",
    "pivot_table_frmr_uchastkov = pivot_table_frmr_uchastkov.reset_index()"
   ]
  },
  {
   "cell_type": "code",
   "execution_count": 422,
   "id": "8a031e81",
   "metadata": {},
   "outputs": [],
   "source": [
    "pivot_table_frmr_uchastkov = pivot_table_frmr_uchastkov[['Организация', 'Норма штатных единиц']]"
   ]
  },
  {
   "cell_type": "markdown",
   "id": "8da083cf",
   "metadata": {},
   "source": [
    "###### считаем факт для участковой службы"
   ]
  },
  {
   "cell_type": "code",
   "execution_count": 423,
   "id": "285721bc",
   "metadata": {},
   "outputs": [],
   "source": [
    "indicator_uchaskov = indicator_mo[(indicator_mo['Должность'] ==  'врач-педиатр участковый') |  (indicator_mo['Должность'] ==  'врач-терапевт участковый')]"
   ]
  },
  {
   "cell_type": "code",
   "execution_count": 424,
   "id": "7bb1648d",
   "metadata": {},
   "outputs": [],
   "source": [
    "indicator_mo_uchet_uchastkov = pd.merge(indicator_uchaskov, employee_uchet, on=['Организация', 'Должность'], how='left').fillna(0)"
   ]
  },
  {
   "cell_type": "code",
   "execution_count": 425,
   "id": "8f47bd29",
   "metadata": {},
   "outputs": [],
   "source": [
    "indicator_mo_uchet_uchastkov = indicator_mo_uchet_uchastkov[indicator_mo_uchet_uchastkov['Проверка'] != 0]"
   ]
  },
  {
   "cell_type": "code",
   "execution_count": 426,
   "id": "4b9bceb9",
   "metadata": {},
   "outputs": [
    {
     "name": "stderr",
     "output_type": "stream",
     "text": [
      "/tmp/ipykernel_7504/3153925833.py:1: FutureWarning: The provided callable <function sum at 0x7eff90181d80> is currently using DataFrameGroupBy.sum. In a future version of pandas, the provided callable will be used directly. To keep current behavior pass the string \"sum\" instead.\n",
      "  fact_slots_uchaskov = pd.pivot_table(indicator_mo_uchet_uchastkov, index='Организация', values='Общее число слотов в расписании', aggfunc=np.sum, margins=True, margins_name='Итого').reset_index()\n"
     ]
    }
   ],
   "source": [
    "fact_slots_uchaskov = pd.pivot_table(indicator_mo_uchet_uchastkov, index='Организация', values='Общее число слотов в расписании', aggfunc=np.sum, margins=True, margins_name='Итого').reset_index()"
   ]
  },
  {
   "cell_type": "code",
   "execution_count": 427,
   "id": "ed83663d",
   "metadata": {},
   "outputs": [
    {
     "data": {
      "text/html": [
       "<div>\n",
       "<style scoped>\n",
       "    .dataframe tbody tr th:only-of-type {\n",
       "        vertical-align: middle;\n",
       "    }\n",
       "\n",
       "    .dataframe tbody tr th {\n",
       "        vertical-align: top;\n",
       "    }\n",
       "\n",
       "    .dataframe thead th {\n",
       "        text-align: right;\n",
       "    }\n",
       "</style>\n",
       "<table border=\"1\" class=\"dataframe\">\n",
       "  <thead>\n",
       "    <tr style=\"text-align: right;\">\n",
       "      <th></th>\n",
       "      <th>Организация</th>\n",
       "      <th>Доля фактического количества слотов от расчетных у врачей участковой службы, не менее 80%</th>\n",
       "    </tr>\n",
       "  </thead>\n",
       "  <tbody>\n",
       "    <tr>\n",
       "      <th>22</th>\n",
       "      <td>Итого</td>\n",
       "      <td>64.99</td>\n",
       "    </tr>\n",
       "  </tbody>\n",
       "</table>\n",
       "</div>"
      ],
      "text/plain": [
       "   Организация  \\\n",
       "22       Итого   \n",
       "\n",
       "    Доля фактического количества слотов от расчетных у врачей участковой службы, не менее 80%  \n",
       "22                                              64.99                                          "
      ]
     },
     "execution_count": 427,
     "metadata": {},
     "output_type": "execute_result"
    }
   ],
   "source": [
    "itog_slots_uchastkov = pd.merge(fact_slots_uchaskov, pivot_table_frmr_uchastkov, on='Организация')\n",
    "itog_slots_uchastkov['Доля фактического количества слотов от расчетных у врачей участковой службы, не менее 80%'] = round(itog_slots_uchastkov['Общее число слотов в расписании'] / itog_slots_uchastkov['Норма штатных единиц'] * 100, 2)\n",
    "itog_slots_uchastkov = itog_slots_uchastkov[['Организация', 'Доля фактического количества слотов от расчетных у врачей участковой службы, не менее 80%']]\n",
    "itog_slots_uchastkov.tail(1)"
   ]
  },
  {
   "cell_type": "markdown",
   "id": "6e32a03b",
   "metadata": {},
   "source": [
    "###### Слайд  2.2.Считаем долю конкурентных слотов от общего количества слотов, %"
   ]
  },
  {
   "cell_type": "code",
   "execution_count": 428,
   "id": "c437c3b9",
   "metadata": {},
   "outputs": [],
   "source": [
    "# Загружаю расписание 1С\n",
    "# guide_mo_1c = pd.read_excel(GUIDE_MEDORGANIZATION)\n",
    "ras_1c = pd.read_excel(RASPISANIE_1C, usecols=['region', 'mo_oid', 'mo_short_name', 'sp_oid', 'sp_name', 'mp_id', \n",
    "                                              'mp_fio', 'mp_dolgnost', 'mp_stavka', 'slots_type', 'date_report',\n",
    "                                              'slots_referral', 'slot_lenght', 'slots_created', 'slots_booked',\n",
    "                                              'slots_free_after_booked', 'visits_absence', 'visits_success'])"
   ]
  },
  {
   "cell_type": "markdown",
   "id": "4343a024",
   "metadata": {},
   "source": []
  },
  {
   "cell_type": "code",
   "execution_count": 429,
   "id": "616f60e8",
   "metadata": {},
   "outputs": [],
   "source": [
    "# Загружаю поправочную таблицу \n",
    "delRas1c = pd.read_excel(DELETE_RAS_1C, usecols=['region', 'mo_oid', 'mo_short_name', 'sp_oid', 'sp_name', 'mp_id', \n",
    "                                              'mp_fio', 'mp_dolgnost', 'mp_stavka', 'slots_type',\n",
    "                                              'slots_referral', 'slot_lenght', 'slots_created', 'slots_booked',\n",
    "                                              'slots_free_after_booked', 'visits_absence', 'visits_success'])"
   ]
  },
  {
   "cell_type": "code",
   "execution_count": 430,
   "id": "f990d4dd",
   "metadata": {},
   "outputs": [],
   "source": [
    "# Объединяю таблицы\n",
    "ras1c_merged = pd.merge(ras_1c, delRas1c, on=['region', 'mo_oid', 'mo_short_name', 'sp_oid', 'sp_name', 'mp_id', \n",
    "                                              'mp_fio', 'mp_dolgnost', 'mp_stavka', 'slots_type',\n",
    "                                              'slots_referral', 'slot_lenght', 'slots_created', 'slots_booked',\n",
    "                                              'slots_free_after_booked', 'visits_absence', 'visits_success'], how='left', indicator=True)"
   ]
  },
  {
   "cell_type": "code",
   "execution_count": 431,
   "id": "b31a661a",
   "metadata": {},
   "outputs": [],
   "source": [
    "ras1c_filtered = ras1c_merged[ras1c_merged['_merge'] == 'left_only'].drop(columns='_merge')"
   ]
  },
  {
   "cell_type": "code",
   "execution_count": 432,
   "id": "540e4879",
   "metadata": {},
   "outputs": [],
   "source": [
    "primer  = ras1c_filtered['mo_short_name'].unique()\n",
    "primer_mo_name = []\n",
    "for mo_name in primer:\n",
    "    primer_mo_name.append(mo_name)"
   ]
  },
  {
   "cell_type": "code",
   "execution_count": 433,
   "id": "0e001b0e",
   "metadata": {},
   "outputs": [],
   "source": [
    "df_primer_mo_name  = pd.DataFrame({'mo_short_name': primer_mo_name})"
   ]
  },
  {
   "cell_type": "code",
   "execution_count": 434,
   "id": "b101fc0f",
   "metadata": {},
   "outputs": [],
   "source": [
    "merge_ras_1c = pd.merge(ras1c_filtered, medorganization, on='mo_short_name', how='left')"
   ]
  },
  {
   "cell_type": "code",
   "execution_count": 435,
   "id": "22128f09",
   "metadata": {},
   "outputs": [],
   "source": [
    "merge_ras_1c.rename(columns={'mp_dolgnost': 'Должность'}, inplace=True)"
   ]
  },
  {
   "cell_type": "code",
   "execution_count": 436,
   "id": "0abfce65",
   "metadata": {},
   "outputs": [
    {
     "name": "stderr",
     "output_type": "stream",
     "text": [
      "/tmp/ipykernel_7504/818530909.py:1: FutureWarning: Downcasting object dtype arrays on .fillna, .ffill, .bfill is deprecated and will change in a future version. Call result.infer_objects(copy=False) instead. To opt-in to the future behavior, set `pd.set_option('future.no_silent_downcasting', True)`\n",
      "  merge_ras_1c_uchet = pd.merge(employee_uchet, merge_ras_1c, on=['Организация', 'Должность']).fillna(0)\n"
     ]
    }
   ],
   "source": [
    "merge_ras_1c_uchet = pd.merge(employee_uchet, merge_ras_1c, on=['Организация', 'Должность']).fillna(0)"
   ]
  },
  {
   "cell_type": "code",
   "execution_count": 437,
   "id": "d3b42961",
   "metadata": {},
   "outputs": [],
   "source": [
    "merge_ras_1c_uchet = merge_ras_1c_uchet[merge_ras_1c_uchet['Проверка'] != 0]"
   ]
  },
  {
   "cell_type": "code",
   "execution_count": 438,
   "id": "72cfff9a",
   "metadata": {},
   "outputs": [],
   "source": [
    "merge_ras_1c_uchet.reset_index(drop=True, inplace=True)"
   ]
  },
  {
   "cell_type": "code",
   "execution_count": 439,
   "id": "81dc214e",
   "metadata": {},
   "outputs": [],
   "source": [
    "# Отбираем строки в DataFrame, попадающие в заданный период\n",
    "merge_ras_1c_uchet = merge_ras_1c_uchet[(merge_ras_1c_uchet['date_report'] >= start_date) & (merge_ras_1c_uchet['date_report'] <= end_date)]"
   ]
  },
  {
   "cell_type": "code",
   "execution_count": 440,
   "id": "88d76866",
   "metadata": {},
   "outputs": [
    {
     "name": "stdout",
     "output_type": "stream",
     "text": [
      "<class 'pandas.core.frame.DataFrame'>\n",
      "Index: 21577 entries, 0 to 87441\n",
      "Data columns (total 25 columns):\n",
      " #   Column                            Non-Null Count  Dtype         \n",
      "---  ------                            --------------  -----         \n",
      " 0   Организация                       21577 non-null  object        \n",
      " 1   Должность                         21577 non-null  object        \n",
      " 2   Проверка                          21577 non-null  float64       \n",
      " 3   region                            21577 non-null  object        \n",
      " 4   mo_oid                            21577 non-null  object        \n",
      " 5   mo_short_name                     21577 non-null  object        \n",
      " 6   sp_oid                            21577 non-null  object        \n",
      " 7   sp_name                           21577 non-null  object        \n",
      " 8   mp_id                             21577 non-null  int64         \n",
      " 9   mp_fio                            21577 non-null  object        \n",
      " 10  date_report                       21577 non-null  datetime64[ns]\n",
      " 11  mp_stavka                         21577 non-null  float64       \n",
      " 12  slots_type                        21577 non-null  object        \n",
      " 13  slots_referral                    21577 non-null  object        \n",
      " 14  slot_lenght                       21577 non-null  int64         \n",
      " 15  slots_created                     21577 non-null  int64         \n",
      " 16  slots_booked                      21577 non-null  int64         \n",
      " 17  slots_free_after_booked           21577 non-null  int64         \n",
      " 18  visits_absence                    21577 non-null  int64         \n",
      " 19  visits_success                    21577 non-null  int64         \n",
      " 20  Наименование МО                   21577 non-null  object        \n",
      " 21  МО                                21577 non-null  object        \n",
      " 22  МедОрганизация                    21577 non-null  object        \n",
      " 23  Краткое наименование организации  21577 non-null  object        \n",
      " 24  Медицинская организация           21577 non-null  object        \n",
      "dtypes: datetime64[ns](1), float64(2), int64(7), object(15)\n",
      "memory usage: 4.3+ MB\n"
     ]
    }
   ],
   "source": [
    "merge_ras_1c_uchet.info()"
   ]
  },
  {
   "cell_type": "code",
   "execution_count": 441,
   "id": "2ca34e6a",
   "metadata": {},
   "outputs": [
    {
     "data": {
      "text/plain": [
       "<DatetimeArray>\n",
       "['2024-02-19 00:00:00', '2024-02-20 00:00:00', '2024-02-21 00:00:00',\n",
       " '2024-02-22 00:00:00', '2024-02-24 00:00:00', '2024-02-25 00:00:00',\n",
       " '2024-02-23 00:00:00']\n",
       "Length: 7, dtype: datetime64[ns]"
      ]
     },
     "execution_count": 441,
     "metadata": {},
     "output_type": "execute_result"
    }
   ],
   "source": [
    "merge_ras_1c_uchet['date_report'].unique()"
   ]
  },
  {
   "cell_type": "markdown",
   "id": "09f75089",
   "metadata": {},
   "source": [
    "##### Расписание из 1С выгружено и обработано"
   ]
  },
  {
   "cell_type": "code",
   "execution_count": 442,
   "id": "53f689b9",
   "metadata": {},
   "outputs": [
    {
     "data": {
      "text/plain": [
       "Index(['Организация', 'Должность', 'Проверка', 'region', 'mo_oid',\n",
       "       'mo_short_name', 'sp_oid', 'sp_name', 'mp_id', 'mp_fio', 'date_report',\n",
       "       'mp_stavka', 'slots_type', 'slots_referral', 'slot_lenght',\n",
       "       'slots_created', 'slots_booked', 'slots_free_after_booked',\n",
       "       'visits_absence', 'visits_success', 'Наименование МО', 'МО',\n",
       "       'МедОрганизация', 'Краткое наименование организации',\n",
       "       'Медицинская организация'],\n",
       "      dtype='object')"
      ]
     },
     "execution_count": 442,
     "metadata": {},
     "output_type": "execute_result"
    }
   ],
   "source": [
    "merge_ras_1c_uchet.columns"
   ]
  },
  {
   "cell_type": "code",
   "execution_count": 443,
   "id": "2b3f1ee3",
   "metadata": {},
   "outputs": [
    {
     "name": "stderr",
     "output_type": "stream",
     "text": [
      "/tmp/ipykernel_7504/731860570.py:1: FutureWarning: The provided callable <function sum at 0x7eff90181d80> is currently using DataFrameGroupBy.sum. In a future version of pandas, the provided callable will be used directly. To keep current behavior pass the string \"sum\" instead.\n",
      "  pivot_ras_1c = pd.pivot_table(merge_ras_1c_uchet, index='Организация', columns = 'slots_type', values= 'slots_created', aggfunc=np.sum, margins=True, margins_name='Итого').reset_index()\n",
      "/tmp/ipykernel_7504/731860570.py:1: FutureWarning: The provided callable <function sum at 0x7eff90181d80> is currently using DataFrameGroupBy.sum. In a future version of pandas, the provided callable will be used directly. To keep current behavior pass the string \"sum\" instead.\n",
      "  pivot_ras_1c = pd.pivot_table(merge_ras_1c_uchet, index='Организация', columns = 'slots_type', values= 'slots_created', aggfunc=np.sum, margins=True, margins_name='Итого').reset_index()\n",
      "/tmp/ipykernel_7504/731860570.py:1: FutureWarning: The provided callable <function sum at 0x7eff90181d80> is currently using DataFrameGroupBy.sum. In a future version of pandas, the provided callable will be used directly. To keep current behavior pass the string \"sum\" instead.\n",
      "  pivot_ras_1c = pd.pivot_table(merge_ras_1c_uchet, index='Организация', columns = 'slots_type', values= 'slots_created', aggfunc=np.sum, margins=True, margins_name='Итого').reset_index()\n"
     ]
    }
   ],
   "source": [
    "pivot_ras_1c = pd.pivot_table(merge_ras_1c_uchet, index='Организация', columns = 'slots_type', values= 'slots_created', aggfunc=np.sum, margins=True, margins_name='Итого').reset_index()"
   ]
  },
  {
   "cell_type": "code",
   "execution_count": 444,
   "id": "07a996af",
   "metadata": {},
   "outputs": [],
   "source": [
    "pivot_ras_1c['Доля конкурентных слотов от общего количества слотов, не менее 65%'] = round(pivot_ras_1c['Доступен'] / (pivot_ras_1c['Доступен'] + pivot_ras_1c['Не доступен']) * 100, 2)\n",
    "pivot_ras_1c_s2 = pivot_ras_1c[['Организация', 'Доля конкурентных слотов от общего количества слотов, не менее 65%']]\n",
    "pivot_ras_1c_s2 = pivot_ras_1c_s2.rename_axis(None, axis=1)"
   ]
  },
  {
   "cell_type": "markdown",
   "id": "b2deed7a",
   "metadata": {},
   "source": [
    "4. Доля конкурентных слотов участковой службы от общего количества слотов"
   ]
  },
  {
   "cell_type": "code",
   "execution_count": 445,
   "id": "058c7676",
   "metadata": {},
   "outputs": [
    {
     "name": "stderr",
     "output_type": "stream",
     "text": [
      "/tmp/ipykernel_7504/1135622585.py:2: FutureWarning: The provided callable <function sum at 0x7eff90181d80> is currently using DataFrameGroupBy.sum. In a future version of pandas, the provided callable will be used directly. To keep current behavior pass the string \"sum\" instead.\n",
      "  pivot_ras_1c_uchstkov = pd.pivot_table(ras_1c_uchaskov, index='Организация', columns = 'slots_type', values= 'slots_created', aggfunc=np.sum, margins=True, margins_name='Итого').reset_index()\n",
      "/tmp/ipykernel_7504/1135622585.py:2: FutureWarning: The provided callable <function sum at 0x7eff90181d80> is currently using DataFrameGroupBy.sum. In a future version of pandas, the provided callable will be used directly. To keep current behavior pass the string \"sum\" instead.\n",
      "  pivot_ras_1c_uchstkov = pd.pivot_table(ras_1c_uchaskov, index='Организация', columns = 'slots_type', values= 'slots_created', aggfunc=np.sum, margins=True, margins_name='Итого').reset_index()\n",
      "/tmp/ipykernel_7504/1135622585.py:2: FutureWarning: The provided callable <function sum at 0x7eff90181d80> is currently using DataFrameGroupBy.sum. In a future version of pandas, the provided callable will be used directly. To keep current behavior pass the string \"sum\" instead.\n",
      "  pivot_ras_1c_uchstkov = pd.pivot_table(ras_1c_uchaskov, index='Организация', columns = 'slots_type', values= 'slots_created', aggfunc=np.sum, margins=True, margins_name='Итого').reset_index()\n"
     ]
    }
   ],
   "source": [
    "ras_1c_uchaskov = merge_ras_1c_uchet[(merge_ras_1c_uchet['Должность'] ==  'врач-педиатр участковый') |  (merge_ras_1c_uchet['Должность'] ==  'врач-терапевт участковый')]\n",
    "pivot_ras_1c_uchstkov = pd.pivot_table(ras_1c_uchaskov, index='Организация', columns = 'slots_type', values= 'slots_created', aggfunc=np.sum, margins=True, margins_name='Итого').reset_index()\n",
    "pivot_ras_1c_uchstkov['Доля конкурентных слотов Фактического расписания участковой службы от общего количества слотов, не менее 65%'] = round(pivot_ras_1c_uchstkov['Доступен'] / (pivot_ras_1c_uchstkov['Доступен'] + pivot_ras_1c_uchstkov['Не доступен']) * 100, 2)\n",
    "pivot_ras_1c_uchstkov.reset_index(drop=True, inplace= True)"
   ]
  },
  {
   "cell_type": "code",
   "execution_count": 446,
   "id": "40408582",
   "metadata": {},
   "outputs": [],
   "source": [
    "pivot_ras_1c_uchstkov_s2 = pivot_ras_1c_uchstkov[['Организация', 'Доля конкурентных слотов Фактического расписания участковой службы от общего количества слотов, не менее 65%']]"
   ]
  },
  {
   "cell_type": "code",
   "execution_count": 447,
   "id": "db9f9113",
   "metadata": {},
   "outputs": [
    {
     "data": {
      "text/html": [
       "<div>\n",
       "<style scoped>\n",
       "    .dataframe tbody tr th:only-of-type {\n",
       "        vertical-align: middle;\n",
       "    }\n",
       "\n",
       "    .dataframe tbody tr th {\n",
       "        vertical-align: top;\n",
       "    }\n",
       "\n",
       "    .dataframe thead th {\n",
       "        text-align: right;\n",
       "    }\n",
       "</style>\n",
       "<table border=\"1\" class=\"dataframe\">\n",
       "  <thead>\n",
       "    <tr style=\"text-align: right;\">\n",
       "      <th></th>\n",
       "      <th>Организация</th>\n",
       "      <th>Доля конкурентных слотов Фактического расписания участковой службы от общего количества слотов, не менее 65%</th>\n",
       "    </tr>\n",
       "  </thead>\n",
       "  <tbody>\n",
       "    <tr>\n",
       "      <th>0</th>\n",
       "      <td>ГАУЗ ТО «ГП №12»</td>\n",
       "      <td>53.68</td>\n",
       "    </tr>\n",
       "  </tbody>\n",
       "</table>\n",
       "</div>"
      ],
      "text/plain": [
       "        Организация  \\\n",
       "0  ГАУЗ ТО «ГП №12»   \n",
       "\n",
       "   Доля конкурентных слотов Фактического расписания участковой службы от общего количества слотов, не менее 65%  \n",
       "0                                              53.68                                                             "
      ]
     },
     "execution_count": 447,
     "metadata": {},
     "output_type": "execute_result"
    }
   ],
   "source": [
    "pivot_ras_1c_uchstkov_s2 = pivot_ras_1c_uchstkov_s2.rename_axis(None, axis=1)\n",
    "pivot_ras_1c_uchstkov_s2.head(1)"
   ]
  },
  {
   "cell_type": "markdown",
   "id": "4661d9bb",
   "metadata": {},
   "source": [
    "* Доля конкурентных слотов ПЛАН составленного расписания, не менее 65%"
   ]
  },
  {
   "cell_type": "code",
   "execution_count": 448,
   "id": "ceab953b",
   "metadata": {},
   "outputs": [],
   "source": [
    "input_analit_filtr = pd.read_excel(FILTR_ANALIT)"
   ]
  },
  {
   "cell_type": "code",
   "execution_count": 449,
   "id": "60351ee0",
   "metadata": {},
   "outputs": [],
   "source": [
    "input_analit_filtr = input_analit_filtr[(input_analit_filtr['Медицинская организация'] != 'Всего')]\n"
   ]
  },
  {
   "cell_type": "code",
   "execution_count": 450,
   "id": "0f406b7d",
   "metadata": {},
   "outputs": [],
   "source": [
    "analit_merge_filtr = pd.merge(input_analit_filtr, medorganization, on='Медицинская организация', how='left')"
   ]
  },
  {
   "cell_type": "code",
   "execution_count": 451,
   "id": "21e44208",
   "metadata": {},
   "outputs": [
    {
     "data": {
      "text/plain": [
       "Index(['Медицинская организация', 'Отделение', 'Отделение (адрес)',\n",
       "       'Должность', 'Специальность', 'Врач', 'Дней расписания',\n",
       "       'Слотов на 7 дней', 'Слотов на 14 дней', 'Слотов на 30 дней',\n",
       "       'Формиров. расписания на 7 дней, %',\n",
       "       'Формиров. расписания на 14 дней, %',\n",
       "       'Формиров. расписания на 30 дней, %',\n",
       "       'Слотов первичного приёма на 7 дней',\n",
       "       'Доля первичного приёма на 7 дней, %',\n",
       "       'Слотов первичного приёма на 14 дней',\n",
       "       'Доля первичного приёма на 14 дней, %',\n",
       "       'Слотов первичного приёма на 30 дней',\n",
       "       'Доля первичного приёма на 30 дней, %', 'Наименование МО',\n",
       "       'Организация', 'МО', 'МедОрганизация',\n",
       "       'Краткое наименование организации', 'mo_short_name'],\n",
       "      dtype='object')"
      ]
     },
     "execution_count": 451,
     "metadata": {},
     "output_type": "execute_result"
    }
   ],
   "source": [
    "analit_merge_filtr.columns"
   ]
  },
  {
   "cell_type": "code",
   "execution_count": 452,
   "id": "d3411036",
   "metadata": {},
   "outputs": [],
   "source": [
    "delete_rows3 = pd.read_excel(GUIDE_DELETE_MED, skiprows=6)\n",
    "delete_rows3.rename(columns={'Unnamed: 0': 'СНИЛС', \n",
    "                    'Unnamed: 1': 'Фамилия', \n",
    "                    'Unnamed: 2': 'Имя', \n",
    "                    'Unnamed: 3': 'Отчество', \n",
    "                    'Unnamed: 4': 'Пол', \n",
    "                    'Unnamed: 5': 'Дата рождения', \n",
    "                    'Unnamed: 6': 'Сведения о трудоустройстве'}, inplace=True)"
   ]
  },
  {
   "cell_type": "code",
   "execution_count": 453,
   "id": "96587756",
   "metadata": {},
   "outputs": [],
   "source": [
    "delete_rows3 = delete_rows3[['Краткое наименование организации', 'Наименование структурного подразделения', 'Должность по фед справочнику']]\n",
    "delete_rows3 = delete_rows3.rename(columns={'Должность по фед справочнику' : 'Должность', 'Наименование структурного подразделения': 'Отделение'})\n",
    "delete_rows3['Удалить'] = 'True'"
   ]
  },
  {
   "cell_type": "code",
   "execution_count": 454,
   "id": "efe41894",
   "metadata": {},
   "outputs": [
    {
     "data": {
      "text/html": [
       "<div>\n",
       "<style scoped>\n",
       "    .dataframe tbody tr th:only-of-type {\n",
       "        vertical-align: middle;\n",
       "    }\n",
       "\n",
       "    .dataframe tbody tr th {\n",
       "        vertical-align: top;\n",
       "    }\n",
       "\n",
       "    .dataframe thead th {\n",
       "        text-align: right;\n",
       "    }\n",
       "</style>\n",
       "<table border=\"1\" class=\"dataframe\">\n",
       "  <thead>\n",
       "    <tr style=\"text-align: right;\">\n",
       "      <th></th>\n",
       "      <th>Краткое наименование организации</th>\n",
       "      <th>Отделение</th>\n",
       "      <th>Должность</th>\n",
       "      <th>Удалить</th>\n",
       "    </tr>\n",
       "  </thead>\n",
       "  <tbody>\n",
       "    <tr>\n",
       "      <th>0</th>\n",
       "      <td>ГАУЗ ТО \"ГОРОДСКАЯ ПОЛИКЛИНИКА №3\"</td>\n",
       "      <td>Отделение организации медицинской помощи студе...</td>\n",
       "      <td>врач-офтальмолог</td>\n",
       "      <td>True</td>\n",
       "    </tr>\n",
       "  </tbody>\n",
       "</table>\n",
       "</div>"
      ],
      "text/plain": [
       "     Краткое наименование организации  \\\n",
       "0  ГАУЗ ТО \"ГОРОДСКАЯ ПОЛИКЛИНИКА №3\"   \n",
       "\n",
       "                                           Отделение         Должность Удалить  \n",
       "0  Отделение организации медицинской помощи студе...  врач-офтальмолог    True  "
      ]
     },
     "execution_count": 454,
     "metadata": {},
     "output_type": "execute_result"
    }
   ],
   "source": [
    "delete_rows3.head(1)"
   ]
  },
  {
   "cell_type": "code",
   "execution_count": 455,
   "id": "a68051a3",
   "metadata": {},
   "outputs": [],
   "source": [
    "result_original_filtr = pd.merge(analit_merge_filtr, delete_rows3, on=['Краткое наименование организации', \n",
    "                                      'Отделение', \n",
    "                                      'Должность'], how='left')\n",
    "result_original_filtr = result_original_filtr[result_original_filtr['Удалить'] != 'True']"
   ]
  },
  {
   "cell_type": "markdown",
   "id": "65831705",
   "metadata": {},
   "source": [
    "##### Подгружаем таблицу должностей и мержим ее с таблицей из Аналит"
   ]
  },
  {
   "cell_type": "markdown",
   "id": "944f457d",
   "metadata": {},
   "source": [
    "##### Это таблица должностей аналит"
   ]
  },
  {
   "cell_type": "code",
   "execution_count": 456,
   "id": "92a6629b",
   "metadata": {},
   "outputs": [],
   "source": [
    "merge_table_analit_result_filter = pd.merge(result_original_filtr, table_analit_doljnost, on = ['Должность', 'Специальность'], how='right')"
   ]
  },
  {
   "cell_type": "code",
   "execution_count": 457,
   "id": "2e4c31cf",
   "metadata": {},
   "outputs": [
    {
     "name": "stderr",
     "output_type": "stream",
     "text": [
      "/tmp/ipykernel_7504/2356964169.py:1: FutureWarning: Downcasting behavior in `replace` is deprecated and will be removed in a future version. To retain the old behavior, explicitly call `result.infer_objects(copy=False)`. To opt-in to the future behavior, set `pd.set_option('future.no_silent_downcasting', True)`\n",
      "  merge_table_analit_result_filter['Доля первичного приёма на 7 дней, %'] = merge_table_analit_result_filter['Доля первичного приёма на 7 дней, %'].replace('-', 0)\n"
     ]
    }
   ],
   "source": [
    "merge_table_analit_result_filter['Доля первичного приёма на 7 дней, %'] = merge_table_analit_result_filter['Доля первичного приёма на 7 дней, %'].replace('-', 0)"
   ]
  },
  {
   "cell_type": "code",
   "execution_count": 458,
   "id": "5ab7d059",
   "metadata": {},
   "outputs": [],
   "source": [
    "merge_table_analit_result_filter = merge_table_analit_result_filter[(merge_table_analit_result_filter['Должность'] == 'врач-терапевт участковый') | \n",
    "                          (merge_table_analit_result_filter['Должность'] == 'врач-педиатр участковый')]"
   ]
  },
  {
   "cell_type": "code",
   "execution_count": 459,
   "id": "e0cfe609",
   "metadata": {},
   "outputs": [
    {
     "name": "stderr",
     "output_type": "stream",
     "text": [
      "/tmp/ipykernel_7504/764798134.py:1: FutureWarning: The provided callable <function sum at 0x7eff90181d80> is currently using DataFrameGroupBy.sum. In a future version of pandas, the provided callable will be used directly. To keep current behavior pass the string \"sum\" instead.\n",
      "  svod_slotov = pd.pivot_table(df1, values=['Слотов на 7 дней',\n"
     ]
    }
   ],
   "source": [
    "svod_slotov = pd.pivot_table(df1, values=['Слотов на 7 дней', \n",
    "                                          'Слотов первичного приёма на 7 дней'], \n",
    "                             index=['Организация'], \n",
    "                             aggfunc=np.sum, \n",
    "                             fill_value=0, margins=True, margins_name='Итого')"
   ]
  },
  {
   "cell_type": "code",
   "execution_count": 460,
   "id": "4c5f0f75",
   "metadata": {},
   "outputs": [],
   "source": [
    "svod_slotov.reset_index(drop=False, inplace=True)"
   ]
  },
  {
   "cell_type": "code",
   "execution_count": 461,
   "id": "0228462f",
   "metadata": {},
   "outputs": [],
   "source": [
    "def proz7days(row):\n",
    "    if row['Слотов первичного приёма на 7 дней'] != 0 and row['Слотов на 7 дней'] != 0:\n",
    "        val = round(row['Слотов первичного приёма на 7 дней'] / row['Слотов на 7 дней'] * 100, 2)\n",
    "    else:\n",
    "        val = 0\n",
    "    return val"
   ]
  },
  {
   "cell_type": "code",
   "execution_count": 462,
   "id": "3139d139",
   "metadata": {},
   "outputs": [],
   "source": [
    "svod_slotov['% конкурентных слотов на 7 дней'] = svod_slotov.apply(proz7days, axis = 1)"
   ]
  },
  {
   "cell_type": "code",
   "execution_count": 463,
   "id": "2f3702e7",
   "metadata": {},
   "outputs": [],
   "source": [
    "svod_slotov = svod_slotov[['Организация', '% конкурентных слотов на 7 дней']]"
   ]
  },
  {
   "cell_type": "code",
   "execution_count": 464,
   "id": "b28e185c",
   "metadata": {},
   "outputs": [],
   "source": [
    "svod_slotov.rename(columns={'% конкурентных слотов на 7 дней': 'Доля конкурентных слотов ПЛАН составленного расписания, не менее 65%'}, inplace=True)"
   ]
  },
  {
   "cell_type": "markdown",
   "id": "ef574914",
   "metadata": {},
   "source": [
    "##### Итог расчета слайда 2"
   ]
  },
  {
   "cell_type": "code",
   "execution_count": 465,
   "id": "e723bb0c",
   "metadata": {},
   "outputs": [],
   "source": [
    "data_frames = [itog_slots, pivot_ras_1c_s2, itog_slots_uchastkov, svod_slotov, pivot_ras_1c_uchstkov_s2]"
   ]
  },
  {
   "cell_type": "code",
   "execution_count": 466,
   "id": "353f500c",
   "metadata": {},
   "outputs": [],
   "source": [
    "pivot_ras_1c_s2 = reduce(lambda  left,right: pd.merge(left,right,on=['Организация'], how='outer'), data_frames)"
   ]
  },
  {
   "cell_type": "code",
   "execution_count": 467,
   "id": "73afa1e3",
   "metadata": {},
   "outputs": [],
   "source": [
    "result_slide2 = pivot_ras_1c_s2[['Организация', 'Доля фактического количества слотов от расчетных, не менее 80%', \n",
    "                                 'Доля конкурентных слотов от общего количества слотов, не менее 65%', \n",
    "                                 'Доля фактического количества слотов от расчетных у врачей участковой службы, не менее 80%', \n",
    "                                 'Доля конкурентных слотов ПЛАН составленного расписания, не менее 65%',\n",
    "                                 'Доля конкурентных слотов Фактического расписания участковой службы от общего количества слотов, не менее 65%']]\n",
    "result_slide2.rename(columns={'Организация': 'Наименование МО'}, inplace=True)\n",
    "result_slide2.fillna(0, inplace=True)"
   ]
  },
  {
   "cell_type": "code",
   "execution_count": 468,
   "id": "437aa7d9",
   "metadata": {},
   "outputs": [],
   "source": [
    "# Определяем значение, по которому будем перемещать строку в конец\n",
    "value_to_move = 'Итого'\n",
    "\n",
    "# Выбираем строку по заданному значению\n",
    "row_to_move = result_slide2[result_slide2['Наименование МО'] == value_to_move]"
   ]
  },
  {
   "cell_type": "code",
   "execution_count": 469,
   "id": "96fb9640",
   "metadata": {},
   "outputs": [],
   "source": [
    "# Удаляем эту строку из исходного места\n",
    "result_slide2 = result_slide2.drop(row_to_move.index)"
   ]
  },
  {
   "cell_type": "code",
   "execution_count": 470,
   "id": "0c2c2c77",
   "metadata": {},
   "outputs": [],
   "source": [
    "result_slide2.reset_index(drop=True, inplace=True)"
   ]
  },
  {
   "cell_type": "code",
   "execution_count": 471,
   "id": "fd2d7c9d",
   "metadata": {},
   "outputs": [],
   "source": [
    "sequence_mo2 = sequence_mo.rename(columns={'Организация': 'Наименование МО'})"
   ]
  },
  {
   "cell_type": "code",
   "execution_count": 472,
   "id": "d6d0414d",
   "metadata": {},
   "outputs": [],
   "source": [
    "sequence_mo2 = sequence_mo2[sequence_mo2['Наименование МО'] != 'Итог']"
   ]
  },
  {
   "cell_type": "code",
   "execution_count": 473,
   "id": "d75389eb",
   "metadata": {},
   "outputs": [
    {
     "data": {
      "text/html": [
       "<div>\n",
       "<style scoped>\n",
       "    .dataframe tbody tr th:only-of-type {\n",
       "        vertical-align: middle;\n",
       "    }\n",
       "\n",
       "    .dataframe tbody tr th {\n",
       "        vertical-align: top;\n",
       "    }\n",
       "\n",
       "    .dataframe thead th {\n",
       "        text-align: right;\n",
       "    }\n",
       "</style>\n",
       "<table border=\"1\" class=\"dataframe\">\n",
       "  <thead>\n",
       "    <tr style=\"text-align: right;\">\n",
       "      <th></th>\n",
       "      <th>Наименование МО</th>\n",
       "    </tr>\n",
       "  </thead>\n",
       "  <tbody>\n",
       "    <tr>\n",
       "      <th>0</th>\n",
       "      <td>ГАУЗ ТО «ГП №1»</td>\n",
       "    </tr>\n",
       "    <tr>\n",
       "      <th>1</th>\n",
       "      <td>ГАУЗ ТО «ГП №12»</td>\n",
       "    </tr>\n",
       "    <tr>\n",
       "      <th>2</th>\n",
       "      <td>ГАУЗ ТО «ГП №13»</td>\n",
       "    </tr>\n",
       "    <tr>\n",
       "      <th>3</th>\n",
       "      <td>ГАУЗ ТО «ГП №17»</td>\n",
       "    </tr>\n",
       "    <tr>\n",
       "      <th>4</th>\n",
       "      <td>ГАУЗ ТО «ГП №3»</td>\n",
       "    </tr>\n",
       "    <tr>\n",
       "      <th>5</th>\n",
       "      <td>ГАУЗ ТО «ГП №4»</td>\n",
       "    </tr>\n",
       "    <tr>\n",
       "      <th>6</th>\n",
       "      <td>ГАУЗ ТО «ГП №5»</td>\n",
       "    </tr>\n",
       "    <tr>\n",
       "      <th>7</th>\n",
       "      <td>ГАУЗ ТО «ГП №6»</td>\n",
       "    </tr>\n",
       "    <tr>\n",
       "      <th>8</th>\n",
       "      <td>ГАУЗ ТО «ГП №8»</td>\n",
       "    </tr>\n",
       "    <tr>\n",
       "      <th>9</th>\n",
       "      <td>ГАУЗ ТО \"ОСП\"</td>\n",
       "    </tr>\n",
       "    <tr>\n",
       "      <th>10</th>\n",
       "      <td>ГБУЗ ТО «ОБ №3»</td>\n",
       "    </tr>\n",
       "    <tr>\n",
       "      <th>11</th>\n",
       "      <td>ГБУЗ ТО «ОБ №4»</td>\n",
       "    </tr>\n",
       "    <tr>\n",
       "      <th>12</th>\n",
       "      <td>ГБУЗ ТО «ОБ №9»</td>\n",
       "    </tr>\n",
       "    <tr>\n",
       "      <th>13</th>\n",
       "      <td>ГБУЗ ТО «ОБ №11»</td>\n",
       "    </tr>\n",
       "    <tr>\n",
       "      <th>14</th>\n",
       "      <td>ГБУЗ ТО «ОБ №12»</td>\n",
       "    </tr>\n",
       "    <tr>\n",
       "      <th>15</th>\n",
       "      <td>ГБУЗ ТО «ОБ №13»</td>\n",
       "    </tr>\n",
       "    <tr>\n",
       "      <th>16</th>\n",
       "      <td>ГБУЗ ТО «ОБ №14»</td>\n",
       "    </tr>\n",
       "    <tr>\n",
       "      <th>17</th>\n",
       "      <td>ГБУЗ ТО «ОБ №15»</td>\n",
       "    </tr>\n",
       "    <tr>\n",
       "      <th>18</th>\n",
       "      <td>ГБУЗ ТО «ОБ №19»</td>\n",
       "    </tr>\n",
       "    <tr>\n",
       "      <th>19</th>\n",
       "      <td>ГБУЗ ТО «ОБ №20»</td>\n",
       "    </tr>\n",
       "    <tr>\n",
       "      <th>20</th>\n",
       "      <td>ГБУЗ ТО «ОБ №23»</td>\n",
       "    </tr>\n",
       "    <tr>\n",
       "      <th>21</th>\n",
       "      <td>ГБУЗ ТО «ОБ №24»</td>\n",
       "    </tr>\n",
       "    <tr>\n",
       "      <th>22</th>\n",
       "      <td>ГБУЗ ТО «ОКПБ»</td>\n",
       "    </tr>\n",
       "    <tr>\n",
       "      <th>23</th>\n",
       "      <td>ГБУЗ ТО «ОКФЦ»</td>\n",
       "    </tr>\n",
       "    <tr>\n",
       "      <th>24</th>\n",
       "      <td>ГБУЗ ТО «ОНД»</td>\n",
       "    </tr>\n",
       "    <tr>\n",
       "      <th>25</th>\n",
       "      <td>ГБУЗ ТО «ОКБ №2»</td>\n",
       "    </tr>\n",
       "    <tr>\n",
       "      <th>26</th>\n",
       "      <td>ГБУЗ ТО «Роддом № 2»</td>\n",
       "    </tr>\n",
       "    <tr>\n",
       "      <th>27</th>\n",
       "      <td>ГБУЗ ТО «Родильный дом №3»</td>\n",
       "    </tr>\n",
       "  </tbody>\n",
       "</table>\n",
       "</div>"
      ],
      "text/plain": [
       "               Наименование МО\n",
       "0              ГАУЗ ТО «ГП №1»\n",
       "1             ГАУЗ ТО «ГП №12»\n",
       "2             ГАУЗ ТО «ГП №13»\n",
       "3             ГАУЗ ТО «ГП №17»\n",
       "4              ГАУЗ ТО «ГП №3»\n",
       "5              ГАУЗ ТО «ГП №4»\n",
       "6              ГАУЗ ТО «ГП №5»\n",
       "7              ГАУЗ ТО «ГП №6»\n",
       "8              ГАУЗ ТО «ГП №8»\n",
       "9                ГАУЗ ТО \"ОСП\"\n",
       "10             ГБУЗ ТО «ОБ №3»\n",
       "11             ГБУЗ ТО «ОБ №4»\n",
       "12             ГБУЗ ТО «ОБ №9»\n",
       "13            ГБУЗ ТО «ОБ №11»\n",
       "14            ГБУЗ ТО «ОБ №12»\n",
       "15            ГБУЗ ТО «ОБ №13»\n",
       "16            ГБУЗ ТО «ОБ №14»\n",
       "17            ГБУЗ ТО «ОБ №15»\n",
       "18            ГБУЗ ТО «ОБ №19»\n",
       "19            ГБУЗ ТО «ОБ №20»\n",
       "20            ГБУЗ ТО «ОБ №23»\n",
       "21            ГБУЗ ТО «ОБ №24»\n",
       "22              ГБУЗ ТО «ОКПБ»\n",
       "23              ГБУЗ ТО «ОКФЦ»\n",
       "24               ГБУЗ ТО «ОНД»\n",
       "25            ГБУЗ ТО «ОКБ №2»\n",
       "26        ГБУЗ ТО «Роддом № 2»\n",
       "27  ГБУЗ ТО «Родильный дом №3»"
      ]
     },
     "execution_count": 473,
     "metadata": {},
     "output_type": "execute_result"
    }
   ],
   "source": [
    "sequence_mo2"
   ]
  },
  {
   "cell_type": "code",
   "execution_count": 474,
   "id": "44f51e7b",
   "metadata": {},
   "outputs": [],
   "source": [
    "df2 = pd.merge(sequence_mo2, result_slide2, how='left', on='Наименование МО')"
   ]
  },
  {
   "cell_type": "code",
   "execution_count": 475,
   "id": "dc35fdd1",
   "metadata": {},
   "outputs": [],
   "source": [
    "# Добавляем эту строку в конец DataFrame\n",
    "df2 = pd.concat([df2, row_to_move])"
   ]
  },
  {
   "cell_type": "code",
   "execution_count": 476,
   "id": "6e5b2f5c",
   "metadata": {},
   "outputs": [],
   "source": [
    "df2.reset_index(drop=True, inplace=True)"
   ]
  },
  {
   "cell_type": "markdown",
   "id": "f0e3d0dc",
   "metadata": {},
   "source": [
    "##### Подготовка данных для слайда 3"
   ]
  },
  {
   "cell_type": "markdown",
   "id": "73fa4f08",
   "metadata": {},
   "source": [
    "1. Расчет первого столбца 'Занятость слотов всего (доля от общего числа созданных и количества занятых)'\n",
    "* Использую уже сверенный с проверочными файлами результат обработки расписания из 1С"
   ]
  },
  {
   "cell_type": "code",
   "execution_count": 477,
   "id": "92236730",
   "metadata": {},
   "outputs": [],
   "source": [
    "slide_3_column_1 = merge_ras_1c_uchet\n",
    "slide_3_column_1.rename(columns={'Должность': 'mp_dolgnost'}, inplace=True)"
   ]
  },
  {
   "cell_type": "code",
   "execution_count": 478,
   "id": "682c73e8",
   "metadata": {},
   "outputs": [
    {
     "data": {
      "text/plain": [
       "<DatetimeArray>\n",
       "['2024-02-19 00:00:00', '2024-02-20 00:00:00', '2024-02-21 00:00:00',\n",
       " '2024-02-22 00:00:00', '2024-02-24 00:00:00', '2024-02-25 00:00:00',\n",
       " '2024-02-23 00:00:00']\n",
       "Length: 7, dtype: datetime64[ns]"
      ]
     },
     "execution_count": 478,
     "metadata": {},
     "output_type": "execute_result"
    }
   ],
   "source": [
    "merge_ras_1c_uchet['date_report'].unique()"
   ]
  },
  {
   "cell_type": "code",
   "execution_count": 479,
   "id": "4924ef20",
   "metadata": {},
   "outputs": [],
   "source": [
    "slide_3_column_1 = slide_3_column_1[['МО', 'mp_dolgnost', 'slots_type', 'slots_created', 'slots_booked']]"
   ]
  },
  {
   "cell_type": "code",
   "execution_count": 480,
   "id": "90e2cf23",
   "metadata": {},
   "outputs": [
    {
     "name": "stderr",
     "output_type": "stream",
     "text": [
      "/tmp/ipykernel_7504/108592405.py:1: FutureWarning: The provided callable <function sum at 0x7eff90181d80> is currently using DataFrameGroupBy.sum. In a future version of pandas, the provided callable will be used directly. To keep current behavior pass the string \"sum\" instead.\n",
      "  slide_3_column_1_pivot = pd.pivot_table(slide_3_column_1, index='МО',\n",
      "/tmp/ipykernel_7504/108592405.py:1: FutureWarning: The provided callable <function sum at 0x7eff90181d80> is currently using DataFrameGroupBy.sum. In a future version of pandas, the provided callable will be used directly. To keep current behavior pass the string \"sum\" instead.\n",
      "  slide_3_column_1_pivot = pd.pivot_table(slide_3_column_1, index='МО',\n",
      "/tmp/ipykernel_7504/108592405.py:1: FutureWarning: The provided callable <function sum at 0x7eff90181d80> is currently using DataFrameGroupBy.sum. In a future version of pandas, the provided callable will be used directly. To keep current behavior pass the string \"sum\" instead.\n",
      "  slide_3_column_1_pivot = pd.pivot_table(slide_3_column_1, index='МО',\n"
     ]
    }
   ],
   "source": [
    "slide_3_column_1_pivot = pd.pivot_table(slide_3_column_1, index='МО', \n",
    "                                        columns='slots_type', \n",
    "                                        values=['slots_created', 'slots_booked'],\n",
    "                                        aggfunc=np.sum, margins=True, margins_name='Итого').reset_index()"
   ]
  },
  {
   "cell_type": "code",
   "execution_count": 481,
   "id": "0ecd552c",
   "metadata": {},
   "outputs": [],
   "source": [
    "slide_3_column_1_pivot = slide_3_column_1_pivot.droplevel(0, axis=1)"
   ]
  },
  {
   "cell_type": "code",
   "execution_count": 482,
   "id": "695f5331",
   "metadata": {},
   "outputs": [],
   "source": [
    "#В этом примере мы создаем DataFrame с неуникальными именами столбцов. Мы используем метод MultiIndex.from_tuples для создания мультииндексов, чтобы сделать имена столбцов уникальными путем добавления индекса к дублирующимся именам. После этого мы присваиваем новые имена столбцов DataFrame.\n",
    "slide_3_column_1_pivot.columns = pd.MultiIndex.from_tuples([(col, 'slots_type' + str(i)) if col else (col, '') for i, col in enumerate(slide_3_column_1_pivot.columns)])"
   ]
  },
  {
   "cell_type": "code",
   "execution_count": 483,
   "id": "9b76051b",
   "metadata": {},
   "outputs": [],
   "source": [
    "slide_3_column_1_pivot = slide_3_column_1_pivot.droplevel(0, axis=1)"
   ]
  },
  {
   "cell_type": "code",
   "execution_count": 484,
   "id": "e9825fd0",
   "metadata": {},
   "outputs": [],
   "source": [
    "slide_3_column_1_pivot = slide_3_column_1_pivot.rename(columns={'': 'МО'})\n",
    "slide_3_column_1_pivot = slide_3_column_1_pivot[['МО', 'slots_type3', 'slots_type6']]\n",
    "slide_3_column_1_pivot = slide_3_column_1_pivot.rename_axis(None, axis=1)\n",
    "slide_3_column_1_pivot['Занятость слотов всего (доля от общего числа созданных и количества занятых)'] = round(slide_3_column_1_pivot['slots_type3'] / slide_3_column_1_pivot['slots_type6'] * 100, 2)"
   ]
  },
  {
   "cell_type": "code",
   "execution_count": 485,
   "id": "1bfc946d",
   "metadata": {},
   "outputs": [],
   "source": [
    "slide_3_column_1_itog = slide_3_column_1_pivot[['МО', 'Занятость слотов всего (доля от общего числа созданных и количества занятых)']]"
   ]
  },
  {
   "cell_type": "markdown",
   "id": "c30f48e7",
   "metadata": {},
   "source": [
    "2. 'Доля неявок от общего числа записей'"
   ]
  },
  {
   "cell_type": "code",
   "execution_count": 486,
   "id": "acd5b169",
   "metadata": {},
   "outputs": [],
   "source": [
    "slide_3_column2 = merge_ras_1c_uchet\n",
    "slide_3_column2.rename(columns={'Должность': 'mp_dolgnost'}, inplace=True)"
   ]
  },
  {
   "cell_type": "code",
   "execution_count": 487,
   "id": "9af04126",
   "metadata": {},
   "outputs": [],
   "source": [
    "slide3_column2 = slide_3_column2[['МО', 'mp_dolgnost', 'slots_type', 'slots_booked', 'visits_absence']]"
   ]
  },
  {
   "cell_type": "code",
   "execution_count": 488,
   "id": "38f04000",
   "metadata": {},
   "outputs": [
    {
     "name": "stderr",
     "output_type": "stream",
     "text": [
      "/tmp/ipykernel_7504/643692928.py:1: FutureWarning: The provided callable <function sum at 0x7eff90181d80> is currently using DataFrameGroupBy.sum. In a future version of pandas, the provided callable will be used directly. To keep current behavior pass the string \"sum\" instead.\n",
      "  slide3_column2_pivot = pd.pivot_table(slide3_column2, index='МО',\n",
      "/tmp/ipykernel_7504/643692928.py:1: FutureWarning: The provided callable <function sum at 0x7eff90181d80> is currently using DataFrameGroupBy.sum. In a future version of pandas, the provided callable will be used directly. To keep current behavior pass the string \"sum\" instead.\n",
      "  slide3_column2_pivot = pd.pivot_table(slide3_column2, index='МО',\n",
      "/tmp/ipykernel_7504/643692928.py:1: FutureWarning: The provided callable <function sum at 0x7eff90181d80> is currently using DataFrameGroupBy.sum. In a future version of pandas, the provided callable will be used directly. To keep current behavior pass the string \"sum\" instead.\n",
      "  slide3_column2_pivot = pd.pivot_table(slide3_column2, index='МО',\n"
     ]
    }
   ],
   "source": [
    "slide3_column2_pivot = pd.pivot_table(slide3_column2, index='МО', \n",
    "                                        columns='slots_type', \n",
    "                                        values=['slots_booked', 'visits_absence'],\n",
    "                                        aggfunc=np.sum, margins=True, margins_name='Итого').reset_index()"
   ]
  },
  {
   "cell_type": "code",
   "execution_count": 489,
   "id": "b8fe206f",
   "metadata": {},
   "outputs": [],
   "source": [
    "slide3_column2_pivot = slide3_column2_pivot.droplevel(0, axis=1)"
   ]
  },
  {
   "cell_type": "code",
   "execution_count": 490,
   "id": "64a3a3e5",
   "metadata": {},
   "outputs": [],
   "source": [
    "#В этом примере мы создаем DataFrame с неуникальными именами столбцов. Мы используем метод MultiIndex.from_tuples для создания мультииндексов, чтобы сделать имена столбцов уникальными путем добавления индекса к дублирующимся именам. После этого мы присваиваем новые имена столбцов DataF\n",
    "slide3_column2_pivot.columns = pd.MultiIndex.from_tuples([(col, 'slots_type' + str(i)) if col else (col, '') for i, col in enumerate(slide3_column2_pivot.columns)])"
   ]
  },
  {
   "cell_type": "code",
   "execution_count": 491,
   "id": "b154c22f",
   "metadata": {},
   "outputs": [],
   "source": [
    "slide3_column2_pivot = slide3_column2_pivot.droplevel(0, axis=1)"
   ]
  },
  {
   "cell_type": "code",
   "execution_count": 492,
   "id": "e4bc92df",
   "metadata": {},
   "outputs": [],
   "source": [
    "slide3_column2_pivot = slide3_column2_pivot.rename(columns={'': 'МО'})\n",
    "slide3_column2_pivot = slide3_column2_pivot[['МО', 'slots_type4', 'slots_type3']]\n",
    "slide3_column2_pivot = slide3_column2_pivot.rename_axis(None, axis=1)\n",
    "slide3_column2_pivot['Доля неявок от общего числа записей'] = round(slide3_column2_pivot['slots_type4'] / slide3_column2_pivot['slots_type3'] * 100, 2)"
   ]
  },
  {
   "cell_type": "code",
   "execution_count": 493,
   "id": "a08d922a",
   "metadata": {},
   "outputs": [],
   "source": [
    "slide3_column2_itog = slide3_column2_pivot[['МО', 'Доля неявок от общего числа записей']]"
   ]
  },
  {
   "cell_type": "markdown",
   "id": "f35d8a5c",
   "metadata": {},
   "source": [
    "3. Расчет третьего столбца 'Доля пациентов, принятых без предварительной записи'"
   ]
  },
  {
   "cell_type": "code",
   "execution_count": 494,
   "id": "cd5ebbc9",
   "metadata": {},
   "outputs": [
    {
     "data": {
      "text/plain": [
       "Index(['Unnamed: 0', 'Unnamed: 1', 'Unnamed: 2', 'Unnamed: 3', 'Unnamed: 4',\n",
       "       'Общее число слотов в расписании', 'из них конкурентных слотов',\n",
       "       'Общее число записей', 'из них вне слота с признаком \"живая очередь\"',\n",
       "       'из них 2-я/3-я/4-я запись пациентов на один и тот же слот времени',\n",
       "       'Общее число записей в расписании (занятые слоты)', 'из них из Прочие',\n",
       "       'из них из ЕПГУ', 'из них из региональный портал',\n",
       "       'из них из единого колл-центра',\n",
       "       'из них из колл-центров медицинских организаций',\n",
       "       'из них из регистратуры', 'из них из инфомата',\n",
       "       'Число отмененных записей',\n",
       "       'Число поступивших обращений с информационной целью (запрос информации)',\n",
       "       'Число поступивших обращений с целью записи на прием к врачу-специалисту по поводу заболеваний и с профилактической целью первичная',\n",
       "       'Число поступивших обращений с целью записи на прием к врачу-специалисту по поводу заболеваний повторная',\n",
       "       'Число поступивших обращений с целью записи на прием к врачу-специалисту в рамках диспансерного наблюдения',\n",
       "       'Число поступивших обращений с целью записи на услуги инструментальной и/или лабораторной диагностики',\n",
       "       'Число поступивших обращений с целью получения назначения, направления, справки, выписки, листа нетрудоспособности, иных документов',\n",
       "       'Число поступивших обращений с целью записи для прохождения первого или второго этапа диспансеризации',\n",
       "       'Число поступивших обращений с целью записи на вакцинацию',\n",
       "       'Число операторов колл-центров', 'Число лиц включенных в лист ожидания',\n",
       "       'Число лиц исключенных из листа ожидания по причине записи',\n",
       "       'Число звонков для обратной связи (уточнение цели обращения и актуализация записи)'],\n",
       "      dtype='object')"
      ]
     },
     "execution_count": 494,
     "metadata": {},
     "output_type": "execute_result"
    }
   ],
   "source": [
    "indi.columns"
   ]
  },
  {
   "cell_type": "code",
   "execution_count": 495,
   "id": "bb33dfa8",
   "metadata": {},
   "outputs": [],
   "source": [
    "indicators_slide3 = indi.copy()"
   ]
  },
  {
   "cell_type": "code",
   "execution_count": 496,
   "id": "2694c7d0",
   "metadata": {},
   "outputs": [],
   "source": [
    "indicators_slide3.rename(columns={'Unnamed: 0': 'МО', 'Unnamed: 3': 'Должность'}, inplace=True)"
   ]
  },
  {
   "cell_type": "code",
   "execution_count": 497,
   "id": "6266feb2",
   "metadata": {},
   "outputs": [],
   "source": [
    "indicators_slide3.rename(columns={'МО': 'Медицинская организация'}, inplace=True)"
   ]
  },
  {
   "cell_type": "code",
   "execution_count": 498,
   "id": "9e530e0e",
   "metadata": {},
   "outputs": [
    {
     "data": {
      "text/plain": [
       "Index(['Медицинская организация', 'Unnamed: 1', 'Unnamed: 2', 'Должность',\n",
       "       'Unnamed: 4', 'Общее число слотов в расписании',\n",
       "       'из них конкурентных слотов', 'Общее число записей',\n",
       "       'из них вне слота с признаком \"живая очередь\"',\n",
       "       'из них 2-я/3-я/4-я запись пациентов на один и тот же слот времени',\n",
       "       'Общее число записей в расписании (занятые слоты)', 'из них из Прочие',\n",
       "       'из них из ЕПГУ', 'из них из региональный портал',\n",
       "       'из них из единого колл-центра',\n",
       "       'из них из колл-центров медицинских организаций',\n",
       "       'из них из регистратуры', 'из них из инфомата',\n",
       "       'Число отмененных записей',\n",
       "       'Число поступивших обращений с информационной целью (запрос информации)',\n",
       "       'Число поступивших обращений с целью записи на прием к врачу-специалисту по поводу заболеваний и с профилактической целью первичная',\n",
       "       'Число поступивших обращений с целью записи на прием к врачу-специалисту по поводу заболеваний повторная',\n",
       "       'Число поступивших обращений с целью записи на прием к врачу-специалисту в рамках диспансерного наблюдения',\n",
       "       'Число поступивших обращений с целью записи на услуги инструментальной и/или лабораторной диагностики',\n",
       "       'Число поступивших обращений с целью получения назначения, направления, справки, выписки, листа нетрудоспособности, иных документов',\n",
       "       'Число поступивших обращений с целью записи для прохождения первого или второго этапа диспансеризации',\n",
       "       'Число поступивших обращений с целью записи на вакцинацию',\n",
       "       'Число операторов колл-центров', 'Число лиц включенных в лист ожидания',\n",
       "       'Число лиц исключенных из листа ожидания по причине записи',\n",
       "       'Число звонков для обратной связи (уточнение цели обращения и актуализация записи)'],\n",
       "      dtype='object')"
      ]
     },
     "execution_count": 498,
     "metadata": {},
     "output_type": "execute_result"
    }
   ],
   "source": [
    "indicators_slide3.columns"
   ]
  },
  {
   "cell_type": "code",
   "execution_count": 499,
   "id": "f98ece8c",
   "metadata": {},
   "outputs": [],
   "source": [
    "indicators_slide3 = indicators_slide3[['Медицинская организация', \n",
    "                    'Должность', \n",
    "                    'Общее число слотов в расписании', \n",
    "                    'Общее число записей', \n",
    "                    'из них вне слота с признаком \"живая очередь\"', \n",
    "                    'из них 2-я/3-я/4-я запись пациентов на один и тот же слот времени', \n",
    "                    'Общее число записей в расписании (занятые слоты)', 'из них из Прочие']].fillna(0)"
   ]
  },
  {
   "cell_type": "code",
   "execution_count": 500,
   "id": "f0b82c38",
   "metadata": {},
   "outputs": [
    {
     "data": {
      "text/plain": [
       "Index(['Медицинская организация', 'Должность',\n",
       "       'Общее число слотов в расписании', 'Общее число записей',\n",
       "       'из них вне слота с признаком \"живая очередь\"',\n",
       "       'из них 2-я/3-я/4-я запись пациентов на один и тот же слот времени',\n",
       "       'Общее число записей в расписании (занятые слоты)', 'из них из Прочие'],\n",
       "      dtype='object')"
      ]
     },
     "execution_count": 500,
     "metadata": {},
     "output_type": "execute_result"
    }
   ],
   "source": [
    "indicators_slide3.columns"
   ]
  },
  {
   "cell_type": "code",
   "execution_count": 501,
   "id": "d0db8c77",
   "metadata": {},
   "outputs": [],
   "source": [
    "indicators2 =  pd.merge(indicators_slide3, medorganization, how='left', on='Медицинская организация').dropna()"
   ]
  },
  {
   "cell_type": "code",
   "execution_count": 502,
   "id": "57de0400",
   "metadata": {},
   "outputs": [],
   "source": [
    "indicators2 = pd.merge(tablica_doljnost, indicators2, how='left', on='Должность').dropna()"
   ]
  },
  {
   "cell_type": "code",
   "execution_count": 503,
   "id": "67690d7c",
   "metadata": {},
   "outputs": [],
   "source": [
    "# сопоставление \n",
    "indicator_mo_uchet_slide3 = pd.merge(indicators2, employee_uchet, on=['Организация', 'Должность'], how='left').fillna(0)"
   ]
  },
  {
   "cell_type": "code",
   "execution_count": 504,
   "id": "0d7248f5",
   "metadata": {},
   "outputs": [
    {
     "name": "stderr",
     "output_type": "stream",
     "text": [
      "/tmp/ipykernel_7504/3860048293.py:1: FutureWarning: The provided callable <function sum at 0x7eff90181d80> is currently using DataFrameGroupBy.sum. In a future version of pandas, the provided callable will be used directly. To keep current behavior pass the string \"sum\" instead.\n",
      "  slide3_column3_svod = pd.pivot_table(indicator_mo_uchet_slide3, index='МО', values=['Общее число слотов в расписании',\n"
     ]
    }
   ],
   "source": [
    "\n",
    "slide3_column3_svod = pd.pivot_table(indicator_mo_uchet_slide3, index='МО', values=['Общее число слотов в расписании', \n",
    "                                                                      'Общее число записей', \n",
    "                                                                      'из них вне слота с признаком \"живая очередь\"', \n",
    "                                                                      'из них 2-я/3-я/4-я запись пациентов на один и тот же слот времени', \n",
    "                                                                      'Общее число записей в расписании (занятые слоты)'], \n",
    "                                                                      aggfunc=np.sum, margins=True, margins_name='Итого').reset_index()\n",
    "slide3_column3_svod['Доля пациентов, принятых без предварительной записи'] = round(slide3_column3_svod['из них вне слота с признаком \"живая очередь\"'] / slide3_column3_svod['Общее число записей'] * 100, 2).fillna(0)\n",
    "slide3_column3_svod = slide3_column3_svod[slide3_column3_svod['МО'] != 'ПЦ_Тюмень']\n",
    "slide3_column3_svod = slide3_column3_svod[slide3_column3_svod['МО'] != 'ОКБ1']\n",
    "slide3_column3 = slide3_column3_svod[['МО', 'Доля пациентов, принятых без предварительной записи']]"
   ]
  },
  {
   "cell_type": "markdown",
   "id": "23bce5e7",
   "metadata": {},
   "source": [
    "4. Расчет показателя 'Доля посещений на дому'"
   ]
  },
  {
   "cell_type": "code",
   "execution_count": 505,
   "id": "eee1f28c",
   "metadata": {},
   "outputs": [
    {
     "name": "stderr",
     "output_type": "stream",
     "text": [
      "/tmp/ipykernel_7504/598535920.py:35: SettingWithCopyWarning: \n",
      "A value is trying to be set on a copy of a slice from a DataFrame\n",
      "\n",
      "See the caveats in the documentation: https://pandas.pydata.org/pandas-docs/stable/user_guide/indexing.html#returning-a-view-versus-a-copy\n",
      "  clean_df.loc[clean_df['Уровень структуры'] == 0, 'Уровень структуры'] = 1\n"
     ]
    },
    {
     "data": {
      "text/html": [
       "<div>\n",
       "<style scoped>\n",
       "    .dataframe tbody tr th:only-of-type {\n",
       "        vertical-align: middle;\n",
       "    }\n",
       "\n",
       "    .dataframe tbody tr th {\n",
       "        vertical-align: top;\n",
       "    }\n",
       "\n",
       "    .dataframe thead th {\n",
       "        text-align: right;\n",
       "    }\n",
       "</style>\n",
       "<table border=\"1\" class=\"dataframe\">\n",
       "  <thead>\n",
       "    <tr style=\"text-align: right;\">\n",
       "      <th></th>\n",
       "      <th>Уровень структуры</th>\n",
       "    </tr>\n",
       "  </thead>\n",
       "  <tbody>\n",
       "    <tr>\n",
       "      <th>0</th>\n",
       "      <td>1.0</td>\n",
       "    </tr>\n",
       "    <tr>\n",
       "      <th>1</th>\n",
       "      <td>2.0</td>\n",
       "    </tr>\n",
       "    <tr>\n",
       "      <th>2</th>\n",
       "      <td>2.0</td>\n",
       "    </tr>\n",
       "    <tr>\n",
       "      <th>3</th>\n",
       "      <td>2.0</td>\n",
       "    </tr>\n",
       "    <tr>\n",
       "      <th>4</th>\n",
       "      <td>2.0</td>\n",
       "    </tr>\n",
       "    <tr>\n",
       "      <th>...</th>\n",
       "      <td>...</td>\n",
       "    </tr>\n",
       "    <tr>\n",
       "      <th>3184</th>\n",
       "      <td>2.0</td>\n",
       "    </tr>\n",
       "    <tr>\n",
       "      <th>3185</th>\n",
       "      <td>2.0</td>\n",
       "    </tr>\n",
       "    <tr>\n",
       "      <th>3186</th>\n",
       "      <td>2.0</td>\n",
       "    </tr>\n",
       "    <tr>\n",
       "      <th>3187</th>\n",
       "      <td>2.0</td>\n",
       "    </tr>\n",
       "    <tr>\n",
       "      <th>3188</th>\n",
       "      <td>2.0</td>\n",
       "    </tr>\n",
       "  </tbody>\n",
       "</table>\n",
       "<p>3189 rows × 1 columns</p>\n",
       "</div>"
      ],
      "text/plain": [
       "      Уровень структуры\n",
       "0                   1.0\n",
       "1                   2.0\n",
       "2                   2.0\n",
       "3                   2.0\n",
       "4                   2.0\n",
       "...                 ...\n",
       "3184                2.0\n",
       "3185                2.0\n",
       "3186                2.0\n",
       "3187                2.0\n",
       "3188                2.0\n",
       "\n",
       "[3189 rows x 1 columns]"
      ]
     },
     "execution_count": 505,
     "metadata": {},
     "output_type": "execute_result"
    }
   ],
   "source": [
    "def get_row_group_level(worksheet, row_num):\n",
    "    cell = worksheet.cell(row=row_num, column=1)\n",
    "    indentation_level = cell.alignment.indent\n",
    "    return indentation_level\n",
    "\n",
    "def count_row_group_levels(file_path):\n",
    "    workbook = openpyxl.load_workbook(file_path)\n",
    "    worksheet = workbook.active\n",
    "\n",
    "    max_row = worksheet.max_row\n",
    "    group_levels = {}\n",
    "\n",
    "    for row_num in range(8, max_row + 1):\n",
    "        group_level = get_row_group_level(worksheet, row_num)\n",
    "        group_levels[row_num] = group_level\n",
    "\n",
    "    return group_levels\n",
    "\n",
    "folder_path = EMERGENCY_XLSX\n",
    "combined_group_levels = []\n",
    "\n",
    "for filename in os.listdir(folder_path):\n",
    "    if filename.endswith('.xlsx'):\n",
    "        file_path = os.path.join(folder_path, filename)\n",
    "        row_group_levels = count_row_group_levels(file_path)\n",
    "        dff = pd.DataFrame.from_dict(row_group_levels, orient='index', columns=['Уровень структуры'])\n",
    "        dff['Файл'] = filename\n",
    "        combined_group_levels.append(dff)\n",
    "\n",
    "combined_df = pd.concat(combined_group_levels)\n",
    "combined_df.index.name = 'Строка'\n",
    "combined_df = combined_df.reset_index()\n",
    "combined_df['Файл'] = combined_df['Файл'].apply(lambda x: x.split('.')[0])\n",
    "clean_df = combined_df[['Уровень структуры']]\n",
    "clean_df.loc[clean_df['Уровень структуры'] == 0, 'Уровень структуры'] = 1\n",
    "clean_df"
   ]
  },
  {
   "cell_type": "code",
   "execution_count": 506,
   "id": "c2deba33",
   "metadata": {},
   "outputs": [
    {
     "data": {
      "text/plain": [
       "'/home/serg/prezentation/emergency/neotlojka.xlsx'"
      ]
     },
     "execution_count": 506,
     "metadata": {},
     "output_type": "execute_result"
    }
   ],
   "source": [
    "NEOTLOJKA_XLSX"
   ]
  },
  {
   "cell_type": "code",
   "execution_count": 507,
   "id": "29591c95",
   "metadata": {},
   "outputs": [],
   "source": [
    "emergency_medical_care = pd.read_excel(NEOTLOJKA_XLSX, skiprows=[0, 1, 2, 3, 4]).fillna(0)"
   ]
  },
  {
   "cell_type": "code",
   "execution_count": 508,
   "id": "f0b0a8ce",
   "metadata": {},
   "outputs": [
    {
     "data": {
      "text/html": [
       "<div>\n",
       "<style scoped>\n",
       "    .dataframe tbody tr th:only-of-type {\n",
       "        vertical-align: middle;\n",
       "    }\n",
       "\n",
       "    .dataframe tbody tr th {\n",
       "        vertical-align: top;\n",
       "    }\n",
       "\n",
       "    .dataframe thead th {\n",
       "        text-align: right;\n",
       "    }\n",
       "</style>\n",
       "<table border=\"1\" class=\"dataframe\">\n",
       "  <thead>\n",
       "    <tr style=\"text-align: right;\">\n",
       "      <th></th>\n",
       "      <th>Должность</th>\n",
       "      <th>Unnamed: 1</th>\n",
       "      <th>Unnamed: 2</th>\n",
       "      <th>Источник записи строка</th>\n",
       "      <th>Unnamed: 4</th>\n",
       "      <th>Всего количество записей на прием</th>\n",
       "      <th>Записи на тип приема врача \"Вызов на дом\"</th>\n",
       "      <th>Unnamed: 7</th>\n",
       "      <th>Unnamed: 8</th>\n",
       "      <th>Метка \"Помощь на дому\"</th>\n",
       "      <th>Метка \"Неотложная помощь в поликлинике\"</th>\n",
       "    </tr>\n",
       "  </thead>\n",
       "  <tbody>\n",
       "    <tr>\n",
       "      <th>0</th>\n",
       "      <td>0</td>\n",
       "      <td>0.0</td>\n",
       "      <td>0.0</td>\n",
       "      <td>0</td>\n",
       "      <td>0.0</td>\n",
       "      <td>0.0</td>\n",
       "      <td>Метка \"Неотложная помощь на дому\"</td>\n",
       "      <td>Метка \"Вызов\"</td>\n",
       "      <td>Метка \"Патронаж новорожденного\"</td>\n",
       "      <td>0.0</td>\n",
       "      <td>0.0</td>\n",
       "    </tr>\n",
       "    <tr>\n",
       "      <th>1</th>\n",
       "      <td>ГАУЗ ТО \"Городская поликлиника № 1\"</td>\n",
       "      <td>0.0</td>\n",
       "      <td>0.0</td>\n",
       "      <td>0</td>\n",
       "      <td>0.0</td>\n",
       "      <td>0.0</td>\n",
       "      <td>0</td>\n",
       "      <td>0</td>\n",
       "      <td>0</td>\n",
       "      <td>0.0</td>\n",
       "      <td>0.0</td>\n",
       "    </tr>\n",
       "    <tr>\n",
       "      <th>2</th>\n",
       "      <td>врач общей практики (семейный врач)</td>\n",
       "      <td>0.0</td>\n",
       "      <td>0.0</td>\n",
       "      <td>Запись на прием с ЕПГУ</td>\n",
       "      <td>0.0</td>\n",
       "      <td>8.0</td>\n",
       "      <td>0</td>\n",
       "      <td>0</td>\n",
       "      <td>0</td>\n",
       "      <td>0.0</td>\n",
       "      <td>0.0</td>\n",
       "    </tr>\n",
       "    <tr>\n",
       "      <th>3</th>\n",
       "      <td>врач-акушер-гинеколог</td>\n",
       "      <td>0.0</td>\n",
       "      <td>0.0</td>\n",
       "      <td>Запись на прием с ЕПГУ</td>\n",
       "      <td>0.0</td>\n",
       "      <td>30.0</td>\n",
       "      <td>0</td>\n",
       "      <td>0</td>\n",
       "      <td>0</td>\n",
       "      <td>0.0</td>\n",
       "      <td>0.0</td>\n",
       "    </tr>\n",
       "    <tr>\n",
       "      <th>4</th>\n",
       "      <td>врач-оториноларинголог</td>\n",
       "      <td>0.0</td>\n",
       "      <td>0.0</td>\n",
       "      <td>Запись на прием с ЕПГУ</td>\n",
       "      <td>0.0</td>\n",
       "      <td>6.0</td>\n",
       "      <td>0</td>\n",
       "      <td>0</td>\n",
       "      <td>0</td>\n",
       "      <td>0.0</td>\n",
       "      <td>0.0</td>\n",
       "    </tr>\n",
       "    <tr>\n",
       "      <th>...</th>\n",
       "      <td>...</td>\n",
       "      <td>...</td>\n",
       "      <td>...</td>\n",
       "      <td>...</td>\n",
       "      <td>...</td>\n",
       "      <td>...</td>\n",
       "      <td>...</td>\n",
       "      <td>...</td>\n",
       "      <td>...</td>\n",
       "      <td>...</td>\n",
       "      <td>...</td>\n",
       "    </tr>\n",
       "    <tr>\n",
       "      <th>3185</th>\n",
       "      <td>акушер</td>\n",
       "      <td>0.0</td>\n",
       "      <td>0.0</td>\n",
       "      <td>АРМ медицинского работника</td>\n",
       "      <td>0.0</td>\n",
       "      <td>70.0</td>\n",
       "      <td>0</td>\n",
       "      <td>0</td>\n",
       "      <td>0</td>\n",
       "      <td>0.0</td>\n",
       "      <td>0.0</td>\n",
       "    </tr>\n",
       "    <tr>\n",
       "      <th>3186</th>\n",
       "      <td>медицинская сестра процедурной</td>\n",
       "      <td>0.0</td>\n",
       "      <td>0.0</td>\n",
       "      <td>АРМ медицинского работника</td>\n",
       "      <td>0.0</td>\n",
       "      <td>3.0</td>\n",
       "      <td>0</td>\n",
       "      <td>0</td>\n",
       "      <td>0</td>\n",
       "      <td>0.0</td>\n",
       "      <td>0.0</td>\n",
       "    </tr>\n",
       "    <tr>\n",
       "      <th>3187</th>\n",
       "      <td>фельдшер</td>\n",
       "      <td>0.0</td>\n",
       "      <td>0.0</td>\n",
       "      <td>АРМ медицинского работника</td>\n",
       "      <td>0.0</td>\n",
       "      <td>38.0</td>\n",
       "      <td>0</td>\n",
       "      <td>0</td>\n",
       "      <td>0</td>\n",
       "      <td>14.0</td>\n",
       "      <td>0.0</td>\n",
       "    </tr>\n",
       "    <tr>\n",
       "      <th>3188</th>\n",
       "      <td>врач-кардиолог</td>\n",
       "      <td>0.0</td>\n",
       "      <td>0.0</td>\n",
       "      <td>АРМ медицинского работника</td>\n",
       "      <td>0.0</td>\n",
       "      <td>37.0</td>\n",
       "      <td>0</td>\n",
       "      <td>0</td>\n",
       "      <td>0</td>\n",
       "      <td>0.0</td>\n",
       "      <td>0.0</td>\n",
       "    </tr>\n",
       "    <tr>\n",
       "      <th>3189</th>\n",
       "      <td>врач-физиотерапевт</td>\n",
       "      <td>0.0</td>\n",
       "      <td>0.0</td>\n",
       "      <td>АРМ медицинского работника</td>\n",
       "      <td>0.0</td>\n",
       "      <td>9.0</td>\n",
       "      <td>0</td>\n",
       "      <td>0</td>\n",
       "      <td>0</td>\n",
       "      <td>0.0</td>\n",
       "      <td>0.0</td>\n",
       "    </tr>\n",
       "  </tbody>\n",
       "</table>\n",
       "<p>3190 rows × 11 columns</p>\n",
       "</div>"
      ],
      "text/plain": [
       "                                Должность  Unnamed: 1  Unnamed: 2  \\\n",
       "0                                       0         0.0         0.0   \n",
       "1     ГАУЗ ТО \"Городская поликлиника № 1\"         0.0         0.0   \n",
       "2     врач общей практики (семейный врач)         0.0         0.0   \n",
       "3                   врач-акушер-гинеколог         0.0         0.0   \n",
       "4                  врач-оториноларинголог         0.0         0.0   \n",
       "...                                   ...         ...         ...   \n",
       "3185                               акушер         0.0         0.0   \n",
       "3186       медицинская сестра процедурной         0.0         0.0   \n",
       "3187                             фельдшер         0.0         0.0   \n",
       "3188                       врач-кардиолог         0.0         0.0   \n",
       "3189                   врач-физиотерапевт         0.0         0.0   \n",
       "\n",
       "          Источник записи строка  Unnamed: 4  \\\n",
       "0                              0         0.0   \n",
       "1                              0         0.0   \n",
       "2         Запись на прием с ЕПГУ         0.0   \n",
       "3         Запись на прием с ЕПГУ         0.0   \n",
       "4         Запись на прием с ЕПГУ         0.0   \n",
       "...                          ...         ...   \n",
       "3185  АРМ медицинского работника         0.0   \n",
       "3186  АРМ медицинского работника         0.0   \n",
       "3187  АРМ медицинского работника         0.0   \n",
       "3188  АРМ медицинского работника         0.0   \n",
       "3189  АРМ медицинского работника         0.0   \n",
       "\n",
       "      Всего количество записей на прием  \\\n",
       "0                                   0.0   \n",
       "1                                   0.0   \n",
       "2                                   8.0   \n",
       "3                                  30.0   \n",
       "4                                   6.0   \n",
       "...                                 ...   \n",
       "3185                               70.0   \n",
       "3186                                3.0   \n",
       "3187                               38.0   \n",
       "3188                               37.0   \n",
       "3189                                9.0   \n",
       "\n",
       "     Записи на тип приема врача \"Вызов на дом\"     Unnamed: 7  \\\n",
       "0            Метка \"Неотложная помощь на дому\"  Метка \"Вызов\"   \n",
       "1                                            0              0   \n",
       "2                                            0              0   \n",
       "3                                            0              0   \n",
       "4                                            0              0   \n",
       "...                                        ...            ...   \n",
       "3185                                         0              0   \n",
       "3186                                         0              0   \n",
       "3187                                         0              0   \n",
       "3188                                         0              0   \n",
       "3189                                         0              0   \n",
       "\n",
       "                           Unnamed: 8  Метка \"Помощь на дому\"  \\\n",
       "0     Метка \"Патронаж новорожденного\"                     0.0   \n",
       "1                                   0                     0.0   \n",
       "2                                   0                     0.0   \n",
       "3                                   0                     0.0   \n",
       "4                                   0                     0.0   \n",
       "...                               ...                     ...   \n",
       "3185                                0                     0.0   \n",
       "3186                                0                     0.0   \n",
       "3187                                0                    14.0   \n",
       "3188                                0                     0.0   \n",
       "3189                                0                     0.0   \n",
       "\n",
       "      Метка \"Неотложная помощь в поликлинике\"  \n",
       "0                                         0.0  \n",
       "1                                         0.0  \n",
       "2                                         0.0  \n",
       "3                                         0.0  \n",
       "4                                         0.0  \n",
       "...                                       ...  \n",
       "3185                                      0.0  \n",
       "3186                                      0.0  \n",
       "3187                                      0.0  \n",
       "3188                                      0.0  \n",
       "3189                                      0.0  \n",
       "\n",
       "[3190 rows x 11 columns]"
      ]
     },
     "execution_count": 508,
     "metadata": {},
     "output_type": "execute_result"
    }
   ],
   "source": [
    "emergency_medical_care"
   ]
  },
  {
   "cell_type": "code",
   "execution_count": 509,
   "id": "df1ccb4b",
   "metadata": {},
   "outputs": [],
   "source": [
    "emergency_medical_care = emergency_medical_care.rename(columns={'Записи на тип приема врача \"Вызов на дом\"': 'Метка \"Неотложная помощь на дому\"', 'Должность': 'Медицинская организация'})\n",
    "emergency_medical_care.drop(index=0, inplace=True)"
   ]
  },
  {
   "cell_type": "code",
   "execution_count": 510,
   "id": "da59780c",
   "metadata": {},
   "outputs": [],
   "source": [
    "emergency_medical_care.reset_index(drop=True, inplace=True)"
   ]
  },
  {
   "cell_type": "code",
   "execution_count": 511,
   "id": "8e72a5a2",
   "metadata": {},
   "outputs": [],
   "source": [
    "emergency_medical_care = emergency_medical_care[['Медицинская организация', 'Метка \"Неотложная помощь на дому\"', 'Метка \"Неотложная помощь в поликлинике\"']]"
   ]
  },
  {
   "cell_type": "code",
   "execution_count": 512,
   "id": "06edee10",
   "metadata": {},
   "outputs": [],
   "source": [
    "emergency_medical_care_merge = pd.concat([emergency_medical_care, clean_df], axis=1)"
   ]
  },
  {
   "cell_type": "code",
   "execution_count": 513,
   "id": "6f06eef8",
   "metadata": {},
   "outputs": [],
   "source": [
    "emergency_medical_care_merge['МО'] = np.where(emergency_medical_care_merge['Уровень структуры'] == 1, emergency_medical_care_merge['Медицинская организация'], np.NaN)\n",
    "emergency_medical_care_merge['МО'] = emergency_medical_care_merge['МО'].ffill()"
   ]
  },
  {
   "cell_type": "code",
   "execution_count": 514,
   "id": "f0483521",
   "metadata": {},
   "outputs": [],
   "source": [
    "emergency_medical_care_merge = emergency_medical_care_merge[emergency_medical_care_merge['Уровень структуры'] != 1.0]"
   ]
  },
  {
   "cell_type": "code",
   "execution_count": 515,
   "id": "773e77b6",
   "metadata": {},
   "outputs": [],
   "source": [
    "emergency_medical_care_merge = emergency_medical_care_merge[(emergency_medical_care_merge['Медицинская организация'] == 'врач-педиатр участковый') | (emergency_medical_care_merge['Медицинская организация'] == 'врач-терапевт участковый')]"
   ]
  },
  {
   "cell_type": "code",
   "execution_count": 516,
   "id": "76010c64",
   "metadata": {},
   "outputs": [],
   "source": [
    "emergency_medical_care_merge = emergency_medical_care_merge[['МО', 'Метка \"Неотложная помощь на дому\"', 'Метка \"Неотложная помощь в поликлинике\"']]"
   ]
  },
  {
   "cell_type": "code",
   "execution_count": 517,
   "id": "d279e1e4",
   "metadata": {},
   "outputs": [],
   "source": [
    "emergency_medical_care_merge.to_excel('/home/serg/prezentation/output/neotlojka.xlsx', index=False)"
   ]
  },
  {
   "cell_type": "code",
   "execution_count": 518,
   "id": "d976e44e",
   "metadata": {},
   "outputs": [
    {
     "name": "stderr",
     "output_type": "stream",
     "text": [
      "/tmp/ipykernel_7504/45247297.py:1: FutureWarning: The provided callable <function sum at 0x7eff90181d80> is currently using DataFrameGroupBy.sum. In a future version of pandas, the provided callable will be used directly. To keep current behavior pass the string \"sum\" instead.\n",
      "  emergency_medical_care_pivot1 = pd.pivot_table(emergency_medical_care_merge, index='МО', values=['Метка \"Неотложная помощь на дому\"'], aggfunc=np.sum).reset_index()\n",
      "/tmp/ipykernel_7504/45247297.py:2: FutureWarning: The provided callable <function sum at 0x7eff90181d80> is currently using DataFrameGroupBy.sum. In a future version of pandas, the provided callable will be used directly. To keep current behavior pass the string \"sum\" instead.\n",
      "  emergency_medical_care_pivot2 = pd.pivot_table(emergency_medical_care_merge, index='МО', values=['Метка \"Неотложная помощь в поликлинике\"'], aggfunc=np.sum).reset_index()\n"
     ]
    }
   ],
   "source": [
    "emergency_medical_care_pivot1 = pd.pivot_table(emergency_medical_care_merge, index='МО', values=['Метка \"Неотложная помощь на дому\"'], aggfunc=np.sum).reset_index()\n",
    "emergency_medical_care_pivot2 = pd.pivot_table(emergency_medical_care_merge, index='МО', values=['Метка \"Неотложная помощь в поликлинике\"'], aggfunc=np.sum).reset_index()\n",
    "emergency_medical_care_pivot_merge2 = pd.merge(emergency_medical_care_pivot1, emergency_medical_care_pivot2, how='inner', on='МО')\n",
    "emergency_medical_care_pivot_merge2['Сумма посещений на дому  по неотложной помощи у врачей участковой службы'] = emergency_medical_care_pivot_merge2['Метка \"Неотложная помощь на дому\"'] + emergency_medical_care_pivot_merge2['Метка \"Неотложная помощь в поликлинике\"']\n",
    "emergency_medical_care_pivot_merge2.rename(columns={'МО' : 'mo_short_name'}, inplace=True)"
   ]
  },
  {
   "cell_type": "markdown",
   "id": "0f700662",
   "metadata": {},
   "source": [
    "###### Загружаем секретный отчет"
   ]
  },
  {
   "cell_type": "code",
   "execution_count": 519,
   "id": "fc62fe80",
   "metadata": {},
   "outputs": [
    {
     "data": {
      "text/plain": [
       "Index(['Организация', 'mp_dolgnost', 'Проверка', 'region', 'mo_oid',\n",
       "       'mo_short_name', 'sp_oid', 'sp_name', 'mp_id', 'mp_fio', 'date_report',\n",
       "       'mp_stavka', 'slots_type', 'slots_referral', 'slot_lenght',\n",
       "       'slots_created', 'slots_booked', 'slots_free_after_booked',\n",
       "       'visits_absence', 'visits_success', 'Наименование МО', 'МО',\n",
       "       'МедОрганизация', 'Краткое наименование организации',\n",
       "       'Медицинская организация'],\n",
       "      dtype='object')"
      ]
     },
     "execution_count": 519,
     "metadata": {},
     "output_type": "execute_result"
    }
   ],
   "source": [
    "merge_ras_1c_uchet.columns"
   ]
  },
  {
   "cell_type": "code",
   "execution_count": 520,
   "id": "b7a50fd3",
   "metadata": {},
   "outputs": [],
   "source": [
    "merge_ras_1c_uchet_secret = merge_ras_1c_uchet.copy()"
   ]
  },
  {
   "cell_type": "code",
   "execution_count": 521,
   "id": "2c722057",
   "metadata": {},
   "outputs": [],
   "source": [
    "merge_ras_1c_uchet_secret.rename(columns={'mp_dolgnost' : 'Должность'}, inplace=True)"
   ]
  },
  {
   "cell_type": "code",
   "execution_count": 522,
   "id": "9b320fe7",
   "metadata": {},
   "outputs": [
    {
     "data": {
      "text/plain": [
       "<DatetimeArray>\n",
       "['2024-02-19 00:00:00', '2024-02-20 00:00:00', '2024-02-21 00:00:00',\n",
       " '2024-02-22 00:00:00', '2024-02-24 00:00:00', '2024-02-25 00:00:00',\n",
       " '2024-02-23 00:00:00']\n",
       "Length: 7, dtype: datetime64[ns]"
      ]
     },
     "execution_count": 522,
     "metadata": {},
     "output_type": "execute_result"
    }
   ],
   "source": [
    "merge_ras_1c_uchet_secret['date_report'].unique()"
   ]
  },
  {
   "cell_type": "code",
   "execution_count": 523,
   "id": "8f9a0b3a",
   "metadata": {},
   "outputs": [],
   "source": [
    "uchastkovye_secret = merge_ras_1c_uchet_secret[(merge_ras_1c_uchet_secret['Должность'] == 'врач-педиатр участковый') | (merge_ras_1c_uchet_secret['Должность'] == 'врач-терапевт участковый')]"
   ]
  },
  {
   "cell_type": "code",
   "execution_count": 524,
   "id": "283fe4be",
   "metadata": {},
   "outputs": [
    {
     "data": {
      "text/plain": [
       "array(['врач-педиатр участковый', 'врач-терапевт участковый'],\n",
       "      dtype=object)"
      ]
     },
     "execution_count": 524,
     "metadata": {},
     "output_type": "execute_result"
    }
   ],
   "source": [
    "uchastkovye_secret['Должность'].unique()"
   ]
  },
  {
   "cell_type": "code",
   "execution_count": 525,
   "id": "05ef178f",
   "metadata": {},
   "outputs": [
    {
     "name": "stderr",
     "output_type": "stream",
     "text": [
      "/tmp/ipykernel_7504/1098382493.py:1: SettingWithCopyWarning: \n",
      "A value is trying to be set on a copy of a slice from a DataFrame.\n",
      "Try using .loc[row_indexer,col_indexer] = value instead\n",
      "\n",
      "See the caveats in the documentation: https://pandas.pydata.org/pandas-docs/stable/user_guide/indexing.html#returning-a-view-versus-a-copy\n",
      "  uchastkovye_secret['count_number'] = 1\n",
      "/tmp/ipykernel_7504/1098382493.py:2: FutureWarning: The provided callable <function sum at 0x7eff90181d80> is currently using DataFrameGroupBy.sum. In a future version of pandas, the provided callable will be used directly. To keep current behavior pass the string \"sum\" instead.\n",
      "  uchastkovye_secret_pivot = pd.pivot_table(uchastkovye_secret, index=['МО'], columns='Должность', values='count_number', aggfunc=np.sum, margins=True, margins_name='Итого').reset_index()\n",
      "/tmp/ipykernel_7504/1098382493.py:2: FutureWarning: The provided callable <function sum at 0x7eff90181d80> is currently using DataFrameGroupBy.sum. In a future version of pandas, the provided callable will be used directly. To keep current behavior pass the string \"sum\" instead.\n",
      "  uchastkovye_secret_pivot = pd.pivot_table(uchastkovye_secret, index=['МО'], columns='Должность', values='count_number', aggfunc=np.sum, margins=True, margins_name='Итого').reset_index()\n",
      "/tmp/ipykernel_7504/1098382493.py:2: FutureWarning: The provided callable <function sum at 0x7eff90181d80> is currently using DataFrameGroupBy.sum. In a future version of pandas, the provided callable will be used directly. To keep current behavior pass the string \"sum\" instead.\n",
      "  uchastkovye_secret_pivot = pd.pivot_table(uchastkovye_secret, index=['МО'], columns='Должность', values='count_number', aggfunc=np.sum, margins=True, margins_name='Итого').reset_index()\n"
     ]
    }
   ],
   "source": [
    "uchastkovye_secret['count_number'] = 1\n",
    "uchastkovye_secret_pivot = pd.pivot_table(uchastkovye_secret, index=['МО'], columns='Должность', values='count_number', aggfunc=np.sum, margins=True, margins_name='Итого').reset_index()\n",
    "uchastkovye_secret_pivot.rename_axis(None, axis=1, inplace=True)"
   ]
  },
  {
   "cell_type": "code",
   "execution_count": 526,
   "id": "b8888723",
   "metadata": {},
   "outputs": [],
   "source": [
    "\n",
    "uchastkovye_secret_pivot['Участковые'] = uchastkovye_secret_pivot['врач-педиатр участковый'] + uchastkovye_secret_pivot['врач-терапевт участковый']"
   ]
  },
  {
   "cell_type": "code",
   "execution_count": 527,
   "id": "262cd391",
   "metadata": {},
   "outputs": [],
   "source": [
    "uchastkovye_itog = uchastkovye_secret_pivot[['МО', 'Участковые']]"
   ]
  },
  {
   "cell_type": "code",
   "execution_count": 528,
   "id": "ded372f7",
   "metadata": {},
   "outputs": [
    {
     "data": {
      "text/plain": [
       "array(['ГП1', 'ГП12', 'ГП13', 'ГП17', 'ГП3', 'ГП4', 'ГП5', 'ГП6', 'ГП8',\n",
       "       'ОБ11', 'ОБ12', 'ОБ13', 'ОБ14', 'ОБ15', 'ОБ19', 'ОБ20', 'ОБ23',\n",
       "       'ОБ24', 'ОБ3', 'ОБ4', 'ОБ9', 'ОКБ2', 'Итого'], dtype=object)"
      ]
     },
     "execution_count": 528,
     "metadata": {},
     "output_type": "execute_result"
    }
   ],
   "source": [
    "uchastkovye_itog['МО'].unique()"
   ]
  },
  {
   "cell_type": "code",
   "execution_count": 529,
   "id": "3705d3d3",
   "metadata": {},
   "outputs": [],
   "source": [
    "guide_mo2 = pd.read_excel(ROOT_PATH +'/guide/guide_mo2.xlsx')"
   ]
  },
  {
   "cell_type": "code",
   "execution_count": 530,
   "id": "243afd16",
   "metadata": {},
   "outputs": [
    {
     "data": {
      "text/html": [
       "<div>\n",
       "<style scoped>\n",
       "    .dataframe tbody tr th:only-of-type {\n",
       "        vertical-align: middle;\n",
       "    }\n",
       "\n",
       "    .dataframe tbody tr th {\n",
       "        vertical-align: top;\n",
       "    }\n",
       "\n",
       "    .dataframe thead th {\n",
       "        text-align: right;\n",
       "    }\n",
       "</style>\n",
       "<table border=\"1\" class=\"dataframe\">\n",
       "  <thead>\n",
       "    <tr style=\"text-align: right;\">\n",
       "      <th></th>\n",
       "      <th>mo_short_name</th>\n",
       "      <th>МО</th>\n",
       "    </tr>\n",
       "  </thead>\n",
       "  <tbody>\n",
       "    <tr>\n",
       "      <th>0</th>\n",
       "      <td>ГАУЗ ТО \"Городская поликлиника № 1\"</td>\n",
       "      <td>ГП1</td>\n",
       "    </tr>\n",
       "    <tr>\n",
       "      <th>1</th>\n",
       "      <td>ГАУЗ ТО \"Городская поликлиника № 12\"</td>\n",
       "      <td>ГП12</td>\n",
       "    </tr>\n",
       "    <tr>\n",
       "      <th>2</th>\n",
       "      <td>ГАУЗ ТО \"Городская поликлиника № 13 \"</td>\n",
       "      <td>ГП13</td>\n",
       "    </tr>\n",
       "    <tr>\n",
       "      <th>3</th>\n",
       "      <td>ГАУЗ ТО \"Городская поликлиника № 4\"</td>\n",
       "      <td>ГП4</td>\n",
       "    </tr>\n",
       "    <tr>\n",
       "      <th>4</th>\n",
       "      <td>ГАУЗ ТО \"Городская поликлиника №5\"</td>\n",
       "      <td>ГП5</td>\n",
       "    </tr>\n",
       "    <tr>\n",
       "      <th>5</th>\n",
       "      <td>ГАУЗ ТО \"Областная больница № 19\" (г.Тюмень)</td>\n",
       "      <td>ОБ19</td>\n",
       "    </tr>\n",
       "    <tr>\n",
       "      <th>6</th>\n",
       "      <td>ГАУЗ ТО «Городская Поликлиника № 6»</td>\n",
       "      <td>ГП6</td>\n",
       "    </tr>\n",
       "    <tr>\n",
       "      <th>7</th>\n",
       "      <td>ГАУЗ ТО «Городская поликлиника № 8»</td>\n",
       "      <td>ГП8</td>\n",
       "    </tr>\n",
       "    <tr>\n",
       "      <th>8</th>\n",
       "      <td>ГАУЗ ТО «Городская поликлиника №17»</td>\n",
       "      <td>ГП17</td>\n",
       "    </tr>\n",
       "    <tr>\n",
       "      <th>9</th>\n",
       "      <td>ГАУЗ ТО «Городская поликлиника №3»</td>\n",
       "      <td>ГП3</td>\n",
       "    </tr>\n",
       "    <tr>\n",
       "      <th>10</th>\n",
       "      <td>ГБУЗ ТО \"ОКБ №2\"</td>\n",
       "      <td>ОКБ2</td>\n",
       "    </tr>\n",
       "    <tr>\n",
       "      <th>11</th>\n",
       "      <td>ГБУЗ ТО \"Областная больница № 11\" (р.п. Голышм...</td>\n",
       "      <td>ОБ11</td>\n",
       "    </tr>\n",
       "    <tr>\n",
       "      <th>12</th>\n",
       "      <td>ГБУЗ ТО \"Областная больница № 12\" (г.Заводоуко...</td>\n",
       "      <td>ОБ12</td>\n",
       "    </tr>\n",
       "    <tr>\n",
       "      <th>13</th>\n",
       "      <td>ГБУЗ ТО \"Областная больница № 14 им. В.Н.Шанау...</td>\n",
       "      <td>ОБ14</td>\n",
       "    </tr>\n",
       "    <tr>\n",
       "      <th>14</th>\n",
       "      <td>ГБУЗ ТО \"Областная больница № 15\" (с.Нижняя Та...</td>\n",
       "      <td>ОБ15</td>\n",
       "    </tr>\n",
       "    <tr>\n",
       "      <th>15</th>\n",
       "      <td>ГБУЗ ТО \"Областная больница № 23\" (г.Ялуторовск)</td>\n",
       "      <td>ОБ23</td>\n",
       "    </tr>\n",
       "    <tr>\n",
       "      <th>16</th>\n",
       "      <td>ГБУЗ ТО \"Областная больница № 24\" (с.Ярково)</td>\n",
       "      <td>ОБ24</td>\n",
       "    </tr>\n",
       "    <tr>\n",
       "      <th>17</th>\n",
       "      <td>ГБУЗ ТО \"Областная больница № 3\" (г.Тобольск)</td>\n",
       "      <td>ОБ3</td>\n",
       "    </tr>\n",
       "    <tr>\n",
       "      <th>18</th>\n",
       "      <td>ГБУЗ ТО \"Областная больница № 4\" (г.Ишим)</td>\n",
       "      <td>ОБ4</td>\n",
       "    </tr>\n",
       "    <tr>\n",
       "      <th>19</th>\n",
       "      <td>ГБУЗ ТО \"Областная больница № 9\" (с.Вагай)</td>\n",
       "      <td>ОБ9</td>\n",
       "    </tr>\n",
       "    <tr>\n",
       "      <th>20</th>\n",
       "      <td>ГБУЗ ТО \"Областная больница №13\" (с. Исетское)</td>\n",
       "      <td>ОБ13</td>\n",
       "    </tr>\n",
       "    <tr>\n",
       "      <th>21</th>\n",
       "      <td>ГБУЗ ТО Областная больница №20 (с.Уват)</td>\n",
       "      <td>ОБ20</td>\n",
       "    </tr>\n",
       "  </tbody>\n",
       "</table>\n",
       "</div>"
      ],
      "text/plain": [
       "                                        mo_short_name    МО\n",
       "0                 ГАУЗ ТО \"Городская поликлиника № 1\"   ГП1\n",
       "1                ГАУЗ ТО \"Городская поликлиника № 12\"  ГП12\n",
       "2               ГАУЗ ТО \"Городская поликлиника № 13 \"  ГП13\n",
       "3                 ГАУЗ ТО \"Городская поликлиника № 4\"   ГП4\n",
       "4                  ГАУЗ ТО \"Городская поликлиника №5\"   ГП5\n",
       "5        ГАУЗ ТО \"Областная больница № 19\" (г.Тюмень)  ОБ19\n",
       "6                 ГАУЗ ТО «Городская Поликлиника № 6»   ГП6\n",
       "7                 ГАУЗ ТО «Городская поликлиника № 8»   ГП8\n",
       "8                 ГАУЗ ТО «Городская поликлиника №17»  ГП17\n",
       "9                  ГАУЗ ТО «Городская поликлиника №3»   ГП3\n",
       "10                                   ГБУЗ ТО \"ОКБ №2\"  ОКБ2\n",
       "11  ГБУЗ ТО \"Областная больница № 11\" (р.п. Голышм...  ОБ11\n",
       "12  ГБУЗ ТО \"Областная больница № 12\" (г.Заводоуко...  ОБ12\n",
       "13  ГБУЗ ТО \"Областная больница № 14 им. В.Н.Шанау...  ОБ14\n",
       "14  ГБУЗ ТО \"Областная больница № 15\" (с.Нижняя Та...  ОБ15\n",
       "15   ГБУЗ ТО \"Областная больница № 23\" (г.Ялуторовск)  ОБ23\n",
       "16       ГБУЗ ТО \"Областная больница № 24\" (с.Ярково)  ОБ24\n",
       "17      ГБУЗ ТО \"Областная больница № 3\" (г.Тобольск)   ОБ3\n",
       "18          ГБУЗ ТО \"Областная больница № 4\" (г.Ишим)   ОБ4\n",
       "19         ГБУЗ ТО \"Областная больница № 9\" (с.Вагай)   ОБ9\n",
       "20     ГБУЗ ТО \"Областная больница №13\" (с. Исетское)  ОБ13\n",
       "21            ГБУЗ ТО Областная больница №20 (с.Уват)  ОБ20"
      ]
     },
     "execution_count": 530,
     "metadata": {},
     "output_type": "execute_result"
    }
   ],
   "source": [
    "guide_mo2"
   ]
  },
  {
   "cell_type": "code",
   "execution_count": 531,
   "id": "23c6360c",
   "metadata": {},
   "outputs": [],
   "source": [
    "emergency_medical_guide = pd.merge(guide_mo2, emergency_medical_care_pivot_merge2, on='mo_short_name', how='right')"
   ]
  },
  {
   "cell_type": "markdown",
   "id": "a6ce693a",
   "metadata": {},
   "source": [
    "###### Объединяеем план и факт расчета по участковой службе"
   ]
  },
  {
   "cell_type": "code",
   "execution_count": 532,
   "id": "99c0c3cf",
   "metadata": {},
   "outputs": [],
   "source": [
    "emergency_medical_guide_itog = emergency_medical_guide[['МО', 'Сумма посещений на дому  по неотложной помощи у врачей участковой службы']]"
   ]
  },
  {
   "cell_type": "code",
   "execution_count": 533,
   "id": "afd8ad80",
   "metadata": {},
   "outputs": [
    {
     "name": "stdout",
     "output_type": "stream",
     "text": [
      "<class 'pandas.core.frame.DataFrame'>\n",
      "RangeIndex: 21 entries, 0 to 20\n",
      "Data columns (total 2 columns):\n",
      " #   Column                                                                    Non-Null Count  Dtype \n",
      "---  ------                                                                    --------------  ----- \n",
      " 0   МО                                                                        20 non-null     object\n",
      " 1   Сумма посещений на дому  по неотложной помощи у врачей участковой службы  21 non-null     object\n",
      "dtypes: object(2)\n",
      "memory usage: 464.0+ bytes\n"
     ]
    }
   ],
   "source": [
    "emergency_medical_guide_itog.info()"
   ]
  },
  {
   "cell_type": "code",
   "execution_count": 534,
   "id": "8bc7ebc9",
   "metadata": {},
   "outputs": [],
   "source": [
    "itog_columns = 'Итого'"
   ]
  },
  {
   "cell_type": "code",
   "execution_count": 535,
   "id": "4a5b01aa",
   "metadata": {},
   "outputs": [],
   "source": [
    "sum_columns = emergency_medical_guide_itog['Сумма посещений на дому  по неотложной помощи у врачей участковой службы'].sum()"
   ]
  },
  {
   "cell_type": "code",
   "execution_count": 536,
   "id": "0aeeadee",
   "metadata": {},
   "outputs": [
    {
     "data": {
      "text/plain": [
       "1394.0"
      ]
     },
     "execution_count": 536,
     "metadata": {},
     "output_type": "execute_result"
    }
   ],
   "source": [
    "sum_columns"
   ]
  },
  {
   "cell_type": "code",
   "execution_count": 537,
   "id": "6c1c26b7",
   "metadata": {},
   "outputs": [],
   "source": [
    "new_row = {'МО': itog_columns, 'Сумма посещений на дому  по неотложной помощи у врачей участковой службы': sum_columns}"
   ]
  },
  {
   "cell_type": "code",
   "execution_count": 538,
   "id": "55371450",
   "metadata": {},
   "outputs": [],
   "source": [
    "# emergency_medical_guide_itog = emergency_medical_guide_itog.append(new_row, ignore_index=True)\n",
    "emergency_medical_guide_itog = pd.concat([emergency_medical_guide_itog, pd.DataFrame([new_row])], ignore_index=True)"
   ]
  },
  {
   "cell_type": "code",
   "execution_count": 539,
   "id": "8e6797aa",
   "metadata": {},
   "outputs": [],
   "source": [
    "merge_emergency_uchastkov = pd.merge(emergency_medical_guide_itog, uchastkovye_itog, on='МО', how='outer')"
   ]
  },
  {
   "cell_type": "code",
   "execution_count": 540,
   "id": "b04d7c5b",
   "metadata": {},
   "outputs": [],
   "source": [
    "merge_emergency_uchastkov['Доля посещений на дому'] = np.where(merge_emergency_uchastkov['Участковые'] != 0 & (merge_emergency_uchastkov['Сумма посещений на дому  по неотложной помощи у врачей участковой службы'] != 0), round(merge_emergency_uchastkov['Сумма посещений на дому  по неотложной помощи у врачей участковой службы'] / merge_emergency_uchastkov['Участковые'] * 100, 1), 0)"
   ]
  },
  {
   "cell_type": "code",
   "execution_count": 541,
   "id": "680ed3bb",
   "metadata": {},
   "outputs": [],
   "source": [
    "slide_3_column_4_itog = merge_emergency_uchastkov[['МО', 'Доля посещений на дому']]"
   ]
  },
  {
   "cell_type": "code",
   "execution_count": 542,
   "id": "b67d8c89",
   "metadata": {},
   "outputs": [],
   "source": [
    "med_slide3 = medorganization[['МО', 'Организация']]"
   ]
  },
  {
   "cell_type": "code",
   "execution_count": 543,
   "id": "38a99b89",
   "metadata": {},
   "outputs": [],
   "source": [
    "row_to_move2 = med_slide3[med_slide3['МО'] == 'ОКБ1']"
   ]
  },
  {
   "cell_type": "code",
   "execution_count": 544,
   "id": "8f76c467",
   "metadata": {},
   "outputs": [
    {
     "data": {
      "text/html": [
       "<div>\n",
       "<style scoped>\n",
       "    .dataframe tbody tr th:only-of-type {\n",
       "        vertical-align: middle;\n",
       "    }\n",
       "\n",
       "    .dataframe tbody tr th {\n",
       "        vertical-align: top;\n",
       "    }\n",
       "\n",
       "    .dataframe thead th {\n",
       "        text-align: right;\n",
       "    }\n",
       "</style>\n",
       "<table border=\"1\" class=\"dataframe\">\n",
       "  <thead>\n",
       "    <tr style=\"text-align: right;\">\n",
       "      <th></th>\n",
       "      <th>МО</th>\n",
       "      <th>Организация</th>\n",
       "    </tr>\n",
       "  </thead>\n",
       "  <tbody>\n",
       "    <tr>\n",
       "      <th>28</th>\n",
       "      <td>ОКБ1</td>\n",
       "      <td>ГБУЗ ТО «ОКБ №1»</td>\n",
       "    </tr>\n",
       "  </tbody>\n",
       "</table>\n",
       "</div>"
      ],
      "text/plain": [
       "      МО       Организация\n",
       "28  ОКБ1  ГБУЗ ТО «ОКБ №1»"
      ]
     },
     "execution_count": 544,
     "metadata": {},
     "output_type": "execute_result"
    }
   ],
   "source": [
    "row_to_move2"
   ]
  },
  {
   "cell_type": "code",
   "execution_count": 545,
   "id": "ea5fbd2e",
   "metadata": {},
   "outputs": [],
   "source": [
    "med_slide3 = med_slide3.drop(row_to_move2.index)"
   ]
  },
  {
   "cell_type": "code",
   "execution_count": 546,
   "id": "5adc744f",
   "metadata": {},
   "outputs": [],
   "source": [
    "row_to_move3 = med_slide3[med_slide3['МО'] == 'ПЦ_Тюмень']"
   ]
  },
  {
   "cell_type": "code",
   "execution_count": 547,
   "id": "5a6b5be1",
   "metadata": {},
   "outputs": [],
   "source": [
    "med_slide3 = med_slide3.drop(row_to_move3.index)"
   ]
  },
  {
   "cell_type": "code",
   "execution_count": 548,
   "id": "dafd73f9",
   "metadata": {},
   "outputs": [
    {
     "data": {
      "text/html": [
       "<div>\n",
       "<style scoped>\n",
       "    .dataframe tbody tr th:only-of-type {\n",
       "        vertical-align: middle;\n",
       "    }\n",
       "\n",
       "    .dataframe tbody tr th {\n",
       "        vertical-align: top;\n",
       "    }\n",
       "\n",
       "    .dataframe thead th {\n",
       "        text-align: right;\n",
       "    }\n",
       "</style>\n",
       "<table border=\"1\" class=\"dataframe\">\n",
       "  <thead>\n",
       "    <tr style=\"text-align: right;\">\n",
       "      <th></th>\n",
       "      <th>МО</th>\n",
       "      <th>Организация</th>\n",
       "    </tr>\n",
       "  </thead>\n",
       "  <tbody>\n",
       "    <tr>\n",
       "      <th>0</th>\n",
       "      <td>ОСП</td>\n",
       "      <td>ГАУЗ ТО \"ОСП\"</td>\n",
       "    </tr>\n",
       "    <tr>\n",
       "      <th>1</th>\n",
       "      <td>ГП1</td>\n",
       "      <td>ГАУЗ ТО «ГП №1»</td>\n",
       "    </tr>\n",
       "    <tr>\n",
       "      <th>2</th>\n",
       "      <td>ГП12</td>\n",
       "      <td>ГАУЗ ТО «ГП №12»</td>\n",
       "    </tr>\n",
       "    <tr>\n",
       "      <th>3</th>\n",
       "      <td>ГП13</td>\n",
       "      <td>ГАУЗ ТО «ГП №13»</td>\n",
       "    </tr>\n",
       "    <tr>\n",
       "      <th>4</th>\n",
       "      <td>ГП17</td>\n",
       "      <td>ГАУЗ ТО «ГП №17»</td>\n",
       "    </tr>\n",
       "    <tr>\n",
       "      <th>5</th>\n",
       "      <td>ГП3</td>\n",
       "      <td>ГАУЗ ТО «ГП №3»</td>\n",
       "    </tr>\n",
       "    <tr>\n",
       "      <th>6</th>\n",
       "      <td>ГП4</td>\n",
       "      <td>ГАУЗ ТО «ГП №4»</td>\n",
       "    </tr>\n",
       "    <tr>\n",
       "      <th>7</th>\n",
       "      <td>ГП6</td>\n",
       "      <td>ГАУЗ ТО «ГП №6»</td>\n",
       "    </tr>\n",
       "    <tr>\n",
       "      <th>8</th>\n",
       "      <td>ГП5</td>\n",
       "      <td>ГАУЗ ТО «ГП №5»</td>\n",
       "    </tr>\n",
       "    <tr>\n",
       "      <th>9</th>\n",
       "      <td>ГП8</td>\n",
       "      <td>ГАУЗ ТО «ГП №8»</td>\n",
       "    </tr>\n",
       "    <tr>\n",
       "      <th>10</th>\n",
       "      <td>ОБ11</td>\n",
       "      <td>ГБУЗ ТО «ОБ №11»</td>\n",
       "    </tr>\n",
       "    <tr>\n",
       "      <th>11</th>\n",
       "      <td>ОБ12</td>\n",
       "      <td>ГБУЗ ТО «ОБ №12»</td>\n",
       "    </tr>\n",
       "    <tr>\n",
       "      <th>12</th>\n",
       "      <td>ОБ13</td>\n",
       "      <td>ГБУЗ ТО «ОБ №13»</td>\n",
       "    </tr>\n",
       "    <tr>\n",
       "      <th>13</th>\n",
       "      <td>ОБ14</td>\n",
       "      <td>ГБУЗ ТО «ОБ №14»</td>\n",
       "    </tr>\n",
       "    <tr>\n",
       "      <th>14</th>\n",
       "      <td>ОБ15</td>\n",
       "      <td>ГБУЗ ТО «ОБ №15»</td>\n",
       "    </tr>\n",
       "    <tr>\n",
       "      <th>15</th>\n",
       "      <td>ОБ19</td>\n",
       "      <td>ГБУЗ ТО «ОБ №19»</td>\n",
       "    </tr>\n",
       "    <tr>\n",
       "      <th>16</th>\n",
       "      <td>ОБ20</td>\n",
       "      <td>ГБУЗ ТО «ОБ №20»</td>\n",
       "    </tr>\n",
       "    <tr>\n",
       "      <th>17</th>\n",
       "      <td>ОБ23</td>\n",
       "      <td>ГБУЗ ТО «ОБ №23»</td>\n",
       "    </tr>\n",
       "    <tr>\n",
       "      <th>18</th>\n",
       "      <td>ОБ24</td>\n",
       "      <td>ГБУЗ ТО «ОБ №24»</td>\n",
       "    </tr>\n",
       "    <tr>\n",
       "      <th>19</th>\n",
       "      <td>ОБ3</td>\n",
       "      <td>ГБУЗ ТО «ОБ №3»</td>\n",
       "    </tr>\n",
       "    <tr>\n",
       "      <th>20</th>\n",
       "      <td>ОБ4</td>\n",
       "      <td>ГБУЗ ТО «ОБ №4»</td>\n",
       "    </tr>\n",
       "    <tr>\n",
       "      <th>21</th>\n",
       "      <td>ОБ9</td>\n",
       "      <td>ГБУЗ ТО «ОБ №9»</td>\n",
       "    </tr>\n",
       "    <tr>\n",
       "      <th>22</th>\n",
       "      <td>ОКБ2</td>\n",
       "      <td>ГБУЗ ТО «ОКБ №2»</td>\n",
       "    </tr>\n",
       "    <tr>\n",
       "      <th>23</th>\n",
       "      <td>ОКПБ</td>\n",
       "      <td>ГБУЗ ТО «ОКПБ»</td>\n",
       "    </tr>\n",
       "    <tr>\n",
       "      <th>24</th>\n",
       "      <td>ОКФЦ</td>\n",
       "      <td>ГБУЗ ТО «ОКФЦ»</td>\n",
       "    </tr>\n",
       "    <tr>\n",
       "      <th>25</th>\n",
       "      <td>ОНД</td>\n",
       "      <td>ГБУЗ ТО «ОНД»</td>\n",
       "    </tr>\n",
       "    <tr>\n",
       "      <th>26</th>\n",
       "      <td>РД2</td>\n",
       "      <td>ГБУЗ ТО «Роддом № 2»</td>\n",
       "    </tr>\n",
       "    <tr>\n",
       "      <th>27</th>\n",
       "      <td>РД3</td>\n",
       "      <td>ГБУЗ ТО «Родильный дом №3»</td>\n",
       "    </tr>\n",
       "  </tbody>\n",
       "</table>\n",
       "</div>"
      ],
      "text/plain": [
       "      МО                 Организация\n",
       "0    ОСП               ГАУЗ ТО \"ОСП\"\n",
       "1    ГП1             ГАУЗ ТО «ГП №1»\n",
       "2   ГП12            ГАУЗ ТО «ГП №12»\n",
       "3   ГП13            ГАУЗ ТО «ГП №13»\n",
       "4   ГП17            ГАУЗ ТО «ГП №17»\n",
       "5    ГП3             ГАУЗ ТО «ГП №3»\n",
       "6    ГП4             ГАУЗ ТО «ГП №4»\n",
       "7    ГП6             ГАУЗ ТО «ГП №6»\n",
       "8    ГП5             ГАУЗ ТО «ГП №5»\n",
       "9    ГП8             ГАУЗ ТО «ГП №8»\n",
       "10  ОБ11            ГБУЗ ТО «ОБ №11»\n",
       "11  ОБ12            ГБУЗ ТО «ОБ №12»\n",
       "12  ОБ13            ГБУЗ ТО «ОБ №13»\n",
       "13  ОБ14            ГБУЗ ТО «ОБ №14»\n",
       "14  ОБ15            ГБУЗ ТО «ОБ №15»\n",
       "15  ОБ19            ГБУЗ ТО «ОБ №19»\n",
       "16  ОБ20            ГБУЗ ТО «ОБ №20»\n",
       "17  ОБ23            ГБУЗ ТО «ОБ №23»\n",
       "18  ОБ24            ГБУЗ ТО «ОБ №24»\n",
       "19   ОБ3             ГБУЗ ТО «ОБ №3»\n",
       "20   ОБ4             ГБУЗ ТО «ОБ №4»\n",
       "21   ОБ9             ГБУЗ ТО «ОБ №9»\n",
       "22  ОКБ2            ГБУЗ ТО «ОКБ №2»\n",
       "23  ОКПБ              ГБУЗ ТО «ОКПБ»\n",
       "24  ОКФЦ              ГБУЗ ТО «ОКФЦ»\n",
       "25   ОНД               ГБУЗ ТО «ОНД»\n",
       "26   РД2        ГБУЗ ТО «Роддом № 2»\n",
       "27   РД3  ГБУЗ ТО «Родильный дом №3»"
      ]
     },
     "execution_count": 548,
     "metadata": {},
     "output_type": "execute_result"
    }
   ],
   "source": [
    "med_slide3"
   ]
  },
  {
   "cell_type": "code",
   "execution_count": 549,
   "id": "d8de6cb3",
   "metadata": {},
   "outputs": [],
   "source": [
    "# med_slide3 = med_slide3.append({'МО': 'Итого', 'Организация': 'Итого'}, ignore_index=True)\n",
    "med_slide3 = pd.concat([med_slide3, pd.DataFrame([{'МО': 'Итого', 'Организация': 'Итого'}])], ignore_index=True)"
   ]
  },
  {
   "cell_type": "code",
   "execution_count": 550,
   "id": "b3442e9f",
   "metadata": {},
   "outputs": [],
   "source": [
    "data_frames3 = [slide_3_column_1_itog, slide3_column2_itog, slide3_column3, slide_3_column_4_itog]"
   ]
  },
  {
   "cell_type": "code",
   "execution_count": 551,
   "id": "d2b60eaa",
   "metadata": {},
   "outputs": [],
   "source": [
    "pivot_ras_1c_s3 = reduce(lambda  left,right: pd.merge(left,right,on=['МО'], how='outer'), data_frames3)"
   ]
  },
  {
   "cell_type": "code",
   "execution_count": 552,
   "id": "e0032e03",
   "metadata": {},
   "outputs": [],
   "source": [
    "pivot_ras_1c_s3 = pivot_ras_1c_s3.dropna(subset=['МО'])"
   ]
  },
  {
   "cell_type": "code",
   "execution_count": 553,
   "id": "1af74928",
   "metadata": {},
   "outputs": [],
   "source": [
    "result_slide3 = pd.merge(pivot_ras_1c_s3, med_slide3, how='left', on='МО')"
   ]
  },
  {
   "cell_type": "code",
   "execution_count": 554,
   "id": "f36b90a5",
   "metadata": {},
   "outputs": [],
   "source": [
    "result_slide3 = result_slide3[['Организация', 'Занятость слотов всего (доля от общего числа созданных и количества занятых)', 'Доля неявок от общего числа записей', 'Доля пациентов, принятых без предварительной записи', 'Доля посещений на дому']]"
   ]
  },
  {
   "cell_type": "code",
   "execution_count": 555,
   "id": "0e59fa74",
   "metadata": {},
   "outputs": [
    {
     "name": "stderr",
     "output_type": "stream",
     "text": [
      "/tmp/ipykernel_7504/966458667.py:3: FutureWarning: Downcasting object dtype arrays on .fillna, .ffill, .bfill is deprecated and will change in a future version. Call result.infer_objects(copy=False) instead. To opt-in to the future behavior, set `pd.set_option('future.no_silent_downcasting', True)`\n",
      "  result_slide3.fillna(0, inplace=True)\n"
     ]
    }
   ],
   "source": [
    "# Создаем DataFrame\n",
    "result_slide3.rename(columns={'Организация': 'Наименование МО'}, inplace=True)\n",
    "result_slide3.fillna(0, inplace=True)\n",
    "df3 = result_slide3"
   ]
  },
  {
   "cell_type": "markdown",
   "id": "31ea9ea9",
   "metadata": {},
   "source": [
    "##### Создаем слайд 4"
   ]
  },
  {
   "cell_type": "markdown",
   "id": "62b5f069",
   "metadata": {},
   "source": [
    "1. Слайд 4 Таблица 1 Столбец 1"
   ]
  },
  {
   "cell_type": "code",
   "execution_count": 556,
   "id": "97c86cdc",
   "metadata": {},
   "outputs": [],
   "source": [
    "# Подгружаем записи\n",
    "record = indi"
   ]
  },
  {
   "cell_type": "code",
   "execution_count": 557,
   "id": "0cf9e0d4",
   "metadata": {},
   "outputs": [],
   "source": [
    "record.rename(columns={'Unnamed: 0': 'Медицинская организация', 'Unnamed: 3': 'Должность'}, inplace=True)"
   ]
  },
  {
   "cell_type": "code",
   "execution_count": 558,
   "id": "c27a5e06",
   "metadata": {},
   "outputs": [
    {
     "data": {
      "text/html": [
       "<div>\n",
       "<style scoped>\n",
       "    .dataframe tbody tr th:only-of-type {\n",
       "        vertical-align: middle;\n",
       "    }\n",
       "\n",
       "    .dataframe tbody tr th {\n",
       "        vertical-align: top;\n",
       "    }\n",
       "\n",
       "    .dataframe thead th {\n",
       "        text-align: right;\n",
       "    }\n",
       "</style>\n",
       "<table border=\"1\" class=\"dataframe\">\n",
       "  <thead>\n",
       "    <tr style=\"text-align: right;\">\n",
       "      <th></th>\n",
       "      <th>Медицинская организация</th>\n",
       "      <th>Unnamed: 1</th>\n",
       "      <th>Unnamed: 2</th>\n",
       "      <th>Должность</th>\n",
       "      <th>Unnamed: 4</th>\n",
       "      <th>Общее число слотов в расписании</th>\n",
       "      <th>из них конкурентных слотов</th>\n",
       "      <th>Общее число записей</th>\n",
       "      <th>из них вне слота с признаком \"живая очередь\"</th>\n",
       "      <th>из них 2-я/3-я/4-я запись пациентов на один и тот же слот времени</th>\n",
       "      <th>...</th>\n",
       "      <th>Число поступивших обращений с целью записи на прием к врачу-специалисту по поводу заболеваний повторная</th>\n",
       "      <th>Число поступивших обращений с целью записи на прием к врачу-специалисту в рамках диспансерного наблюдения</th>\n",
       "      <th>Число поступивших обращений с целью записи на услуги инструментальной и/или лабораторной диагностики</th>\n",
       "      <th>Число поступивших обращений с целью получения назначения, направления, справки, выписки, листа нетрудоспособности, иных документов</th>\n",
       "      <th>Число поступивших обращений с целью записи для прохождения первого или второго этапа диспансеризации</th>\n",
       "      <th>Число поступивших обращений с целью записи на вакцинацию</th>\n",
       "      <th>Число операторов колл-центров</th>\n",
       "      <th>Число лиц включенных в лист ожидания</th>\n",
       "      <th>Число лиц исключенных из листа ожидания по причине записи</th>\n",
       "      <th>Число звонков для обратной связи (уточнение цели обращения и актуализация записи)</th>\n",
       "    </tr>\n",
       "  </thead>\n",
       "  <tbody>\n",
       "    <tr>\n",
       "      <th>0</th>\n",
       "      <td>АСУСОНТО \"Щучинский психоневрологический интер...</td>\n",
       "      <td>NaN</td>\n",
       "      <td>NaN</td>\n",
       "      <td>врач-терапевт</td>\n",
       "      <td>NaN</td>\n",
       "      <td>NaN</td>\n",
       "      <td>NaN</td>\n",
       "      <td>27.0</td>\n",
       "      <td>27.0</td>\n",
       "      <td>NaN</td>\n",
       "      <td>...</td>\n",
       "      <td>NaN</td>\n",
       "      <td>NaN</td>\n",
       "      <td>NaN</td>\n",
       "      <td>NaN</td>\n",
       "      <td>NaN</td>\n",
       "      <td>NaN</td>\n",
       "      <td>NaN</td>\n",
       "      <td>NaN</td>\n",
       "      <td>NaN</td>\n",
       "      <td>NaN</td>\n",
       "    </tr>\n",
       "    <tr>\n",
       "      <th>1</th>\n",
       "      <td>АСУСОНТО \"Щучинский психоневрологический интер...</td>\n",
       "      <td>NaN</td>\n",
       "      <td>NaN</td>\n",
       "      <td>фельдшер</td>\n",
       "      <td>NaN</td>\n",
       "      <td>NaN</td>\n",
       "      <td>NaN</td>\n",
       "      <td>62.0</td>\n",
       "      <td>62.0</td>\n",
       "      <td>NaN</td>\n",
       "      <td>...</td>\n",
       "      <td>NaN</td>\n",
       "      <td>NaN</td>\n",
       "      <td>NaN</td>\n",
       "      <td>NaN</td>\n",
       "      <td>NaN</td>\n",
       "      <td>NaN</td>\n",
       "      <td>NaN</td>\n",
       "      <td>NaN</td>\n",
       "      <td>NaN</td>\n",
       "      <td>NaN</td>\n",
       "    </tr>\n",
       "    <tr>\n",
       "      <th>2</th>\n",
       "      <td>ГАУЗ ТО «ГП № 1»</td>\n",
       "      <td>NaN</td>\n",
       "      <td>NaN</td>\n",
       "      <td>врач - детский хирург</td>\n",
       "      <td>NaN</td>\n",
       "      <td>5.0</td>\n",
       "      <td>5.0</td>\n",
       "      <td>NaN</td>\n",
       "      <td>NaN</td>\n",
       "      <td>NaN</td>\n",
       "      <td>...</td>\n",
       "      <td>NaN</td>\n",
       "      <td>NaN</td>\n",
       "      <td>NaN</td>\n",
       "      <td>NaN</td>\n",
       "      <td>NaN</td>\n",
       "      <td>NaN</td>\n",
       "      <td>NaN</td>\n",
       "      <td>16.0</td>\n",
       "      <td>4.0</td>\n",
       "      <td>NaN</td>\n",
       "    </tr>\n",
       "    <tr>\n",
       "      <th>3</th>\n",
       "      <td>ГАУЗ ТО «ГП № 1»</td>\n",
       "      <td>NaN</td>\n",
       "      <td>NaN</td>\n",
       "      <td>врач общей практики (семейный врач)</td>\n",
       "      <td>NaN</td>\n",
       "      <td>138.0</td>\n",
       "      <td>77.0</td>\n",
       "      <td>174.0</td>\n",
       "      <td>NaN</td>\n",
       "      <td>61.0</td>\n",
       "      <td>...</td>\n",
       "      <td>88.0</td>\n",
       "      <td>NaN</td>\n",
       "      <td>NaN</td>\n",
       "      <td>3.0</td>\n",
       "      <td>NaN</td>\n",
       "      <td>NaN</td>\n",
       "      <td>NaN</td>\n",
       "      <td>NaN</td>\n",
       "      <td>NaN</td>\n",
       "      <td>NaN</td>\n",
       "    </tr>\n",
       "    <tr>\n",
       "      <th>4</th>\n",
       "      <td>ГАУЗ ТО «ГП № 1»</td>\n",
       "      <td>NaN</td>\n",
       "      <td>NaN</td>\n",
       "      <td>врач по медицинской профилактике</td>\n",
       "      <td>NaN</td>\n",
       "      <td>794.0</td>\n",
       "      <td>NaN</td>\n",
       "      <td>706.0</td>\n",
       "      <td>9.0</td>\n",
       "      <td>87.0</td>\n",
       "      <td>...</td>\n",
       "      <td>163.0</td>\n",
       "      <td>81.0</td>\n",
       "      <td>NaN</td>\n",
       "      <td>NaN</td>\n",
       "      <td>50.0</td>\n",
       "      <td>NaN</td>\n",
       "      <td>NaN</td>\n",
       "      <td>NaN</td>\n",
       "      <td>NaN</td>\n",
       "      <td>NaN</td>\n",
       "    </tr>\n",
       "    <tr>\n",
       "      <th>...</th>\n",
       "      <td>...</td>\n",
       "      <td>...</td>\n",
       "      <td>...</td>\n",
       "      <td>...</td>\n",
       "      <td>...</td>\n",
       "      <td>...</td>\n",
       "      <td>...</td>\n",
       "      <td>...</td>\n",
       "      <td>...</td>\n",
       "      <td>...</td>\n",
       "      <td>...</td>\n",
       "      <td>...</td>\n",
       "      <td>...</td>\n",
       "      <td>...</td>\n",
       "      <td>...</td>\n",
       "      <td>...</td>\n",
       "      <td>...</td>\n",
       "      <td>...</td>\n",
       "      <td>...</td>\n",
       "      <td>...</td>\n",
       "      <td>...</td>\n",
       "    </tr>\n",
       "    <tr>\n",
       "      <th>424</th>\n",
       "      <td>Тюменская больница ФГБУЗ ЗСМЦ ФМБА</td>\n",
       "      <td>NaN</td>\n",
       "      <td>NaN</td>\n",
       "      <td>врач-терапевт</td>\n",
       "      <td>NaN</td>\n",
       "      <td>292.0</td>\n",
       "      <td>NaN</td>\n",
       "      <td>116.0</td>\n",
       "      <td>11.0</td>\n",
       "      <td>NaN</td>\n",
       "      <td>...</td>\n",
       "      <td>NaN</td>\n",
       "      <td>NaN</td>\n",
       "      <td>NaN</td>\n",
       "      <td>63.0</td>\n",
       "      <td>NaN</td>\n",
       "      <td>NaN</td>\n",
       "      <td>NaN</td>\n",
       "      <td>NaN</td>\n",
       "      <td>NaN</td>\n",
       "      <td>NaN</td>\n",
       "    </tr>\n",
       "    <tr>\n",
       "      <th>425</th>\n",
       "      <td>Тюменская больница ФГБУЗ ЗСМЦ ФМБА</td>\n",
       "      <td>NaN</td>\n",
       "      <td>NaN</td>\n",
       "      <td>врач-уролог</td>\n",
       "      <td>NaN</td>\n",
       "      <td>34.0</td>\n",
       "      <td>20.0</td>\n",
       "      <td>103.0</td>\n",
       "      <td>63.0</td>\n",
       "      <td>7.0</td>\n",
       "      <td>...</td>\n",
       "      <td>15.0</td>\n",
       "      <td>NaN</td>\n",
       "      <td>NaN</td>\n",
       "      <td>NaN</td>\n",
       "      <td>NaN</td>\n",
       "      <td>NaN</td>\n",
       "      <td>NaN</td>\n",
       "      <td>NaN</td>\n",
       "      <td>NaN</td>\n",
       "      <td>NaN</td>\n",
       "    </tr>\n",
       "    <tr>\n",
       "      <th>426</th>\n",
       "      <td>Тюменская больница ФГБУЗ ЗСМЦ ФМБА</td>\n",
       "      <td>NaN</td>\n",
       "      <td>NaN</td>\n",
       "      <td>врач-хирург</td>\n",
       "      <td>NaN</td>\n",
       "      <td>149.0</td>\n",
       "      <td>54.0</td>\n",
       "      <td>127.0</td>\n",
       "      <td>2.0</td>\n",
       "      <td>28.0</td>\n",
       "      <td>...</td>\n",
       "      <td>1.0</td>\n",
       "      <td>NaN</td>\n",
       "      <td>NaN</td>\n",
       "      <td>NaN</td>\n",
       "      <td>NaN</td>\n",
       "      <td>NaN</td>\n",
       "      <td>NaN</td>\n",
       "      <td>NaN</td>\n",
       "      <td>NaN</td>\n",
       "      <td>NaN</td>\n",
       "    </tr>\n",
       "    <tr>\n",
       "      <th>427</th>\n",
       "      <td>Тюменская больница ФГБУЗ ЗСМЦ ФМБА</td>\n",
       "      <td>NaN</td>\n",
       "      <td>NaN</td>\n",
       "      <td>фельдшер</td>\n",
       "      <td>NaN</td>\n",
       "      <td>487.0</td>\n",
       "      <td>NaN</td>\n",
       "      <td>104.0</td>\n",
       "      <td>23.0</td>\n",
       "      <td>NaN</td>\n",
       "      <td>...</td>\n",
       "      <td>NaN</td>\n",
       "      <td>NaN</td>\n",
       "      <td>NaN</td>\n",
       "      <td>52.0</td>\n",
       "      <td>NaN</td>\n",
       "      <td>8.0</td>\n",
       "      <td>NaN</td>\n",
       "      <td>NaN</td>\n",
       "      <td>NaN</td>\n",
       "      <td>NaN</td>\n",
       "    </tr>\n",
       "    <tr>\n",
       "      <th>428</th>\n",
       "      <td>Итого</td>\n",
       "      <td>NaN</td>\n",
       "      <td>NaN</td>\n",
       "      <td>NaN</td>\n",
       "      <td>NaN</td>\n",
       "      <td>276802.0</td>\n",
       "      <td>120814.0</td>\n",
       "      <td>244600.0</td>\n",
       "      <td>43293.0</td>\n",
       "      <td>48808.0</td>\n",
       "      <td>...</td>\n",
       "      <td>37926.0</td>\n",
       "      <td>2893.0</td>\n",
       "      <td>1213.0</td>\n",
       "      <td>15655.0</td>\n",
       "      <td>4075.0</td>\n",
       "      <td>313.0</td>\n",
       "      <td>11.0</td>\n",
       "      <td>4756.0</td>\n",
       "      <td>2054.0</td>\n",
       "      <td>14775.0</td>\n",
       "    </tr>\n",
       "  </tbody>\n",
       "</table>\n",
       "<p>429 rows × 31 columns</p>\n",
       "</div>"
      ],
      "text/plain": [
       "                               Медицинская организация  Unnamed: 1  \\\n",
       "0    АСУСОНТО \"Щучинский психоневрологический интер...         NaN   \n",
       "1    АСУСОНТО \"Щучинский психоневрологический интер...         NaN   \n",
       "2                                     ГАУЗ ТО «ГП № 1»         NaN   \n",
       "3                                     ГАУЗ ТО «ГП № 1»         NaN   \n",
       "4                                     ГАУЗ ТО «ГП № 1»         NaN   \n",
       "..                                                 ...         ...   \n",
       "424                 Тюменская больница ФГБУЗ ЗСМЦ ФМБА         NaN   \n",
       "425                 Тюменская больница ФГБУЗ ЗСМЦ ФМБА         NaN   \n",
       "426                 Тюменская больница ФГБУЗ ЗСМЦ ФМБА         NaN   \n",
       "427                 Тюменская больница ФГБУЗ ЗСМЦ ФМБА         NaN   \n",
       "428                                              Итого         NaN   \n",
       "\n",
       "     Unnamed: 2                            Должность  Unnamed: 4  \\\n",
       "0           NaN                        врач-терапевт         NaN   \n",
       "1           NaN                             фельдшер         NaN   \n",
       "2           NaN                врач - детский хирург         NaN   \n",
       "3           NaN  врач общей практики (семейный врач)         NaN   \n",
       "4           NaN     врач по медицинской профилактике         NaN   \n",
       "..          ...                                  ...         ...   \n",
       "424         NaN                        врач-терапевт         NaN   \n",
       "425         NaN                          врач-уролог         NaN   \n",
       "426         NaN                          врач-хирург         NaN   \n",
       "427         NaN                             фельдшер         NaN   \n",
       "428         NaN                                  NaN         NaN   \n",
       "\n",
       "     Общее число слотов в расписании  из них конкурентных слотов  \\\n",
       "0                                NaN                         NaN   \n",
       "1                                NaN                         NaN   \n",
       "2                                5.0                         5.0   \n",
       "3                              138.0                        77.0   \n",
       "4                              794.0                         NaN   \n",
       "..                               ...                         ...   \n",
       "424                            292.0                         NaN   \n",
       "425                             34.0                        20.0   \n",
       "426                            149.0                        54.0   \n",
       "427                            487.0                         NaN   \n",
       "428                         276802.0                    120814.0   \n",
       "\n",
       "     Общее число записей  из них вне слота с признаком \"живая очередь\"  \\\n",
       "0                   27.0                                          27.0   \n",
       "1                   62.0                                          62.0   \n",
       "2                    NaN                                           NaN   \n",
       "3                  174.0                                           NaN   \n",
       "4                  706.0                                           9.0   \n",
       "..                   ...                                           ...   \n",
       "424                116.0                                          11.0   \n",
       "425                103.0                                          63.0   \n",
       "426                127.0                                           2.0   \n",
       "427                104.0                                          23.0   \n",
       "428             244600.0                                       43293.0   \n",
       "\n",
       "     из них 2-я/3-я/4-я запись пациентов на один и тот же слот времени  ...  \\\n",
       "0                                                  NaN                  ...   \n",
       "1                                                  NaN                  ...   \n",
       "2                                                  NaN                  ...   \n",
       "3                                                 61.0                  ...   \n",
       "4                                                 87.0                  ...   \n",
       "..                                                 ...                  ...   \n",
       "424                                                NaN                  ...   \n",
       "425                                                7.0                  ...   \n",
       "426                                               28.0                  ...   \n",
       "427                                                NaN                  ...   \n",
       "428                                            48808.0                  ...   \n",
       "\n",
       "     Число поступивших обращений с целью записи на прием к врачу-специалисту по поводу заболеваний повторная  \\\n",
       "0                                                  NaN                                                         \n",
       "1                                                  NaN                                                         \n",
       "2                                                  NaN                                                         \n",
       "3                                                 88.0                                                         \n",
       "4                                                163.0                                                         \n",
       "..                                                 ...                                                         \n",
       "424                                                NaN                                                         \n",
       "425                                               15.0                                                         \n",
       "426                                                1.0                                                         \n",
       "427                                                NaN                                                         \n",
       "428                                            37926.0                                                         \n",
       "\n",
       "     Число поступивших обращений с целью записи на прием к врачу-специалисту в рамках диспансерного наблюдения  \\\n",
       "0                                                  NaN                                                           \n",
       "1                                                  NaN                                                           \n",
       "2                                                  NaN                                                           \n",
       "3                                                  NaN                                                           \n",
       "4                                                 81.0                                                           \n",
       "..                                                 ...                                                           \n",
       "424                                                NaN                                                           \n",
       "425                                                NaN                                                           \n",
       "426                                                NaN                                                           \n",
       "427                                                NaN                                                           \n",
       "428                                             2893.0                                                           \n",
       "\n",
       "     Число поступивших обращений с целью записи на услуги инструментальной и/или лабораторной диагностики  \\\n",
       "0                                                  NaN                                                      \n",
       "1                                                  NaN                                                      \n",
       "2                                                  NaN                                                      \n",
       "3                                                  NaN                                                      \n",
       "4                                                  NaN                                                      \n",
       "..                                                 ...                                                      \n",
       "424                                                NaN                                                      \n",
       "425                                                NaN                                                      \n",
       "426                                                NaN                                                      \n",
       "427                                                NaN                                                      \n",
       "428                                             1213.0                                                      \n",
       "\n",
       "     Число поступивших обращений с целью получения назначения, направления, справки, выписки, листа нетрудоспособности, иных документов  \\\n",
       "0                                                  NaN                                                                                    \n",
       "1                                                  NaN                                                                                    \n",
       "2                                                  NaN                                                                                    \n",
       "3                                                  3.0                                                                                    \n",
       "4                                                  NaN                                                                                    \n",
       "..                                                 ...                                                                                    \n",
       "424                                               63.0                                                                                    \n",
       "425                                                NaN                                                                                    \n",
       "426                                                NaN                                                                                    \n",
       "427                                               52.0                                                                                    \n",
       "428                                            15655.0                                                                                    \n",
       "\n",
       "     Число поступивших обращений с целью записи для прохождения первого или второго этапа диспансеризации  \\\n",
       "0                                                  NaN                                                      \n",
       "1                                                  NaN                                                      \n",
       "2                                                  NaN                                                      \n",
       "3                                                  NaN                                                      \n",
       "4                                                 50.0                                                      \n",
       "..                                                 ...                                                      \n",
       "424                                                NaN                                                      \n",
       "425                                                NaN                                                      \n",
       "426                                                NaN                                                      \n",
       "427                                                NaN                                                      \n",
       "428                                             4075.0                                                      \n",
       "\n",
       "     Число поступивших обращений с целью записи на вакцинацию  \\\n",
       "0                                                  NaN          \n",
       "1                                                  NaN          \n",
       "2                                                  NaN          \n",
       "3                                                  NaN          \n",
       "4                                                  NaN          \n",
       "..                                                 ...          \n",
       "424                                                NaN          \n",
       "425                                                NaN          \n",
       "426                                                NaN          \n",
       "427                                                8.0          \n",
       "428                                              313.0          \n",
       "\n",
       "     Число операторов колл-центров  Число лиц включенных в лист ожидания  \\\n",
       "0                              NaN                                   NaN   \n",
       "1                              NaN                                   NaN   \n",
       "2                              NaN                                  16.0   \n",
       "3                              NaN                                   NaN   \n",
       "4                              NaN                                   NaN   \n",
       "..                             ...                                   ...   \n",
       "424                            NaN                                   NaN   \n",
       "425                            NaN                                   NaN   \n",
       "426                            NaN                                   NaN   \n",
       "427                            NaN                                   NaN   \n",
       "428                           11.0                                4756.0   \n",
       "\n",
       "     Число лиц исключенных из листа ожидания по причине записи  \\\n",
       "0                                                  NaN           \n",
       "1                                                  NaN           \n",
       "2                                                  4.0           \n",
       "3                                                  NaN           \n",
       "4                                                  NaN           \n",
       "..                                                 ...           \n",
       "424                                                NaN           \n",
       "425                                                NaN           \n",
       "426                                                NaN           \n",
       "427                                                NaN           \n",
       "428                                             2054.0           \n",
       "\n",
       "     Число звонков для обратной связи (уточнение цели обращения и актуализация записи)  \n",
       "0                                                  NaN                                  \n",
       "1                                                  NaN                                  \n",
       "2                                                  NaN                                  \n",
       "3                                                  NaN                                  \n",
       "4                                                  NaN                                  \n",
       "..                                                 ...                                  \n",
       "424                                                NaN                                  \n",
       "425                                                NaN                                  \n",
       "426                                                NaN                                  \n",
       "427                                                NaN                                  \n",
       "428                                            14775.0                                  \n",
       "\n",
       "[429 rows x 31 columns]"
      ]
     },
     "execution_count": 558,
     "metadata": {},
     "output_type": "execute_result"
    }
   ],
   "source": [
    "record"
   ]
  },
  {
   "cell_type": "code",
   "execution_count": 559,
   "id": "8fd5faf7",
   "metadata": {},
   "outputs": [],
   "source": [
    "record_merge = pd.merge(medorganization, record, on='Медицинская организация', how='left')"
   ]
  },
  {
   "cell_type": "code",
   "execution_count": 560,
   "id": "2d54184b",
   "metadata": {},
   "outputs": [
    {
     "data": {
      "text/html": [
       "<div>\n",
       "<style scoped>\n",
       "    .dataframe tbody tr th:only-of-type {\n",
       "        vertical-align: middle;\n",
       "    }\n",
       "\n",
       "    .dataframe tbody tr th {\n",
       "        vertical-align: top;\n",
       "    }\n",
       "\n",
       "    .dataframe thead th {\n",
       "        text-align: right;\n",
       "    }\n",
       "</style>\n",
       "<table border=\"1\" class=\"dataframe\">\n",
       "  <thead>\n",
       "    <tr style=\"text-align: right;\">\n",
       "      <th></th>\n",
       "      <th>Должность</th>\n",
       "    </tr>\n",
       "  </thead>\n",
       "  <tbody>\n",
       "    <tr>\n",
       "      <th>0</th>\n",
       "      <td>врач-терапевт участковый</td>\n",
       "    </tr>\n",
       "    <tr>\n",
       "      <th>1</th>\n",
       "      <td>врач-педиатр участковый</td>\n",
       "    </tr>\n",
       "    <tr>\n",
       "      <th>2</th>\n",
       "      <td>врач общей практики (семейный врач)</td>\n",
       "    </tr>\n",
       "    <tr>\n",
       "      <th>3</th>\n",
       "      <td>врач-офтальмолог</td>\n",
       "    </tr>\n",
       "    <tr>\n",
       "      <th>4</th>\n",
       "      <td>врач-оториноларинголог</td>\n",
       "    </tr>\n",
       "    <tr>\n",
       "      <th>5</th>\n",
       "      <td>врач-хирург</td>\n",
       "    </tr>\n",
       "    <tr>\n",
       "      <th>6</th>\n",
       "      <td>врач-акушер-гинеколог</td>\n",
       "    </tr>\n",
       "    <tr>\n",
       "      <th>7</th>\n",
       "      <td>врач-психиатр-нарколог</td>\n",
       "    </tr>\n",
       "    <tr>\n",
       "      <th>8</th>\n",
       "      <td>врач-фтизиатр участковый</td>\n",
       "    </tr>\n",
       "    <tr>\n",
       "      <th>9</th>\n",
       "      <td>врач-фтизиатр</td>\n",
       "    </tr>\n",
       "    <tr>\n",
       "      <th>10</th>\n",
       "      <td>врач-стоматолог</td>\n",
       "    </tr>\n",
       "    <tr>\n",
       "      <th>11</th>\n",
       "      <td>врач-стоматолог-терапевт</td>\n",
       "    </tr>\n",
       "    <tr>\n",
       "      <th>12</th>\n",
       "      <td>врач-стоматолог детский</td>\n",
       "    </tr>\n",
       "    <tr>\n",
       "      <th>13</th>\n",
       "      <td>врач-психиатр детский</td>\n",
       "    </tr>\n",
       "    <tr>\n",
       "      <th>14</th>\n",
       "      <td>врач - детский хирург</td>\n",
       "    </tr>\n",
       "    <tr>\n",
       "      <th>15</th>\n",
       "      <td>врач-психиатр детский участковый</td>\n",
       "    </tr>\n",
       "  </tbody>\n",
       "</table>\n",
       "</div>"
      ],
      "text/plain": [
       "                              Должность\n",
       "0              врач-терапевт участковый\n",
       "1               врач-педиатр участковый\n",
       "2   врач общей практики (семейный врач)\n",
       "3                      врач-офтальмолог\n",
       "4                врач-оториноларинголог\n",
       "5                           врач-хирург\n",
       "6                 врач-акушер-гинеколог\n",
       "7                врач-психиатр-нарколог\n",
       "8              врач-фтизиатр участковый\n",
       "9                         врач-фтизиатр\n",
       "10                      врач-стоматолог\n",
       "11             врач-стоматолог-терапевт\n",
       "12              врач-стоматолог детский\n",
       "13                врач-психиатр детский\n",
       "14                врач - детский хирург\n",
       "15     врач-психиатр детский участковый"
      ]
     },
     "execution_count": 560,
     "metadata": {},
     "output_type": "execute_result"
    }
   ],
   "source": [
    "tablica_doljnost"
   ]
  },
  {
   "cell_type": "code",
   "execution_count": 561,
   "id": "dfe055aa",
   "metadata": {},
   "outputs": [
    {
     "data": {
      "text/plain": [
       "array(['врач-стоматолог', 'врач-стоматолог-терапевт',\n",
       "       'врач-стоматолог-хирург', 'зубной врач', 'врач - детский хирург',\n",
       "       'врач общей практики (семейный врач)',\n",
       "       'врач по медицинской профилактике', 'врач-акушер-гинеколог',\n",
       "       'врач-оториноларинголог', 'врач-офтальмолог', 'врач-педиатр',\n",
       "       'врач-педиатр участковый', 'врач-терапевт',\n",
       "       'врач-терапевт участковый', 'врач-уролог', 'врач-хирург',\n",
       "       'фельдшер', nan, 'врач-психиатр детский',\n",
       "       'врач-стоматолог детский', 'врач-психиатр-нарколог',\n",
       "       'врач-фтизиатр', 'врач-психиатр детский участковый',\n",
       "       'врач-фтизиатр участковый'], dtype=object)"
      ]
     },
     "execution_count": 561,
     "metadata": {},
     "output_type": "execute_result"
    }
   ],
   "source": [
    "record_merge['Должность'].unique()"
   ]
  },
  {
   "cell_type": "code",
   "execution_count": 562,
   "id": "c9116d84",
   "metadata": {},
   "outputs": [],
   "source": [
    "record_merge_doljnost = pd.merge(tablica_doljnost, record_merge, how='left', on='Должность')"
   ]
  },
  {
   "cell_type": "code",
   "execution_count": 563,
   "id": "db2dc069",
   "metadata": {},
   "outputs": [
    {
     "data": {
      "text/plain": [
       "array(['врач-терапевт участковый', 'врач-педиатр участковый',\n",
       "       'врач общей практики (семейный врач)', 'врач-офтальмолог',\n",
       "       'врач-оториноларинголог', 'врач-хирург', 'врач-акушер-гинеколог',\n",
       "       'врач-психиатр-нарколог', 'врач-фтизиатр участковый',\n",
       "       'врач-фтизиатр', 'врач-стоматолог', 'врач-стоматолог-терапевт',\n",
       "       'врач-стоматолог детский', 'врач-психиатр детский',\n",
       "       'врач - детский хирург', 'врач-психиатр детский участковый'],\n",
       "      dtype=object)"
      ]
     },
     "execution_count": 563,
     "metadata": {},
     "output_type": "execute_result"
    }
   ],
   "source": [
    "record_merge_doljnost['Должность'].unique()"
   ]
  },
  {
   "cell_type": "code",
   "execution_count": 564,
   "id": "ef71d1c9",
   "metadata": {},
   "outputs": [],
   "source": [
    "record_merge_uchet = pd.merge(record_merge_doljnost, employee_uchet, on=['Организация', 'Должность'], how='left').fillna(0)"
   ]
  },
  {
   "cell_type": "code",
   "execution_count": 565,
   "id": "54528dfd",
   "metadata": {},
   "outputs": [
    {
     "name": "stderr",
     "output_type": "stream",
     "text": [
      "/tmp/ipykernel_7504/4107631880.py:1: FutureWarning: The provided callable <function sum at 0x7eff90181d80> is currently using DataFrameGroupBy.sum. In a future version of pandas, the provided callable will be used directly. To keep current behavior pass the string \"sum\" instead.\n",
      "  include_to_list = pd.pivot_table(record_merge_uchet, index='МО', values='Число лиц включенных в лист ожидания', aggfunc=np.sum, margins=True, margins_name='Итого').reset_index()\n"
     ]
    }
   ],
   "source": [
    "include_to_list = pd.pivot_table(record_merge_uchet, index='МО', values='Число лиц включенных в лист ожидания', aggfunc=np.sum, margins=True, margins_name='Итого').reset_index()"
   ]
  },
  {
   "cell_type": "markdown",
   "id": "fce09953",
   "metadata": {},
   "source": [
    "2. Слайд 4 Таблица 1 Столбец 2"
   ]
  },
  {
   "cell_type": "code",
   "execution_count": 566,
   "id": "ddcc49ff",
   "metadata": {},
   "outputs": [
    {
     "name": "stderr",
     "output_type": "stream",
     "text": [
      "/tmp/ipykernel_7504/43731032.py:1: FutureWarning: The provided callable <function sum at 0x7eff90181d80> is currently using DataFrameGroupBy.sum. In a future version of pandas, the provided callable will be used directly. To keep current behavior pass the string \"sum\" instead.\n",
      "  recorded = pd.pivot_table(record_merge_uchet, index='МО', values='Число лиц исключенных из листа ожидания по причине записи', aggfunc=np.sum, margins=True, margins_name='Итого').reset_index()\n"
     ]
    }
   ],
   "source": [
    "recorded = pd.pivot_table(record_merge_uchet, index='МО', values='Число лиц исключенных из листа ожидания по причине записи', aggfunc=np.sum, margins=True, margins_name='Итого').reset_index()"
   ]
  },
  {
   "cell_type": "markdown",
   "id": "8c0c72a0",
   "metadata": {},
   "source": [
    "3. Слайд 4 Таблица 1 Столбец 3"
   ]
  },
  {
   "cell_type": "code",
   "execution_count": 567,
   "id": "71f9e8fe",
   "metadata": {},
   "outputs": [
    {
     "name": "stderr",
     "output_type": "stream",
     "text": [
      "/tmp/ipykernel_7504/3296361143.py:1: FutureWarning: The provided callable <function sum at 0x7eff90181d80> is currently using DataFrameGroupBy.sum. In a future version of pandas, the provided callable will be used directly. To keep current behavior pass the string \"sum\" instead.\n",
      "  competitive = pd.pivot_table(record_merge_uchet, index='МО', values='из них конкурентных слотов', aggfunc=np.sum, margins=True, margins_name='Итого').reset_index()\n"
     ]
    }
   ],
   "source": [
    "competitive = pd.pivot_table(record_merge_uchet, index='МО', values='из них конкурентных слотов', aggfunc=np.sum, margins=True, margins_name='Итого').reset_index()\n",
    "competitive.rename(columns={'из них конкурентных слотов' : 'Количество конкурентной записи'}, inplace=True)"
   ]
  },
  {
   "cell_type": "code",
   "execution_count": 568,
   "id": "260845c6",
   "metadata": {},
   "outputs": [],
   "source": [
    "data_frames4 = [include_to_list, recorded, competitive]\n",
    "slide4_df = reduce(lambda  left,right: pd.merge(left,right,on=['МО'], how='outer'), data_frames4)"
   ]
  },
  {
   "cell_type": "markdown",
   "id": "80c7f481",
   "metadata": {},
   "source": [
    "###### Слайд 4 столбец 4"
   ]
  },
  {
   "cell_type": "code",
   "execution_count": 569,
   "id": "237c4b77",
   "metadata": {},
   "outputs": [],
   "source": [
    "slide4_df['Доля лиц, включенных в лист ожидания от общего количества конкурентной записи'] = round((slide4_df['Число лиц включенных в лист ожидания'] / slide4_df['Количество конкурентной записи']) * 100, 2).fillna(0)\n",
    "slide4_df['Движение лиц в листе ожидания'] = round((slide4_df['Число лиц включенных в лист ожидания'] - slide4_df['Число лиц исключенных из листа ожидания по причине записи']) / slide4_df['Число лиц включенных в лист ожидания'] * 100, 2).fillna(0)"
   ]
  },
  {
   "cell_type": "markdown",
   "id": "fddf9402",
   "metadata": {},
   "source": [
    "###### Слайд 4 столбец 5"
   ]
  },
  {
   "cell_type": "code",
   "execution_count": 570,
   "id": "2f035332",
   "metadata": {},
   "outputs": [],
   "source": [
    "slide4_df.sort_values(by='Движение лиц в листе ожидания', ascending=False, inplace=True)"
   ]
  },
  {
   "cell_type": "code",
   "execution_count": 571,
   "id": "1225a49d",
   "metadata": {},
   "outputs": [],
   "source": [
    "slide4_df.reset_index(drop=True, inplace=True)"
   ]
  },
  {
   "cell_type": "code",
   "execution_count": 572,
   "id": "e6eceea8",
   "metadata": {},
   "outputs": [],
   "source": [
    "# Получаем индекс строки, которую нужно переместить в конец\n",
    "index_itog_slide4 = slide4_df.index[slide4_df['МО'] == 'Итого'].tolist()[0]\n",
    "row_to_move = slide4_df.loc[index_itog_slide4]\n",
    "slide4_df = slide4_df.drop(index_itog_slide4)\n",
    "# Добавляем извлеченную строку в конец DataFrame\n",
    "# slide4_df = slide4_df.append(row_to_move)\n",
    "slide4_df = pd.concat([slide4_df, pd.DataFrame([row_to_move])], ignore_index=True)"
   ]
  },
  {
   "cell_type": "code",
   "execution_count": 573,
   "id": "e8af1378",
   "metadata": {},
   "outputs": [],
   "source": [
    "slide4_df.reset_index(drop=True, inplace=True)"
   ]
  },
  {
   "cell_type": "code",
   "execution_count": 574,
   "id": "1813a1ad",
   "metadata": {},
   "outputs": [],
   "source": [
    "# Создаем DataFrame\n",
    "result_slide4 = pd.merge(slide4_df, med_slide3, how='left', on='МО')\n",
    "result_slide4 = result_slide4[['Организация', 'Число лиц включенных в лист ожидания', 'Число лиц исключенных из листа ожидания по причине записи', 'Количество конкурентной записи', 'Доля лиц, включенных в лист ожидания от общего количества конкурентной записи', 'Движение лиц в листе ожидания']]\n",
    "result_slide4.rename(columns={'Организация': 'Наименование МО'}, inplace=True)\n",
    "result_slide4.fillna(0, inplace=True)\n",
    "df4 = result_slide4"
   ]
  },
  {
   "cell_type": "markdown",
   "id": "2bdcac72",
   "metadata": {},
   "source": [
    "##### Слайд 5\n",
    "* Обрабатываем выгрузки из Аналит\n",
    "* Требуется смотреть по адресу 'h:/СЦ/Исп_показателей_субъекта_Доступность_РЭМД/Сбор данных 2023/Подготовка к ВКС 26.12.2023/И38/для ПРОПП/Аналит доступность'"
   ]
  },
  {
   "cell_type": "code",
   "execution_count": 575,
   "id": "b6203fb8",
   "metadata": {},
   "outputs": [],
   "source": [
    "# Получаем список входных файлов\n",
    "slide5_input = glob.glob(os.path.join(ANALIT_SLIDE5, \"*.xlsx\"))"
   ]
  },
  {
   "cell_type": "code",
   "execution_count": 576,
   "id": "218da6c1",
   "metadata": {},
   "outputs": [],
   "source": [
    "# Объединяем их в один датафрейм\n",
    "svod_slide5 = []\n",
    "for my_files in slide5_input:\n",
    "    next_files = pd.read_excel(my_files, usecols=['Медицинская организация', 'Должность', 'Специальность',  'Врач','Кол.дней ожидания']).dropna()\n",
    "    svod_slide5.append(next_files)\n",
    "read_slide5 = pd.concat(svod_slide5, sort=False, axis=0)\n"
   ]
  },
  {
   "cell_type": "markdown",
   "id": "d3bdc28a",
   "metadata": {},
   "source": [
    "###### в системе Аналит для ОБ13 и Перинатального центра есть несколько вариантов наименований. Это может серьезно сказаться на качестве данных. Поэтому я обрабатываю эти наименовния и привожу их к одному варианту."
   ]
  },
  {
   "cell_type": "code",
   "execution_count": 577,
   "id": "05bae2b7",
   "metadata": {},
   "outputs": [],
   "source": [
    "read_slide5['Медицинская организация'] = np.where(read_slide5['Медицинская организация'] == 'Государственное бюджетное учреждение здравоохранения Тюменской Области Областная больница №13 (с. Исетское)', \n",
    "'Государственное бюджетное учреждение здравоохранения Тюменской области Областная больница № 13 (с.Исетское)',\n",
    " read_slide5['Медицинская организация'])"
   ]
  },
  {
   "cell_type": "code",
   "execution_count": 578,
   "id": "ab2c674a",
   "metadata": {},
   "outputs": [],
   "source": [
    "read_slide5['Медицинская организация'] = np.where(read_slide5['Медицинская организация'] == 'Государственное бюджетное учреждение здравоохранения Тюменской области \"Областная больница № 13 (с.Исетское)\"', \n",
    "'Государственное бюджетное учреждение здравоохранения Тюменской области Областная больница № 13 (с.Исетское)',\n",
    " read_slide5['Медицинская организация'])"
   ]
  },
  {
   "cell_type": "code",
   "execution_count": 579,
   "id": "3b1f1e29",
   "metadata": {},
   "outputs": [],
   "source": [
    "read_slide5['Медицинская организация'] = np.where(read_slide5['Медицинская организация'] == 'Государственное бюджетное учреждение здравоохранения Тюменской области \"Перинатальный центр\" г. Тюмень', \n",
    "'Государственное бюджетное учреждение здравоохранения Тюменской области \"Перинатальный центр\" (г. Тюмень)',\n",
    " read_slide5['Медицинская организация'])"
   ]
  },
  {
   "cell_type": "code",
   "execution_count": 580,
   "id": "8b864bac",
   "metadata": {},
   "outputs": [
    {
     "data": {
      "text/plain": [
       "array(['ГОСУДАРСТВЕННОЕ БЮДЖЕТНОЕ УЧРЕЖДЕНИЕ ЗДРАВООХРАНЕНИЯ ТЮМЕНСКОЙ ОБЛАСТИ \"ОБЛАСТНАЯ БОЛЬНИЦА №4\" (Г.ИШИМ)',\n",
       "       'Государственное бюджетное учреждение здравоохранения Тюменской области \"Областная больница №11\" (р.п. Голышманово)',\n",
       "       'Государственное бюджетное учреждение здравоохранения Тюменской области \"Областная больница № 9\" (с. Вагай)',\n",
       "       'ГОСУДАРСТВЕННОЕ БЮДЖЕТНОЕ УЧРЕЖДЕНИЕ ЗДРАВООХРАНЕНИЯ ТЮМЕНСКОЙ ОБЛАСТИ \"ОБЛАСТНАЯ БОЛЬНИЦА № 3\"',\n",
       "       'Государственное автономное учреждение здравоохранения Тюменской области «Городская поликлиника № 1»',\n",
       "       'Государственное автономное учреждение здравоохранения Тюменской области «Городская поликлиника № 3»',\n",
       "       'Государственное автономное учреждение здравоохранения Тюменской области «Городская поликлиника № 4»',\n",
       "       'Государственное автономное учреждение здравоохранения Тюменской области «Городская поликлиника № 5»',\n",
       "       'Государственное автономное учреждение здравоохранения Тюменской области «Городская поликлиника № 6»',\n",
       "       'Государственное автономное учреждение здравоохранения Тюменской области «Городская поликлиника № 8»',\n",
       "       'Государственное автономное учреждение здравоохранения Тюменской области «Городская поликлиника № 12»',\n",
       "       'Государственное автономное учреждение здравоохранения Тюменской области «Городская поликлиника № 13»',\n",
       "       'Государственное автономное учреждение здравоохранения Тюменской области «Городская поликлиника № 17»',\n",
       "       'Государственное бюджетное учреждение здравоохранения Тюменской области \"Областная клиническая больница №2\"',\n",
       "       'Тюменская больница Федерального государственного бюджетного учреждения здравоохранения \"Западно-Сибирский медицинский центр Федерального медико-биологического агентства\"',\n",
       "       'ГОСУДАРСТВЕННОЕ БЮДЖЕТНОЕ УЧРЕЖДЕНИЕ ЗДРАВООХРАНЕНИЯ ТЮМЕНСКОЙ ОБЛАСТИ \"ОБЛАСТНАЯ БОЛЬНИЦА № 23\"',\n",
       "       'ГОСУДАРСТВЕННОЕ БЮДЖЕТНОЕ УЧРЕЖДЕНИЕ ЗДРАВООХРАНЕНИЯ ТЮМЕНСКОЙ ОБЛАСТИ \"ОБЛАСТНАЯ БОЛЬНИЦА № 12\" (Г.ЗАВОДОУКОВСК)',\n",
       "       'Государственное бюджетное учреждение здравоохранения Тюменской области Областная больница № 13 (с.Исетское)',\n",
       "       'Государственное бюджетное учреждение здравоохранения Тюменской области «Областная больница № 14 имени В.Н. Шанаурина» (с. Казанское)',\n",
       "       'Государственное бюджетное учреждение здравоохранения Тюменской области «Областная больница №15» (с. Нижняя Тавда)',\n",
       "       'Государственное автономное учреждение здравоохранения Тюменской области «Областная больница № 19»',\n",
       "       'Государственное бюджетное учреждение здравоохранения Тюменской области «Областная больница № 20» (с. Уват)',\n",
       "       'Государственное бюджетное учреждение здравоохранения Тюменской области «Областная больница № 24» (с. Ярково)',\n",
       "       'Государственное автономное учреждение здравоохранения Тюменской области \\n«Многопрофильный консультативно-диагностический центр»',\n",
       "       'Государственное бюджетное учреждение здравоохранения Тюменской области «Родильный дом № 2»',\n",
       "       'Государственное бюджетное учреждение здравоохранения Тюменской области\\n«Родильный дом № 3»',\n",
       "       'Государственное автономное учреждение здравоохранения Тюменской области «Областная стоматологическая поликлиника»',\n",
       "       'Государственное бюджетное учреждение здравоохранения Тюменской области \"Перинатальный центр\" (г. Тюмень)',\n",
       "       'Государственное бюджетное учреждение здравоохранения Тюменской области \"Областная клиническая больница №1\"',\n",
       "       'Государственное бюджетное учреждение здравоохранения Тюменской области\\n«Областной клинический фтизиопульмонологический центр»',\n",
       "       'Государственное автономное учреждение здравоохранения Тюменской области «Областной кожно-венерологический диспансер»',\n",
       "       'Государственное автономное учреждение здравоохранения Тюменской области «Детский лечебно-реабилитационный центр «Надежда»',\n",
       "       'Государственное бюджетное учреждение здравоохранения Тюменской области «Областной наркологический диспансер»',\n",
       "       'Государственное бюджетное учреждение здравоохранения ТО «Областная клиническая психиатрическая больница»'],\n",
       "      dtype=object)"
      ]
     },
     "execution_count": 580,
     "metadata": {},
     "output_type": "execute_result"
    }
   ],
   "source": [
    "read_slide5['Медицинская организация'].unique()"
   ]
  },
  {
   "cell_type": "code",
   "execution_count": 581,
   "id": "06cc1db6",
   "metadata": {},
   "outputs": [],
   "source": [
    "read_slide5 = pd.merge(read_slide5, table_analit_doljnost, on=['Должность', 'Специальность'], how='right').dropna()"
   ]
  },
  {
   "cell_type": "code",
   "execution_count": 582,
   "id": "95514490",
   "metadata": {},
   "outputs": [
    {
     "data": {
      "text/plain": [
       "0                        0.25\n",
       "1                           1\n",
       "2                         0.6\n",
       "3        нет доступной записи\n",
       "4                           0\n",
       "                 ...         \n",
       "48139                       1\n",
       "48140                     3.2\n",
       "48141                       3\n",
       "48142                       2\n",
       "48143                       1\n",
       "Name: Кол.дней ожидания, Length: 48143, dtype: object"
      ]
     },
     "execution_count": 582,
     "metadata": {},
     "output_type": "execute_result"
    }
   ],
   "source": [
    "read_slide5['Кол.дней ожидания']"
   ]
  },
  {
   "cell_type": "code",
   "execution_count": 583,
   "id": "6c83e806",
   "metadata": {},
   "outputs": [],
   "source": [
    "read_slide5 = read_slide5[['Медицинская организация', 'Должность', 'Врач', 'Кол.дней ожидания']]"
   ]
  },
  {
   "cell_type": "code",
   "execution_count": 584,
   "id": "db0e6ce4",
   "metadata": {},
   "outputs": [],
   "source": [
    "# Очистка ячейки, замена на None строковых значений\n",
    "read_slide5['Кол.дней ожидания'] = np.where(read_slide5['Кол.дней ожидания'] == 'нет доступной записи', None, read_slide5['Кол.дней ожидания'])"
   ]
  },
  {
   "cell_type": "code",
   "execution_count": 585,
   "id": "afacd8ba",
   "metadata": {},
   "outputs": [],
   "source": [
    "# Округляю до наименьшего целого если значение не пусто\n",
    "read_slide5['Минимум дней'] = read_slide5['Кол.дней ожидания'].map(lambda x: int(math.floor(float(x))) if x is not None else None)"
   ]
  },
  {
   "cell_type": "code",
   "execution_count": 586,
   "id": "3dab3b3a",
   "metadata": {},
   "outputs": [
    {
     "data": {
      "text/plain": [
       "array(['врач-терапевт участковый', 'врач-педиатр участковый',\n",
       "       'врач общей практики (семейный врач)', 'врач-офтальмолог',\n",
       "       'врач-оториноларинголог', 'врач-хирург', 'врач-акушер-гинеколог',\n",
       "       'врач-психиатр-нарколог', 'врач-фтизиатр участковый',\n",
       "       'врач-фтизиатр', 'врач-стоматолог', 'врач-стоматолог-терапевт',\n",
       "       'врач-стоматолог детский', 'врач-психиатр детский',\n",
       "       'врач - детский хирург', 'врач-психиатр детский участковый',\n",
       "       'врач-психиатр'], dtype=object)"
      ]
     },
     "execution_count": 586,
     "metadata": {},
     "output_type": "execute_result"
    }
   ],
   "source": [
    "read_slide5['Должность'].unique()"
   ]
  },
  {
   "cell_type": "code",
   "execution_count": 587,
   "id": "0ea56934",
   "metadata": {},
   "outputs": [
    {
     "data": {
      "text/plain": [
       "0        0.0\n",
       "1        1.0\n",
       "2        0.0\n",
       "3        NaN\n",
       "4        0.0\n",
       "        ... \n",
       "48139    1.0\n",
       "48140    3.0\n",
       "48141    3.0\n",
       "48142    2.0\n",
       "48143    1.0\n",
       "Name: Минимум дней, Length: 48143, dtype: float64"
      ]
     },
     "execution_count": 587,
     "metadata": {},
     "output_type": "execute_result"
    }
   ],
   "source": [
    "read_slide5['Минимум дней']"
   ]
  },
  {
   "cell_type": "code",
   "execution_count": 588,
   "id": "b867e062",
   "metadata": {},
   "outputs": [],
   "source": [
    "read_slide5.rename(columns={'Медицинская организация': 'Аналит МО'}, inplace=True)"
   ]
  },
  {
   "cell_type": "code",
   "execution_count": 589,
   "id": "31e5a45f",
   "metadata": {},
   "outputs": [],
   "source": [
    "analit_mo = pd.read_excel(ROOT_PATH + '//guide//medicine_organization_3.xlsx')"
   ]
  },
  {
   "cell_type": "code",
   "execution_count": 590,
   "id": "0e76ee9c",
   "metadata": {},
   "outputs": [],
   "source": [
    "analit_slide_5 = pd.merge(read_slide5, analit_mo, on='Аналит МО', how='left')"
   ]
  },
  {
   "cell_type": "markdown",
   "id": "25cee2d0",
   "metadata": {},
   "source": [
    "* Этот код фильтрует DataFrame `analit_slide_5` и оставляет только те строки, где значения столбца 'Должность' находятся в списке `employee_list`.\n",
    "\n",
    "* Специфически, `analit_slide_5['Должность'].isin(employee_list)` создает булеву серию, которая проверяет, находятся ли значения столбца 'Должность' в списке `employee_list`. Затем, `analit_slide_5[...]` используется для * индексации DataFrame, чтобы оставить только строки, соответствующие `True` значениям в булевой серии.\n",
    "\n",
    "* Таким образом, после выполнения этого кода, `analit_slide_5` будет содержать только строки, где столбец 'Должность' содержит значения из `employee_list`.\n"
   ]
  },
  {
   "cell_type": "code",
   "execution_count": 591,
   "id": "ca4cdf78",
   "metadata": {},
   "outputs": [],
   "source": [
    "analit_slide_5 = analit_slide_5[analit_slide_5['Должность'].isin(employee_list)]"
   ]
  },
  {
   "cell_type": "code",
   "execution_count": 592,
   "id": "b813413d",
   "metadata": {},
   "outputs": [
    {
     "data": {
      "text/plain": [
       "array(['врач-терапевт участковый', 'врач-педиатр участковый',\n",
       "       'врач общей практики (семейный врач)', 'врач-офтальмолог',\n",
       "       'врач-оториноларинголог', 'врач-хирург', 'врач-акушер-гинеколог',\n",
       "       'врач-психиатр-нарколог', 'врач-фтизиатр участковый',\n",
       "       'врач-фтизиатр', 'врач-стоматолог', 'врач-стоматолог-терапевт',\n",
       "       'врач-стоматолог детский', 'врач-психиатр детский',\n",
       "       'врач - детский хирург', 'врач-психиатр детский участковый'],\n",
       "      dtype=object)"
      ]
     },
     "execution_count": 592,
     "metadata": {},
     "output_type": "execute_result"
    }
   ],
   "source": [
    "analit_slide_5['Должность'].unique()"
   ]
  },
  {
   "cell_type": "markdown",
   "id": "5cffa9f4",
   "metadata": {},
   "source": [
    "* Этот код определяет пользовательскую функцию `customized_nanmean` для вычисления среднего значения из заданного списка `values`, который может содержать пропущенные значения (`None` или `NaN`).\n",
    "\n",
    "Сначала код проверяет, являются ли все значения в группе пропущенными (`None`) или NaN (`np.nan`). Для этого используется выражение `all(pd.isna(x) or x is None for x in values)`. Если все значения равны `None` или NaN, функция возвращает `None`, т.е., нет доступных данных для расчета среднего значения и возвращается специальное значение `None`.\n",
    "\n",
    "В противном случае (если есть хотя бы одно числовое значение), функция использует `np.nanmean(values)` для вычисления среднего значения. Функция `np.nanmean` вычисляет среднее значение, игнорируя пропущенные значения (`NaN`), и возвращает результат с плавающей точкой.\n",
    "\n",
    "И наконец, результат среднего значения округляется до ближайшего целого числа с помощью `round(..., 0)` и возвращается.\n",
    "\n",
    "Функция вызывается при построении сводной таблицы, так что в итоге мы получаем массив средних значений за исключением `None`\n"
   ]
  },
  {
   "cell_type": "code",
   "execution_count": 593,
   "id": "14369c0a",
   "metadata": {},
   "outputs": [],
   "source": [
    "def customized_nanmean(values):\n",
    "    # Проверяем, все ли значения в группе равны None или NaN\n",
    "    if all(pd.isna(x) or x is None for x in values):\n",
    "        return None\n",
    "    else:\n",
    "        return round(np.nanmean(values), 0)"
   ]
  },
  {
   "cell_type": "code",
   "execution_count": 594,
   "id": "6b34a548",
   "metadata": {},
   "outputs": [],
   "source": [
    "slide_5pivot = pd.pivot_table(analit_slide_5, index='Организация', columns='Должность', values='Минимум дней', aggfunc=customized_nanmean, margins=True, margins_name='Итог').fillna('НДЗ')"
   ]
  },
  {
   "cell_type": "code",
   "execution_count": 595,
   "id": "fbcb04ba",
   "metadata": {},
   "outputs": [],
   "source": [
    "slide_5pivot.reset_index(drop=False, inplace=True)"
   ]
  },
  {
   "cell_type": "code",
   "execution_count": 596,
   "id": "a889f0c8",
   "metadata": {},
   "outputs": [],
   "source": [
    "slide_5pivot = slide_5pivot.rename_axis(index=None, columns=None)"
   ]
  },
  {
   "cell_type": "code",
   "execution_count": 597,
   "id": "dbaaddde",
   "metadata": {},
   "outputs": [],
   "source": [
    "slide_5pivot = slide_5pivot[slide_5pivot['Организация'] != 'ГБУЗ ТО «Перинатальный центр»'].reset_index(drop=True)"
   ]
  },
  {
   "cell_type": "markdown",
   "id": "6115df3d",
   "metadata": {},
   "source": [
    "Вот тут нужно проверить результат на соответсвие с таблицей Ани флягиной чтобы понять должны ли вообще они отправлять данные или нет"
   ]
  },
  {
   "cell_type": "code",
   "execution_count": 598,
   "id": "7ae4ec6a",
   "metadata": {},
   "outputs": [],
   "source": [
    "uchet_doljnosty = pd.read_excel(ROOT_PATH + '//guide//uchet_doljnosty.xlsx').fillna(0)"
   ]
  },
  {
   "cell_type": "code",
   "execution_count": 599,
   "id": "e149a820",
   "metadata": {},
   "outputs": [],
   "source": [
    "uchet_doljnosty = uchet_doljnosty.sort_values(by='Организация', ascending=True).reset_index(drop=True)"
   ]
  },
  {
   "cell_type": "code",
   "execution_count": 600,
   "id": "2e304eb1",
   "metadata": {},
   "outputs": [
    {
     "data": {
      "text/plain": [
       "18"
      ]
     },
     "execution_count": 600,
     "metadata": {},
     "output_type": "execute_result"
    }
   ],
   "source": [
    "len(slide_5pivot.columns)"
   ]
  },
  {
   "cell_type": "code",
   "execution_count": 601,
   "id": "7e2ca1b7",
   "metadata": {},
   "outputs": [
    {
     "data": {
      "text/plain": [
       "17"
      ]
     },
     "execution_count": 601,
     "metadata": {},
     "output_type": "execute_result"
    }
   ],
   "source": [
    "len(uchet_doljnosty.columns)"
   ]
  },
  {
   "cell_type": "code",
   "execution_count": 602,
   "id": "8157563e",
   "metadata": {},
   "outputs": [],
   "source": [
    "slide_5pivot = slide_5pivot[['Организация', 'врач общей практики (семейный врач)', 'врач-акушер-гинеколог', 'врач-оториноларинголог', \n",
    "                             'врач-офтальмолог', 'врач-педиатр участковый', 'врач-психиатр-нарколог', 'врач-стоматолог', \n",
    "                             'врач-терапевт участковый', 'врач-фтизиатр участковый', 'врач-фтизиатр', 'врач-хирург', 'врач - детский хирург', \n",
    "                             'врач-стоматолог-терапевт', 'врач-стоматолог детский', 'врач-психиатр детский', 'врач-психиатр детский участковый']]"
   ]
  },
  {
   "cell_type": "code",
   "execution_count": 603,
   "id": "12c95b56",
   "metadata": {},
   "outputs": [],
   "source": [
    "# Создание третьего DataFrame, в котором значения из df1 берутся, если значения в duchet_doljnosty != 0\n",
    "df5 = slide_5pivot.copy()\n",
    "for column in df5.columns:\n",
    "    for idx, value in enumerate(df5[column]):\n",
    "        df5.at[idx, column] = np.where(uchet_doljnosty.at[idx, column] != 0, slide_5pivot.at[idx, column], '-')"
   ]
  },
  {
   "cell_type": "code",
   "execution_count": 604,
   "id": "a20c0221",
   "metadata": {},
   "outputs": [],
   "source": [
    "df5['Организация'] = df5['Организация'].astype(str)"
   ]
  },
  {
   "cell_type": "code",
   "execution_count": 605,
   "id": "3059d8e2",
   "metadata": {},
   "outputs": [],
   "source": [
    "df5 = pd.merge(df5, sequence_mo, how='right', on='Организация')"
   ]
  },
  {
   "cell_type": "markdown",
   "id": "6cee1e34",
   "metadata": {},
   "source": [
    "##### Расчет 8 столбца первого слайда"
   ]
  },
  {
   "cell_type": "markdown",
   "id": "b1e497a8",
   "metadata": {},
   "source": [
    "###### Вот тут добавляем требование заменять нулевые ставки на 1 "
   ]
  },
  {
   "cell_type": "code",
   "execution_count": 606,
   "id": "19a8272a",
   "metadata": {},
   "outputs": [],
   "source": [
    "merge_ras_1c_uchet_secret['mp_stavka'] = np.where(merge_ras_1c_uchet_secret['mp_stavka'] == 0, 1, merge_ras_1c_uchet_secret['mp_stavka'])"
   ]
  },
  {
   "cell_type": "code",
   "execution_count": 607,
   "id": "419a7e3f",
   "metadata": {},
   "outputs": [],
   "source": [
    "merge_ras_1c_uchet_data = merge_ras_1c_uchet_secret.copy()"
   ]
  },
  {
   "cell_type": "code",
   "execution_count": 608,
   "id": "5efee67f",
   "metadata": {},
   "outputs": [
    {
     "name": "stderr",
     "output_type": "stream",
     "text": [
      "/tmp/ipykernel_7504/863273829.py:11: FutureWarning: The provided callable <function sum at 0x7eff90181d80> is currently using DataFrameGroupBy.sum. In a future version of pandas, the provided callable will be used directly. To keep current behavior pass the string \"sum\" instead.\n",
      "  slide_1_columns8 = pd.pivot_table(subset_data,\n"
     ]
    }
   ],
   "source": [
    "# Расчет 8 столбца первого слайда\n",
    "slide_1_columns8_data = merge_ras_1c_uchet_data[['Организация', \n",
    "                                            'Должность', \n",
    "                                            'mp_id', \n",
    "                                            'mp_fio', \n",
    "                                            'mp_stavka']]\n",
    "subset_data = slide_1_columns8_data.copy()\n",
    "subset_data.drop_duplicates(subset=['Организация', 'Должность', 'mp_id'], inplace=True)\n",
    "\n",
    "# Расчет 8 столбца первого слайда\n",
    "slide_1_columns8 = pd.pivot_table(subset_data, \n",
    "                                  index='Организация', \n",
    "                                  values='mp_stavka', \n",
    "                                  aggfunc=np.sum, \n",
    "                                  margins=True, \n",
    "                                  margins_name='Итого').fillna(0).reset_index()\n",
    "slide_1_columns8.rename(columns={'Организация': 'Наименование МО'}, inplace=True)"
   ]
  },
  {
   "cell_type": "markdown",
   "id": "0ec4d5be",
   "metadata": {},
   "source": [
    "##### Итоговый расчет первого слайда"
   ]
  },
  {
   "cell_type": "code",
   "execution_count": 609,
   "id": "65028a7d",
   "metadata": {},
   "outputs": [],
   "source": [
    "# Итоговый расчет первого слайда\n",
    "# Объединяем \n",
    "slide_1_all = [slide_1_column1, slide_1_column2, slide_1_column3, slide1_column4, slide_1_column6, slide_1_column7, slide_1_columns8]\n",
    "df = reduce(lambda left, right: pd.merge(left,right,on=['Наименование МО'], how='outer'), slide_1_all)\n",
    "\n",
    "df.rename(columns={'Всего': 'Кол-во физ-лиц в ФРМР', 'Итого': 'Кол-во физ-лиц в ФРМР за минусом ДО'}, inplace=True)\n",
    "df = df.fillna(0)\n",
    "\n",
    "# ##### Вот тут я пересчитываю количество физических лиц за минусом ДО еще раз\n",
    "df['Кол-во физ-лиц в ФРМР за минусом ДО'] = df['Кол-во физ-лиц в ФРМР'] - df['Кол-во физ-лиц в ФРМР в ДО']\n",
    "df['Доля физ. лиц с расписанием от общего количества физ лиц'] = round(df['Кол-во физ-лиц на которые заведено расписание'] / df['Кол-во физ-лиц в ФРМР за минусом ДО'] * 100, 1)\n",
    "df.replace([np.inf , -np.inf ], 0 , inplace= True)\n",
    "df = df[df['Наименование МО'] != 'Итого']\n",
    "df = df.sort_values(by='Доля физ. лиц с расписанием от общего количества физ лиц', ascending=False)\n",
    "df.reset_index(drop=True)\n",
    "df = df.set_index('Наименование МО')\n",
    "df.loc['Итого']=df.sum()\n",
    "df = df.reset_index()\n",
    "# Значение для поиска\n",
    "index_values = 'Итого'\n",
    "# Находим индекс строки с заданным значением в 'Столбец1'\n",
    "index_values_value = df.loc[df['Наименование МО'] == index_values].index[0]\n",
    "# Вычисляем среднее значение по столбцу 'Столбец2'\n",
    "mean_procent = df['Доля физ. лиц с расписанием от общего количества физ лиц'].median()\n",
    "# Изменяем значение ячейки на среднее значение\n",
    "df.loc[index_values_value , 'Доля физ. лиц с расписанием от общего количества физ лиц'] = mean_procent\n",
    "df['Доля физ. лиц с расписанием от общего количества физ лиц'] = round(df['Доля физ. лиц с расписанием от общего количества физ лиц'], 1)\n",
    "df.rename(columns={'Кол-во должностей из 14': 'Кол-во введенных должностей в ШР МО из учитываемых 14',\n",
    "                   'Кол-во физ-лиц в ФРМР за минусом ДО': 'Кол-во физ-лиц в ФРМР за минусом находящихся в отпуске по беременности и родам и по уходу за ребенком',\n",
    "                   'Доля физ. лиц с расписанием от общего количества физ лиц': 'Доля физ. лиц с расписанием от общего количества физ лиц за минусом находящихся в отпуске по беременности и родам и по уходу за ребенком',\n",
    "                   'Кол-во физ-лиц в ФРМР в ДО': 'Кол-во физ-лиц в ФРМР находящихся в отпуске по беременности и родам и по уходу за ребенком', \n",
    "                   'mp_stavka': 'Кол-во ставок на которое сформировано расписание'}, inplace=True)\n",
    "df = df[['Наименование МО',\n",
    "       'Кол-во введенных должностей в ШР МО из учитываемых 14',\n",
    "       'Кол-во физ-лиц в ФРМР',\n",
    "       'Кол-во физ-лиц в ФРМР за минусом находящихся в отпуске по беременности и родам и по уходу за ребенком',\n",
    "       'Кол-во физ-лиц на которые заведено расписание',\n",
    "       'Кол-во физ-лиц в ФРМР находящихся в отпуске по беременности и родам и по уходу за ребенком',\n",
    "       'Доля физ. лиц с расписанием от общего количества физ лиц за минусом находящихся в отпуске по беременности и родам и по уходу за ребенком', \n",
    "       'Кол-во ставок в ШР МО', \n",
    "       'Кол-во ставок на которое сформировано расписание']]\n",
    "df['Доля физ. лиц с расписанием от общего количества физ лиц за минусом находящихся в отпуске по беременности и родам и по уходу за ребенком'] = round(df['Кол-во физ-лиц на которые заведено расписание'] / df['Кол-во физ-лиц в ФРМР за минусом находящихся в отпуске по беременности и родам и по уходу за ребенком'] * 100, 1)"
   ]
  },
  {
   "cell_type": "code",
   "execution_count": 610,
   "id": "f1fc63a4",
   "metadata": {},
   "outputs": [],
   "source": [
    "df['Кол-во ставок в ШР МО'] = df['Кол-во ставок в ШР МО'].round(2)"
   ]
  },
  {
   "cell_type": "markdown",
   "id": "5cce27b4",
   "metadata": {},
   "source": [
    "###### Создаем презентацию"
   ]
  },
  {
   "cell_type": "code",
   "execution_count": 611,
   "id": "07c98968",
   "metadata": {},
   "outputs": [],
   "source": [
    "# Создаем презентацию\n",
    "prs = Presentation()\n",
    "prs.slide_width = Inches(16)\n",
    "prs.slide_height = Inches(9)\n",
    "slide_width = prs.slide_width\n",
    "slide_height = prs.slide_height"
   ]
  },
  {
   "cell_type": "markdown",
   "id": "dd22e27a",
   "metadata": {},
   "source": [
    "##### Создаю первый слайд"
   ]
  },
  {
   "cell_type": "code",
   "execution_count": 612,
   "id": "22504705",
   "metadata": {},
   "outputs": [],
   "source": [
    "\n",
    "# Создаю первый слайд\n",
    "# Указываем макет создаем слайд настраиваем параменты слайда\n",
    "blank_slide_layout = prs.slide_layouts[5]\n",
    "slide = prs.slides.add_slide(blank_slide_layout)\n",
    "# Создаем заголовок\n",
    "title_slide = slide.shapes.title\n",
    "# Установка цвета фона заголовка\n",
    "title_slide.fill.solid()\n",
    "title_slide.fill.fore_color.rgb = color_title\n",
    "title_slide.text = f'ПОКАЗАТЕЛИ ОРГАНИЗАЦИИ ЗАПИСИ В ОТЧЕТНОМ ПЕРИОДЕ ({period_last}) «ОХВАТ РАСПИСАНИЕМ СОТРУДНИКОВ»'\n",
    "title_slide.height = Inches(0.8)\n",
    "title_slide.width = Inches(16)\n",
    "title_slide.top = Inches(0.1)\n",
    "title_slide.left = Inches(0)\n",
    "# Устанавливаем размер шрифта\n",
    "title_slide.text_frame.paragraphs[0].runs[0].font.size = Pt(10)\n",
    "# Устанавливаем цвет шрифта\n",
    "title_slide.text_frame.paragraphs[0].runs[0].font.color.rgb = color_neutral \n",
    "#Создаем макет табличной формы\n",
    "left = Inches(0)\n",
    "width = int(slide_width * 1)\n",
    "height = int (slide_height * 0.7)\n",
    "top = Inches(1)\n",
    "shape = slide.shapes.add_table(30, 9, left, top, width, height)\n",
    "table_placeholder = slide.shapes[0]\n",
    "# Создаем таблицу\n",
    "table = shape.table\n",
    "# Уменьшаем отступы в ячейках таблицы\n",
    "for row in table.rows:\n",
    "    for cell in row.cells:\n",
    "        cell.margin_top = 0\n",
    "        cell.margin_bottom = 0\n",
    "# Заполняем заголовки столбцов\n",
    "for i, column in enumerate(df.columns):\n",
    "    table.cell(0, i).text = column\n",
    "    cell = table.cell(0, i)\n",
    "    cell.text_frame.clear()  # Очистка содержимого ячейки\n",
    "    cell.text_frame.auto_size = MSO_AUTO_SIZE.TEXT_TO_FIT_SHAPE  # Масштабирование текста\n",
    "    p = cell.text_frame.paragraphs[0]\n",
    "    p.text = column\n",
    "    p.alignment = PP_ALIGN.CENTER\n",
    "    p.font.size = Pt(10)\n",
    "    p.font.name = 'Calibri'\n",
    "    cell.fill.solid()\n",
    "    cell.fill.fore_color.rgb = color_header  # Задание цвета фона ячейки\n",
    "\n",
    "for i, row in enumerate(df.itertuples(), start=1):\n",
    "    for j, value in enumerate(row[1:], start=0):\n",
    "        table.cell(i, j).text = str(value)\n",
    "\n",
    "for i, row in enumerate(df.itertuples(), start=1):\n",
    "    for j, value in enumerate(row[1:], start=0):\n",
    "        cell = table.cell(i, j)\n",
    "        cell.text_frame.clear()  # Очистка содержимого ячейки\n",
    "        cell.text_frame.auto_size = MSO_AUTO_SIZE.TEXT_TO_FIT_SHAPE  # Масштабирование текста\n",
    "        cell.width = Inches(0.3)  # Ширина ячейки\n",
    "        cell.height = Inches(0.6)  # Высота ячейки\n",
    "        cell.fill.solid()\n",
    "        cell.fill.fore_color.rgb = color_neutral  # Задание цвета фона ячейки\n",
    "        p = cell.text_frame.paragraphs[0]\n",
    "        p.text = str(value)\n",
    "        p.alignment = PP_ALIGN.CENTER\n",
    "        p.font.size = Pt(10)\n",
    "        p.font.name = 'Calibri'\n",
    "\n",
    "# Слайд 1 Столбец 7\n",
    "column_index = 6\n",
    "column_name = df.columns[column_index]\n",
    "# Получение соответствующего столбца из DataFrame\n",
    "column = df[column_name]\n",
    "# Итерирование по значениям столбца\n",
    "for i, value in enumerate(column, start=1):\n",
    "    # Получение ячейки таблицы на текущей позиции столбца\n",
    "    cell = table.cell(i, column_index)\n",
    "    # Раскраска ячейки на основе значения из DataFrame\n",
    "    if value >= 100:\n",
    "        cell.fill.solid()\n",
    "        cell.fill.fore_color.rgb = color_green  \n",
    "    elif 80 <= value < 100:\n",
    "        cell.fill.solid()\n",
    "        cell.fill.fore_color.rgb = color_yallow  \n",
    "    else:\n",
    "        cell.fill.solid()\n",
    "        cell.fill.fore_color.rgb = color_red"
   ]
  },
  {
   "cell_type": "markdown",
   "id": "c303b59f",
   "metadata": {},
   "source": [
    "##### Создание слайда 2"
   ]
  },
  {
   "cell_type": "code",
   "execution_count": 613,
   "id": "31bb14c4",
   "metadata": {},
   "outputs": [],
   "source": [
    "# Создание слайда 2\n",
    "# Указываем макет создаем слайд настраиваем параменты слайда\n",
    "blank_slide_layout = prs.slide_layouts[5]\n",
    "slide2 = prs.slides.add_slide(blank_slide_layout)\n",
    "slide_width = prs.slide_width\n",
    "slide_height = prs.slide_height\n",
    "\n",
    "slide2.slide_width = slide_width\n",
    "slide2.slide_height = slide_height\n",
    "# Создаем заголовок\n",
    "title_slide2 = slide2.shapes.title\n",
    "title_slide2.text = f'ПОКАЗАТЕЛИ ОРГАНИЗАЦИИ ЗАПИСИ В ОТЧЕТНОМ ПЕРИОДЕ ({period}) «ПОЛНОТА ВЕДЕНИЯ РАСПИСАНИЯ И КОНКУРЕНТНОСТЬ»'\n",
    "title_slide2.height = Inches(0.9)\n",
    "title_slide2.width = Inches(16)\n",
    "title_slide2.top = Inches(0.1)\n",
    "title_slide2.left = Inches(0)\n",
    "# Установка цвета фона заголовка\n",
    "title_slide2.fill.solid()\n",
    "title_slide2.fill.fore_color.rgb = color_title\n",
    "# Устанавливаем размер шрифта\n",
    "title_slide2.text_frame.paragraphs[0].runs[0].font.size = Pt(14)\n",
    "# Устанавливаем цвет шрифта\n",
    "title_slide2.text_frame.paragraphs[0].runs[0].font.color.rgb = color_neutral\n",
    "# Создаем макет табличной формы\n",
    "left = Inches(0.1)\n",
    "width = int(slide_width * 0.98)\n",
    "height = int (slide_height * 0.8)\n",
    "top = Inches(1.1)\n",
    "shape2 = slide2.shapes.add_table(30, 6, left, top, width, height)\n",
    "table_placeholder2 = slide2.shapes[0]\n",
    "# Создаем таблицу\n",
    "table2 = shape2.table\n",
    "# Уменьшаем отступы в ячейках таблицы\n",
    "for row in table2.rows:\n",
    "    for cell in row.cells:\n",
    "        cell.margin_top = 0\n",
    "        cell.margin_bottom = 0\n",
    "# Заполняем заголовки столбцов\n",
    "for i, column in enumerate(df2.columns):\n",
    "    table2.cell(0, i).text = column\n",
    "    cell = table2.cell(0, i)\n",
    "    cell.text_frame.clear()  # Очистка содержимого ячейки\n",
    "    cell.text_frame.auto_size = MSO_AUTO_SIZE.TEXT_TO_FIT_SHAPE  # Масштабирование текста\n",
    "    p = cell.text_frame.paragraphs[0]\n",
    "    p.text = column\n",
    "    p.alignment = PP_ALIGN.CENTER\n",
    "    p.font.size = Pt(12)\n",
    "    p.font.name = 'Calibri'\n",
    "    cell.fill.solid()\n",
    "    cell.fill.fore_color.rgb = color_header  # Задание цвета фона ячейки\n",
    "\n",
    "for i, row in enumerate(df2.itertuples(), start=1):\n",
    "    for j, value in enumerate(row[1:], start=0):\n",
    "        table2.cell(i, j).text = str(value)\n",
    "\n",
    "for i, row in enumerate(df2.itertuples(), start=1):\n",
    "    for j, value in enumerate(row[1:], start=0):\n",
    "        cell = table2.cell(i, j)\n",
    "        cell.text_frame.clear()  # Очистка содержимого ячейки\n",
    "        cell.text_frame.auto_size = MSO_AUTO_SIZE.TEXT_TO_FIT_SHAPE  # Масштабирование текста\n",
    "        cell.width = Inches(0.3)  # Ширина ячейки\n",
    "        cell.height = Inches(0.6)  # Высота ячейки\n",
    "        cell.fill.solid()\n",
    "        cell.fill.fore_color.rgb = color_neutral  # Задание цвета фона ячейки\n",
    "        p = cell.text_frame.paragraphs[0]\n",
    "        p.text = str(value)\n",
    "        p.alignment = PP_ALIGN.CENTER\n",
    "        p.font.size = Pt(10)\n",
    "        p.font.name = 'Calibri'\n",
    "# Столбец 6\n",
    "column_index = 5\n",
    "column_name = df2.columns[column_index]\n",
    "# Получение соответствующего столбца из DataFrame\n",
    "column = df2[column_name]\n",
    "# Итерирование по значениям столбца\n",
    "for i, value in enumerate(column, start=1):\n",
    "    # Получение ячейки таблицы на текущей позиции столбца\n",
    "    cell = table2.cell(i, column_index)\n",
    "    # Раскраска ячейки на основе значения из DataFrame\n",
    "    if value >= 65:\n",
    "        cell.fill.solid()\n",
    "        cell.fill.fore_color.rgb = color_green  \n",
    "    elif 60 <= value < 65:\n",
    "        cell.fill.solid()\n",
    "        cell.fill.fore_color.rgb = color_yallow\n",
    "    elif value == 0:\n",
    "        cell.fill.solid()\n",
    "        cell.fill.fore_color.rgb = color_neutral\n",
    "    else:\n",
    "        cell.fill.solid()\n",
    "        cell.fill.fore_color.rgb = color_red  \n",
    "\n",
    "\n",
    "# Столбец 5\n",
    "column_index = 4\n",
    "column_name = df2.columns[column_index]\n",
    "# Получение соответствующего столбца из DataFrame\n",
    "column = df2[column_name]\n",
    "# Итерирование по значениям столбца\n",
    "for i, value in enumerate(column, start=1):\n",
    "    # Получение ячейки таблицы на текущей позиции столбца\n",
    "    cell = table2.cell(i, column_index)\n",
    "    # Раскраска ячейки на основе значения из DataFrame\n",
    "    if value >= 65:\n",
    "        cell.fill.solid()\n",
    "        cell.fill.fore_color.rgb = color_green  \n",
    "    elif 60 <= value < 65:\n",
    "        cell.fill.solid()\n",
    "        cell.fill.fore_color.rgb = color_yallow  \n",
    "    else:\n",
    "        cell.fill.solid()\n",
    "        cell.fill.fore_color.rgb = color_red  \n",
    "\n",
    "# Столбец 4\n",
    "column_index = 3\n",
    "column_name = df2.columns[column_index]\n",
    "# Получение соответствующего столбца из DataFrame\n",
    "column = df2[column_name]\n",
    "# Итерирование по значениям столбца\n",
    "for i, value in enumerate(column, start=1):\n",
    "    # Получение ячейки таблицы на текущей позиции столбца\n",
    "    cell = table2.cell(i, column_index)\n",
    "    \n",
    "    # Раскраска ячейки на основе значения из DataFrame\n",
    "    if value >= 80:\n",
    "        cell.fill.solid()\n",
    "        cell.fill.fore_color.rgb = color_green  # Зеленый цвет\n",
    "    elif 60 <= value < 80:\n",
    "        cell.fill.solid()\n",
    "        cell.fill.fore_color.rgb = color_yallow  # Желтый цвет\n",
    "    elif value == 0:\n",
    "        cell.fill.solid()\n",
    "        cell.fill.fore_color.rgb = color_neutral\n",
    "    else:\n",
    "        cell.fill.solid()\n",
    "        cell.fill.fore_color.rgb = color_red  # Красный цвет\n",
    "\n",
    "# Столбец 3\n",
    "column_index = 2\n",
    "column_name = df2.columns[column_index]\n",
    "\n",
    "# Получение соответствующего столбца из DataFrame\n",
    "column = df2[column_name]\n",
    "\n",
    "# Итерирование по значениям столбца\n",
    "for i, value in enumerate(column, start=1):\n",
    "    # Получение ячейки таблицы на текущей позиции столбца\n",
    "    cell = table2.cell(i, column_index)\n",
    "    \n",
    "    # Раскраска ячейки на основе значения из DataFrame\n",
    "    if value >= 65:\n",
    "        cell.fill.solid()\n",
    "        cell.fill.fore_color.rgb = color_green  # Зеленый цвет\n",
    "    elif 60 <= value < 65:\n",
    "        cell.fill.solid()\n",
    "        cell.fill.fore_color.rgb = color_yallow  # Зеленый цвет\n",
    "    else:\n",
    "        cell.fill.solid()\n",
    "        cell.fill.fore_color.rgb = color_red  # Красный цвет\n",
    "# Столбец 2\n",
    "column_index = 1\n",
    "column_name = df2.columns[column_index]\n",
    "\n",
    "# Получение соответствующего столбца из DataFrame\n",
    "column = df2[column_name]\n",
    "\n",
    "# Итерирование по значениям столбца\n",
    "for i, value in enumerate(column, start=1):\n",
    "    # Получение ячейки таблицы на текущей позиции столбца\n",
    "    cell = table2.cell(i, column_index)\n",
    "    \n",
    "    # Раскраска ячейки на основе значения из DataFrame\n",
    "    if value >= 80:\n",
    "        cell.fill.solid()\n",
    "        cell.fill.fore_color.rgb = color_green  # Зеленый цвет\n",
    "    elif 60 <= value < 80:\n",
    "        cell.fill.solid()\n",
    "        cell.fill.fore_color.rgb = color_yallow \n",
    "    else:\n",
    "        cell.fill.solid()\n",
    "        cell.fill.fore_color.rgb = color_red  # Красный цвет"
   ]
  },
  {
   "cell_type": "markdown",
   "id": "c252524c",
   "metadata": {},
   "source": [
    "##### Создаем слайд 3"
   ]
  },
  {
   "cell_type": "code",
   "execution_count": 614,
   "id": "cb2ee253",
   "metadata": {},
   "outputs": [],
   "source": [
    "# Создаем слайд 3\n",
    "# Указываем макет создаем слайд настраиваем параменты слайда\n",
    "blank_slide_layout = prs.slide_layouts[5]\n",
    "slide3 = prs.slides.add_slide(blank_slide_layout)\n",
    "slide_width = prs.slide_width\n",
    "slide_height = prs.slide_height\n",
    "slide3.slide_width = slide_width\n",
    "slide3.slide_height = slide_height\n",
    "\n",
    "# Создаем заголовок\n",
    "title_slide3 = slide3.shapes.title\n",
    "title_slide3.text = f'ПОКАЗАТЕЛИ ОРГАНИЗАЦИИ ЗАПИСИ В ОТЧЕТНОМ ПЕРИОДЕ ({period}) «ЭФФЕКТИВНОСТЬ ФОРМИРОВАНИЯ РАСПИСАНИЯ»'\n",
    "title_slide3.height = Inches(0.9)\n",
    "title_slide3.width = Inches(16)\n",
    "title_slide3.top = Inches(0.1)\n",
    "title_slide3.left = Inches(0)\n",
    "\n",
    "# Установка цвета фона заголовка\n",
    "title_slide3.fill.solid()\n",
    "title_slide3.fill.fore_color.rgb = color_title\n",
    "# Устанавливаем размер шрифта\n",
    "title_slide3.text_frame.paragraphs[0].runs[0].font.size = Pt(14)\n",
    "# Устанавливаем цвет шрифта\n",
    "title_slide3.text_frame.paragraphs[0].runs[0].font.color.rgb = color_neutral\n",
    "# Создаем макет табличной формы\n",
    "left = Inches(0.1)\n",
    "width = int(slide_width * 0.98)\n",
    "height = int (slide_height * 0.85)\n",
    "top = Inches(1.1)\n",
    "shape3 = slide3.shapes.add_table(30, 5, left, top, width, height)\n",
    "table_placeholder3 = slide3.shapes[0]\n",
    "# Создаем таблицу\n",
    "table3 = shape3.table\n",
    "# Уменьшаем отступы в ячейках таблицы\n",
    "for row in table3.rows:\n",
    "    for cell in row.cells:\n",
    "        cell.margin_top = 0\n",
    "        cell.margin_bottom = 0\n",
    "# Заполняем заголовки столбцов\n",
    "for i, column in enumerate(df3.columns):\n",
    "    table3.cell(0, i).text = column\n",
    "    cell = table3.cell(0, i)\n",
    "    cell.text_frame.clear()  # Очистка содержимого ячейки\n",
    "    cell.text_frame.auto_size = MSO_AUTO_SIZE.TEXT_TO_FIT_SHAPE  # Масштабирование текста\n",
    "    p = cell.text_frame.paragraphs[0]\n",
    "    p.text = column\n",
    "    p.alignment = PP_ALIGN.CENTER\n",
    "    p.font.size = Pt(10)\n",
    "    p.font.name = 'Calibri'\n",
    "    cell.fill.solid()\n",
    "    cell.fill.fore_color.rgb = color_header  # Задание цвета фона заголовка\n",
    "\n",
    "for i, row in enumerate(df3.itertuples(), start=1):\n",
    "    for j, value in enumerate(row[1:], start=0):\n",
    "        table3.cell(i, j).text = str(value)\n",
    "\n",
    "for i, row in enumerate(df3.itertuples(), start=1):\n",
    "    for j, value in enumerate(row[1:], start=0):\n",
    "        cell = table3.cell(i, j)\n",
    "        cell.text_frame.clear()  # Очистка содержимого ячейки\n",
    "        cell.text_frame.auto_size = MSO_AUTO_SIZE.TEXT_TO_FIT_SHAPE  # Масштабирование текста\n",
    "        cell.width = Inches(0.3)  # Ширина ячейки\n",
    "        cell.height = Inches(0.6)  # Высота ячейки\n",
    "        cell.fill.solid()\n",
    "        cell.fill.fore_color.rgb = color_neutral  # Задание цвета фона ячейки\n",
    "        p = cell.text_frame.paragraphs[0]\n",
    "        p.text = str(value)\n",
    "        p.alignment = PP_ALIGN.CENTER\n",
    "        p.font.size = Pt(10)\n",
    "        p.font.name = 'Calibri'\n",
    "\n",
    "\n",
    "# Столбец 2\n",
    "column_name = 'Занятость слотов всего (доля от общего числа созданных и количества занятых)'\n",
    "column_index = 1\n",
    "\n",
    "# Получение соответствующего столбца из DataFrame\n",
    "column = df3[column_name]\n",
    "\n",
    "# Итерирование по значениям столбца\n",
    "for i, value in enumerate(column, start=1):\n",
    "    # Получение ячейки таблицы на текущей позиции столбца\n",
    "    cell = table3.cell(i, column_index)\n",
    "    \n",
    "    # Раскраска ячейки на основе значения из DataFrame\n",
    "    if value >= 80:\n",
    "        cell.fill.solid()\n",
    "        cell.fill.fore_color.rgb = color_green  # Зеленый цвет\n",
    "    elif 50 <= value < 80:\n",
    "        cell.fill.solid()\n",
    "        cell.fill.fore_color.rgb = color_yallow  # Нейтральный цвет\n",
    "    else:\n",
    "        cell.fill.solid()\n",
    "        cell.fill.fore_color.rgb = color_red  # Красный цвет\n",
    "# Столбец 3\n",
    "column_name = 'Доля неявок от общего числа записей'\n",
    "column_index = 2\n",
    "\n",
    "# Получение соответствующего столбца из DataFrame\n",
    "column = df3[column_name]\n",
    "\n",
    "# Итерирование по значениям столбца\n",
    "for i, value in enumerate(column, start=1):\n",
    "    # Получение ячейки таблицы на текущей позиции столбца\n",
    "    cell = table3.cell(i, column_index)\n",
    "    \n",
    "    # Раскраска ячейки на основе значения из DataFrame\n",
    "    if value < 20:\n",
    "        cell.fill.solid()\n",
    "        cell.fill.fore_color.rgb = color_green  # Зеленый цвет\n",
    "    elif 20 <= value <= 30:\n",
    "        cell.fill.solid()\n",
    "        cell.fill.fore_color.rgb = color_yallow  # Нейтральный цвет\n",
    "    else:\n",
    "        cell.fill.solid()\n",
    "        cell.fill.fore_color.rgb = color_red  # Красный цвет\n",
    "\n",
    "\n",
    "# Столбец 4\n",
    "column_name = 'Доля пациентов, принятых без предварительной записи'\n",
    "column_index = 3\n",
    "\n",
    "# Получение соответствующего столбца из DataFrame\n",
    "column = df3[column_name]\n",
    "\n",
    "# Итерирование по значениям столбца\n",
    "for i, value in enumerate(column, start=1):\n",
    "    # Получение ячейки таблицы на текущей позиции столбца\n",
    "    cell = table3.cell(i, column_index)\n",
    "    \n",
    "    # Раскраска ячейки на основе значения из DataFrame\n",
    "    if value < 20:\n",
    "        cell.fill.solid()\n",
    "        cell.fill.fore_color.rgb = color_green  # Зеленый цвет\n",
    "    elif 20 <= value <= 30:\n",
    "        cell.fill.solid()\n",
    "        cell.fill.fore_color.rgb = color_yallow  # Нейтральный цвет\n",
    "    else:\n",
    "        cell.fill.solid()\n",
    "        cell.fill.fore_color.rgb = color_red  # Красный цвет\n",
    "\n",
    "\n",
    "# Столбец 5\n",
    "column_name = 'Доля посещений на дому'\n",
    "column_index = 4\n",
    "\n",
    "# Получение соответствующего столбца из DataFrame\n",
    "column = df3[column_name]\n",
    "\n",
    "# Итерирование по значениям столбца\n",
    "for i, value in enumerate(column, start=1):\n",
    "    # Получение ячейки таблицы на текущей позиции столбца\n",
    "    cell = table3.cell(i, column_index)\n",
    "    \n",
    "    # Раскраска ячейки на основе значения из DataFrame\n",
    "    if value == 0:\n",
    "        cell.fill.solid()\n",
    "        cell.fill.fore_color.rgb = color_yallow  # Нейтральный цвет\n",
    "    else:\n",
    "        cell.fill.solid()\n",
    "        cell.fill.fore_color.rgb = color_red  # Красный цвет"
   ]
  },
  {
   "cell_type": "code",
   "execution_count": 615,
   "id": "94791fe4",
   "metadata": {},
   "outputs": [],
   "source": [
    "df4 = df4[df4['Наименование МО'] != 0]"
   ]
  },
  {
   "cell_type": "markdown",
   "id": "195ddd1a",
   "metadata": {},
   "source": [
    "##### Создаем 4 слайд"
   ]
  },
  {
   "cell_type": "code",
   "execution_count": 616,
   "id": "f89e0001",
   "metadata": {},
   "outputs": [],
   "source": [
    "# Создаем 4 слайд\n",
    "# Указываем макет создаем слайд настраиваем параменты слайда\n",
    "blank_slide_layout = prs.slide_layouts[5]\n",
    "slide4 = prs.slides.add_slide(blank_slide_layout)\n",
    "\n",
    "slide_width = prs.slide_width\n",
    "slide_height = prs.slide_height\n",
    "\n",
    "slide4.slide_width = slide_width\n",
    "slide4.slide_height = slide_height\n",
    "\n",
    "# Создаем заголовок\n",
    "title_slide4 = slide4.shapes.title\n",
    "title_slide4.text = f'ЭФФЕКТИВНОСТЬ ОРГАНИЗАЦИИ ОБРАБОТКИ И РЕГИСТРАЦИИ ИНФОРМАЦИИ ОБ ОБРАЩЕНИЯХ ЗАПИСИ ОБРАТНАЯ СВЯЗЬ ПО ЗАПИСИ В ОТЧЕТНОМ ПЕРИОДЕ ({period})'\n",
    "title_slide4.height = Inches(0.9)\n",
    "title_slide4.width = Inches(16)\n",
    "title_slide4.top = Inches(0.1)\n",
    "title_slide4.left = Inches(0)\n",
    "\n",
    "# Установка цвета фона заголовка\n",
    "title_slide4.fill.solid()\n",
    "title_slide4.fill.fore_color.rgb = color_title\n",
    "# Устанавливаем размер шрифта\n",
    "title_slide4.text_frame.paragraphs[0].runs[0].font.size = Pt(14)\n",
    "# Устанавливаем цвет шрифта\n",
    "title_slide4.text_frame.paragraphs[0].runs[0].font.color.rgb = color_neutral\n",
    "# Создаем макет табличной формы\n",
    "left = Inches(0)\n",
    "width = int(slide_width)\n",
    "height = int (slide_height * 0.8)\n",
    "top = Inches(1.1)\n",
    "shape4 = slide4.shapes.add_table(30, 6, left, top, width, height)\n",
    "table_placeholder4 = slide4.shapes[0]\n",
    "# Создаем таблицу\n",
    "table4 = shape4.table\n",
    "# Уменьшаем отступы в ячейках таблицы\n",
    "for row in table4.rows:\n",
    "    for cell in row.cells:\n",
    "        cell.margin_top = 0\n",
    "        cell.margin_bottom = 0\n",
    "# Заполняем заголовки столбцов\n",
    "for i, column in enumerate(df4.columns):\n",
    "    table4.cell(0, i).text = column\n",
    "    cell = table4.cell(0, i)\n",
    "    cell.text_frame.clear()  # Очистка содержимого ячейки\n",
    "    cell.text_frame.auto_size = MSO_AUTO_SIZE.TEXT_TO_FIT_SHAPE  # Масштабирование текста\n",
    "    p = cell.text_frame.paragraphs[0]\n",
    "    p.text = column\n",
    "    p.alignment = PP_ALIGN.CENTER\n",
    "    p.font.size = Pt(12)\n",
    "    p.font.name = 'Calibri'\n",
    "    cell.fill.solid()\n",
    "    cell.fill.fore_color.rgb = color_header  # Задание цвета фона ячейки заголовка\n",
    "\n",
    "for i, row in enumerate(df4.itertuples(), start=1):\n",
    "    for j, value in enumerate(row[1:], start=0):\n",
    "        table4.cell(i, j).text = str(value)\n",
    "\n",
    "for i, row in enumerate(df4.itertuples(), start=1):\n",
    "    for j, value in enumerate(row[1:], start=0):\n",
    "        cell = table4.cell(i, j)\n",
    "        cell.text_frame.clear()  # Очистка содержимого ячейки\n",
    "        cell.text_frame.auto_size = MSO_AUTO_SIZE.TEXT_TO_FIT_SHAPE  # Масштабирование текста\n",
    "        cell.width = Inches(0.3)  # Ширина ячейки\n",
    "        cell.height = Inches(0.6)  # Высота ячейки\n",
    "        cell.fill.solid()\n",
    "        cell.fill.fore_color.rgb = color_neutral  # Задание цвета фона ячейки\n",
    "        p = cell.text_frame.paragraphs[0]\n",
    "        p.text = str(value)\n",
    "        p.alignment = PP_ALIGN.CENTER\n",
    "        p.font.size = Pt(10)\n",
    "        p.font.name = 'Calibri'\n",
    "\n",
    "\n"
   ]
  },
  {
   "cell_type": "code",
   "execution_count": 617,
   "id": "322f7aee",
   "metadata": {},
   "outputs": [],
   "source": [
    "# Имя столбца для итерации\n",
    "column_name = 'Движение лиц в листе ожидания'\n",
    "\n",
    "column_index = 5\n",
    "\n",
    "# Получение соответствующего столбца из DataFrame\n",
    "column = df4[column_name]\n",
    "\n",
    "# Итерирование по значениям столбца\n",
    "for i, value in enumerate(column, start=1):\n",
    "    # Получение ячейки таблицы на текущей позиции столбца\n",
    "    cell = table4.cell(i, column_index)\n",
    "    \n",
    "    # Раскраска ячейки на основе значения из DataFrame\n",
    "    if value <= 0:\n",
    "        cell.fill.solid()\n",
    "        cell.fill.fore_color.rgb = color_green  # Зеленый цвет\n",
    "    else:\n",
    "        cell.fill.solid()\n",
    "        cell.fill.fore_color.rgb = color_red  # Красный цвет"
   ]
  },
  {
   "cell_type": "code",
   "execution_count": 618,
   "id": "1174f1f0",
   "metadata": {},
   "outputs": [],
   "source": [
    "# Имя столбца для итерации\n",
    "column_name = 'Доля лиц, включенных в лист ожидания от общего количества конкурентной записи'\n",
    "\n",
    "column_index = 4\n",
    "\n",
    "# Получение соответствующего столбца из DataFrame\n",
    "column = df4[column_name]\n",
    "\n",
    "# Итерирование по значениям столбца\n",
    "for i, value in enumerate(column, start=1):\n",
    "    # Получение ячейки таблицы на текущей позиции столбца\n",
    "    cell = table4.cell(i, column_index)\n",
    "    \n",
    "    # Раскраска ячейки на основе значения из DataFrame\n",
    "    if value < 1:\n",
    "        cell.fill.solid()\n",
    "        cell.fill.fore_color.rgb = color_green  # Зеленый цвет\n",
    "    elif value >= 1 <= 5:\n",
    "        cell.fill.solid()\n",
    "        cell.fill.fore_color.rgb = color_yallow # Зеленый цвет\n",
    "    else:\n",
    "        cell.fill.solid()\n",
    "        cell.fill.fore_color.rgb = color_red  # Красный цвет"
   ]
  },
  {
   "cell_type": "markdown",
   "id": "d32bbf7e",
   "metadata": {},
   "source": [
    "##### Создаем пятый слайд"
   ]
  },
  {
   "cell_type": "code",
   "execution_count": 619,
   "id": "12fd9ce5",
   "metadata": {},
   "outputs": [],
   "source": [
    "# Создаем пятый слайд\n",
    "blank_slide_layout = prs.slide_layouts[5]\n",
    "slide5 = prs.slides.add_slide(blank_slide_layout)\n",
    "slide_width = prs.slide_width\n",
    "slide_height = prs.slide_height\n",
    "slide5.slide_width = slide_width\n",
    "slide5.slide_height = slide_height\n",
    "# Создаем заголовок\n",
    "title_slide5 = slide5.shapes.title\n",
    "title_slide5.text = f'СРЕДНЯЯ ДЛИТЕЛЬНОСТЬ ОЖИДАНИЯ (кол-во дней) В ОТЧЕТНОМ ПЕРИОДЕ ({period})'\n",
    "title_slide5.height = Inches(0.6)\n",
    "title_slide5.width = Inches(16)\n",
    "title_slide5.top = Inches(0.1)\n",
    "title_slide5.left = Inches(0)\n",
    "# Установка цвета фона заголовка\n",
    "title_slide5.fill.solid()\n",
    "title_slide5.fill.fore_color.rgb = color_title\n",
    "# Устанавливаем размер шрифта\n",
    "title_slide5.text_frame.paragraphs[0].runs[0].font.size = Pt(14)\n",
    "# Устанавливаем цвет шрифта\n",
    "title_slide5.text_frame.paragraphs[0].runs[0].font.color.rgb = color_neutral \n",
    "# Создаем макет табличной формы\n",
    "left = Inches(0.5)\n",
    "width = int(slide_width * 0.8)\n",
    "height = int(slide_height * 0.8)\n",
    "top = Inches(0.7)\n",
    "shape5 = slide5.shapes.add_table(30, 17, left, top, width, height)\n",
    "table_placeholder5 = slide5.shapes[0]\n",
    "# Создаем таблицу\n",
    "table5 = shape5.table\n",
    "# Уменьшаем отступы в ячейках таблицы\n",
    "for row in table5.rows:\n",
    "    for cell in row.cells:\n",
    "        cell.margin_top = 0\n",
    "        cell.margin_bottom = 0\n",
    "# Заполняем заголовки столбцов\n",
    "for i, column in enumerate(df5.columns):\n",
    "    table5.cell(0, i).text = column\n",
    "    cell = table5.cell(0, i)\n",
    "    cell.text_frame.clear()  # Очистка содержимого ячейки\n",
    "    cell.text_frame.auto_size = MSO_AUTO_SIZE.TEXT_TO_FIT_SHAPE  # Масштабирование текста\n",
    "    p = cell.text_frame.paragraphs[0]\n",
    "    p.text = column\n",
    "    p.alignment = PP_ALIGN.CENTER\n",
    "    p.font.size = Pt(10)\n",
    "    p.font.name = 'Calibri'\n",
    "    cell.fill.solid()\n",
    "    cell.fill.fore_color.rgb = color_header  # Задание цвета фона ячейки\n",
    "\n",
    "for i, row in enumerate(df5.itertuples(), start=1):\n",
    "    for j, value in enumerate(row[1:], start=0):\n",
    "        table5.cell(i, j).text = str(value)\n",
    "\n",
    "for i, row in enumerate(df5.itertuples(), start=1):\n",
    "    for j, value in enumerate(row[1:], start=0):\n",
    "        cell = table5.cell(i, j)\n",
    "        cell.text_frame.clear()  # Очистка содержимого ячейки\n",
    "        cell.text_frame.auto_size = MSO_AUTO_SIZE.TEXT_TO_FIT_SHAPE  # Масштабирование текста\n",
    "        cell.width = int(slide_width * 0.05)  # Ширина ячейки\n",
    "        cell.height = int(slide_height * 0.02)  # Высота ячейки\n",
    "        cell.fill.solid()\n",
    "        cell.fill.fore_color.rgb = color_neutral  # Задание цвета фона ячейки\n",
    "        p = cell.text_frame.paragraphs[0]\n",
    "        p.text = str(value)\n",
    "        p.alignment = PP_ALIGN.CENTER\n",
    "        p.font.size = Pt(9)\n",
    "        p.font.name = 'Calibri'\n",
    "\n",
    "# Итерация по ячейкам таблицы и раскраска по условию\n",
    "for row in table5.rows:\n",
    "    for cell in row.cells:\n",
    "        # Условие для раскраски ячеек в красный цвет, если значение ячейки равно \"НДЗ\"\n",
    "        if cell.text == \"НДЗ\":\n",
    "            fill = cell.fill\n",
    "            fill.solid()\n",
    "            fill.fore_color.rgb = color_red  # Красный цвет\n",
    "\n",
    "# Получаем объект столбца по его номеру\n",
    "table5.columns[0].width = Inches(2)\n",
    "\n",
    "exception_list_1 = ['0.0', '1.0', '-']\n",
    "exception_list_2 = ['0.0', '1.0', '2.0', '3.0', '4.0', '5.0', '6.0', '7.0', '8.0', '9.0', '10.0', '11.0', '12.0', '13.0', '14.0','-']\n",
    "# ###### Раскраска по столбцам\n",
    "# Столбец 1\n",
    "column_name = 'врач общей практики (семейный врач)'\n",
    "column_index = 1\n",
    "\n",
    "# Получение соответствующего столбца из DataFrame\n",
    "column = df5[column_name]\n",
    "\n",
    "# Итерирование по значениям столбца\n",
    "for i, value in enumerate(column, start=1):\n",
    "    # Получение ячейки таблицы на текущей позиции столбца\n",
    "    cell = table5.cell(i, column_index)\n",
    "    \n",
    "    # Раскраска ячейки на основе значения из DataFrame\n",
    "    if value not in exception_list_1:\n",
    "        cell.fill.solid()\n",
    "        cell.fill.fore_color.rgb = color_red\n",
    "    else:\n",
    "        cell.fill.solid()\n",
    "        cell.fill.fore_color.rgb = color_neutral\n"
   ]
  },
  {
   "cell_type": "code",
   "execution_count": 620,
   "id": "900015af",
   "metadata": {},
   "outputs": [],
   "source": [
    "\n",
    "# Столбец 2\n",
    "column_name = 'врач-акушер-гинеколог'\n",
    "\n",
    "column_index = 2\n",
    "\n",
    "# Получение соответствующего столбца из DataFrame\n",
    "column = df5[column_name]\n",
    "\n",
    "# Итерирование по значениям столбца\n",
    "for i, value in enumerate(column, start=1):\n",
    "    # Получение ячейки таблицы на текущей позиции столбца\n",
    "    cell = table5.cell(i, column_index)\n",
    "    \n",
    "    # Раскраска ячейки на основе значения из DataFrame\n",
    "    if value not in exception_list_2:\n",
    "        cell.fill.solid()\n",
    "        cell.fill.fore_color.rgb = color_red\n",
    "    else:\n",
    "        cell.fill.solid()\n",
    "        cell.fill.fore_color.rgb = color_neutral\n",
    "\n",
    "# Столбец 3\n",
    "column_name = 'врач-оториноларинголог'\n",
    "\n",
    "column_index = 3\n",
    "\n",
    "# Получение соответствующего столбца из DataFrame\n",
    "column = df5[column_name]\n",
    "\n",
    "# Итерирование по значениям столбца\n",
    "for i, value in enumerate(column, start=1):\n",
    "    # Получение ячейки таблицы на текущей позиции столбца\n",
    "    cell = table5.cell(i, column_index)\n",
    "    \n",
    "    # Раскраска ячейки на основе значения из DataFrame\n",
    "    if value not in exception_list_2:\n",
    "        cell.fill.solid()\n",
    "        cell.fill.fore_color.rgb = color_red\n",
    "    else:\n",
    "        cell.fill.solid()\n",
    "        cell.fill.fore_color.rgb = color_neutral\n",
    "\n",
    "# Столбец 4\n",
    "column_name = 'врач-офтальмолог'\n",
    "column_index = 4\n",
    "\n",
    "# Получение соответствующего столбца из DataFrame\n",
    "column = df5[column_name]\n",
    "\n",
    "# Итерирование по значениям столбца\n",
    "for i, value in enumerate(column, start=1):\n",
    "    # Получение ячейки таблицы на текущей позиции столбца\n",
    "    cell = table5.cell(i, column_index)\n",
    "    \n",
    "    # Раскраска ячейки на основе значения из DataFrame\n",
    "    if value not in exception_list_2:\n",
    "        cell.fill.solid()\n",
    "        cell.fill.fore_color.rgb = color_red\n",
    "    else:\n",
    "        cell.fill.solid()\n",
    "        cell.fill.fore_color.rgb = color_neutral\n",
    "\n",
    "# Столбец 5\n",
    "column_name = 'врач-педиатр участковый'\n",
    "column_index = 5\n",
    "\n",
    "# Получение соответствующего столбца из DataFrame\n",
    "column = df5[column_name]\n",
    "\n",
    "# Итерирование по значениям столбца\n",
    "for i, value in enumerate(column, start=1):\n",
    "    # Получение ячейки таблицы на текущей позиции столбца\n",
    "    cell = table5.cell(i, column_index)\n",
    "    \n",
    "    # Раскраска ячейки на основе значения из DataFrame\n",
    "    if value not in exception_list_1:\n",
    "        cell.fill.solid()\n",
    "        cell.fill.fore_color.rgb = color_red\n",
    "    else:\n",
    "        cell.fill.solid()\n",
    "        cell.fill.fore_color.rgb = color_neutral\n",
    "\n",
    "# Столбец 6\n",
    "column_name = 'врач-психиатр-нарколог'\n",
    "column_index = 6\n",
    "\n",
    "# Получение соответствующего столбца из DataFrame\n",
    "column = df5[column_name]\n",
    "\n",
    "# Итерирование по значениям столбца\n",
    "for i, value in enumerate(column, start=1):\n",
    "    # Получение ячейки таблицы на текущей позиции столбца\n",
    "    cell = table5.cell(i, column_index)\n",
    "    \n",
    "    # Раскраска ячейки на основе значения из DataFrame\n",
    "    if value not in exception_list_2:\n",
    "        cell.fill.solid()\n",
    "        cell.fill.fore_color.rgb = color_red\n",
    "    else:\n",
    "        cell.fill.solid()\n",
    "        cell.fill.fore_color.rgb = color_neutral\n",
    "\n",
    "# Столбец 7\n",
    "column_name = 'врач-стоматолог'\n",
    "column_index = 7\n",
    "\n",
    "# Получение соответствующего столбца из DataFrame\n",
    "column = df5[column_name]\n",
    "\n",
    "# Итерирование по значениям столбца\n",
    "for i, value in enumerate(column, start=1):\n",
    "    # Получение ячейки таблицы на текущей позиции столбца\n",
    "    cell = table5.cell(i, column_index)\n",
    "    \n",
    "    # Раскраска ячейки на основе значения из DataFrame\n",
    "    if value not in exception_list_2:\n",
    "        cell.fill.solid()\n",
    "        cell.fill.fore_color.rgb = color_red\n",
    "    else:\n",
    "        cell.fill.solid()\n",
    "        cell.fill.fore_color.rgb = color_neutral\n",
    "\n",
    "# Столбец 8\n",
    "column_name = 'врач-терапевт участковый'\n",
    "column_index = 8\n",
    "\n",
    "# Получение соответствующего столбца из DataFrame\n",
    "column = df5[column_name]\n",
    "\n",
    "# Итерирование по значениям столбца\n",
    "for i, value in enumerate(column, start=1):\n",
    "    # Получение ячейки таблицы на текущей позиции столбца\n",
    "    cell = table5.cell(i, column_index)\n",
    "    \n",
    "    # Раскраска ячейки на основе значения из DataFrame\n",
    "    if value not in exception_list_1:\n",
    "        cell.fill.solid()\n",
    "        cell.fill.fore_color.rgb = color_red\n",
    "    else:\n",
    "        cell.fill.solid()\n",
    "        cell.fill.fore_color.rgb = color_neutral\n",
    "\n",
    "# Столбец 9\n",
    "column_name = 'врач-фтизиатр участковый'\n",
    "column_index = 9\n",
    "\n",
    "# Получение соответствующего столбца из DataFrame\n",
    "column = df5[column_name]\n",
    "\n",
    "# Итерирование по значениям столбца\n",
    "for i, value in enumerate(column, start=1):\n",
    "    # Получение ячейки таблицы на текущей позиции столбца\n",
    "    cell = table5.cell(i, column_index)\n",
    "    \n",
    "    # Раскраска ячейки на основе значения из DataFrame\n",
    "    if value not in exception_list_2:\n",
    "        cell.fill.solid()\n",
    "        cell.fill.fore_color.rgb = color_red\n",
    "    else:\n",
    "        cell.fill.solid()\n",
    "        cell.fill.fore_color.rgb = color_neutral\n",
    "\n",
    "# Столбец 10\n",
    "column_name = 'врач-фтизиатр'\n",
    "column_index = 10\n",
    "\n",
    "# Получение соответствующего столбца из DataFrame\n",
    "column = df5[column_name]\n",
    "\n",
    "# Итерирование по значениям столбца\n",
    "for i, value in enumerate(column, start=1):\n",
    "    # Получение ячейки таблицы на текущей позиции столбца\n",
    "    cell = table5.cell(i, column_index)\n",
    "    \n",
    "    # Раскраска ячейки на основе значения из DataFrame\n",
    "    if value not in exception_list_2:\n",
    "        cell.fill.solid()\n",
    "        cell.fill.fore_color.rgb = color_red\n",
    "    else:\n",
    "        cell.fill.solid()\n",
    "        cell.fill.fore_color.rgb = color_neutral\n",
    "\n",
    "# Столбец 11\n",
    "column_name = 'врач-хирург'\n",
    "column_index = 11\n",
    "\n",
    "# Получение соответствующего столбца из DataFrame\n",
    "column = df5[column_name]\n",
    "\n",
    "# Итерирование по значениям столбца\n",
    "for i, value in enumerate(column, start=1):\n",
    "    # Получение ячейки таблицы на текущей позиции столбца\n",
    "    cell = table5.cell(i, column_index)\n",
    "    \n",
    "    # Раскраска ячейки на основе значения из DataFrame\n",
    "    if value not in exception_list_2:\n",
    "        cell.fill.solid()\n",
    "        cell.fill.fore_color.rgb = color_red\n",
    "    else:\n",
    "        cell.fill.solid()\n",
    "        cell.fill.fore_color.rgb = color_neutral\n",
    "\n",
    "# Столбец 12\n",
    "column_name = 'врач - детский хирург'\n",
    "column_index = 12\n",
    "\n",
    "# Получение соответствующего столбца из DataFrame\n",
    "column = df5[column_name]\n",
    "\n",
    "# Итерирование по значениям столбца\n",
    "for i, value in enumerate(column, start=1):\n",
    "    # Получение ячейки таблицы на текущей позиции столбца\n",
    "    cell = table5.cell(i, column_index)\n",
    "    \n",
    "    # Раскраска ячейки на основе значения из DataFrame\n",
    "    if value not in exception_list_2:\n",
    "        cell.fill.solid()\n",
    "        cell.fill.fore_color.rgb = color_red\n",
    "    else:\n",
    "        cell.fill.solid()\n",
    "        cell.fill.fore_color.rgb = color_neutral\n",
    "\n",
    "# Столбец 13\n",
    "column_name = 'врач-стоматолог-терапевт'\n",
    "column_index = 13\n",
    "\n",
    "# Получение соответствующего столбца из DataFrame\n",
    "column = df5[column_name]\n",
    "\n",
    "# Итерирование по значениям столбца\n",
    "for i, value in enumerate(column, start=1):\n",
    "    # Получение ячейки таблицы на текущей позиции столбца\n",
    "    cell = table5.cell(i, column_index)\n",
    "    \n",
    "    # Раскраска ячейки на основе значения из DataFrame\n",
    "    if value not in exception_list_2:\n",
    "        cell.fill.solid()\n",
    "        cell.fill.fore_color.rgb = color_red\n",
    "    else:\n",
    "        cell.fill.solid()\n",
    "        cell.fill.fore_color.rgb = color_neutral\n",
    "\n",
    "# Столбец 14\n",
    "column_name = 'врач-стоматолог детский'\n",
    "column_index = 14\n",
    "\n",
    "# Получение соответствующего столбца из DataFrame\n",
    "column = df5[column_name]\n",
    "\n",
    "# Итерирование по значениям столбца\n",
    "for i, value in enumerate(column, start=1):\n",
    "    # Получение ячейки таблицы на текущей позиции столбца\n",
    "    cell = table5.cell(i, column_index)\n",
    "    \n",
    "    # Раскраска ячейки на основе значения из DataFrame\n",
    "    if value not in exception_list_2:\n",
    "        cell.fill.solid()\n",
    "        cell.fill.fore_color.rgb = color_red\n",
    "    else:\n",
    "        cell.fill.solid()\n",
    "        cell.fill.fore_color.rgb = color_neutral\n",
    "\n",
    "\n",
    "# Столбец 15\n",
    "column_name = 'врач-психиатр детский'\n",
    "column_index = 15\n",
    "\n",
    "# Получение соответствующего столбца из DataFrame\n",
    "column = df5[column_name]\n",
    "\n",
    "# Итерирование по значениям столбца\n",
    "for i, value in enumerate(column, start=1):\n",
    "    # Получение ячейки таблицы на текущей позиции столбца\n",
    "    cell = table5.cell(i, column_index)\n",
    "    \n",
    "    # Раскраска ячейки на основе значения из DataFrame\n",
    "    if value not in exception_list_2:\n",
    "        cell.fill.solid()\n",
    "        cell.fill.fore_color.rgb = color_red\n",
    "    else:\n",
    "        cell.fill.solid()\n",
    "        cell.fill.fore_color.rgb = color_neutral\n",
    "\n",
    "# Столбец 16\n",
    "column_name = 'врач-психиатр детский участковый'\n",
    "column_index = 16\n",
    "\n",
    "# Получение соответствующего столбца из DataFrame\n",
    "column = df5[column_name]\n",
    "\n",
    "# Итерирование по значениям столбца\n",
    "for i, value in enumerate(column, start=1):\n",
    "    # Получение ячейки таблицы на текущей позиции столбца\n",
    "    cell = table5.cell(i, column_index)\n",
    "    \n",
    "    # Раскраска ячейки на основе значения из DataFrame\n",
    "    if value not in exception_list_2:\n",
    "        cell.fill.solid()\n",
    "        cell.fill.fore_color.rgb = color_red\n",
    "    else:\n",
    "        cell.fill.solid()\n",
    "        cell.fill.fore_color.rgb = color_neutral"
   ]
  },
  {
   "cell_type": "markdown",
   "id": "16ec3eb2",
   "metadata": {},
   "source": [
    "##### Формируем колонки 6 слайда"
   ]
  },
  {
   "cell_type": "code",
   "execution_count": 621,
   "id": "b208713b",
   "metadata": {},
   "outputs": [],
   "source": [
    "# Формируем колонки 6 слайда\n",
    "sequence_mo3 = sequence_mo2.copy()\n",
    "sequence_mo3.loc[len(sequence_mo3)] = 'Итого'\n",
    "slide_6_column1 = df[['Наименование МО', 'Доля физ. лиц с расписанием от общего количества физ лиц за минусом находящихся в отпуске по беременности и родам и по уходу за ребенком']]\n",
    "slide_6_column1 = pd.merge(sequence_mo3, slide_6_column1, how='left', on='Наименование МО')\n",
    "slide_6_column2 = itog_slots\n",
    "slide_6_column2.rename(columns={'Организация': 'Наименование МО'}, inplace=True)\n",
    "slide_6_column2 = pd.merge(sequence_mo3, slide_6_column2, how='left', on='Наименование МО')\n",
    "slide_6_column3 = df2[['Наименование МО', 'Доля конкурентных слотов от общего количества слотов, не менее 65%']]\n",
    "slide_6_column4 = result_slide3[['Наименование МО', 'Занятость слотов всего (доля от общего числа созданных и количества занятых)']]\n",
    "slide_6_column4 = pd.merge(sequence_mo3, slide_6_column4, how='left', on='Наименование МО')\n",
    "slide_6_column5 = result_slide3[['Наименование МО', \n",
    "                                 'Доля пациентов, принятых без предварительной записи']]\n",
    "slide_6_column5 = pd.merge(sequence_mo3, slide_6_column5, how='left', on='Наименование МО')\n",
    "slide_6_column6 = result_slide4[['Наименование МО', 'Движение лиц в листе ожидания']]\n",
    "slide_6_column6 = pd.merge(sequence_mo3, slide_6_column6, how='left', on='Наименование МО')\n",
    "# Агрегируем данные по колонкам\n",
    "slide_6_all = [slide_6_column1, \n",
    "               slide_6_column2, \n",
    "               slide_6_column3, \n",
    "               slide_6_column4, \n",
    "               slide_6_column5, \n",
    "               slide_6_column6]\n",
    "df6 = reduce(lambda left, right: pd.merge(left,right,on=['Наименование МО'], how='outer'), slide_6_all)"
   ]
  },
  {
   "cell_type": "markdown",
   "id": "199e80c1",
   "metadata": {},
   "source": [
    "##### Создаем шестой слайд"
   ]
  },
  {
   "cell_type": "code",
   "execution_count": 622,
   "id": "8a7ece44",
   "metadata": {},
   "outputs": [],
   "source": [
    "#Создаем шестой слайд\n",
    "\n",
    "# Указываем макет создаем слайд настраиваем параменты слайда\n",
    "\n",
    "blank_slide_layout = prs.slide_layouts[5]\n",
    "slide6 = prs.slides.add_slide(blank_slide_layout)\n",
    "slide_width = prs.slide_width\n",
    "slide_height = prs.slide_height\n",
    "slide6.slide_width = slide_width\n",
    "slide6.slide_height = slide_height\n",
    "# Создаем заголовок\n",
    "\n",
    "title_slide6 = slide6.shapes.title\n",
    "\n",
    "title_slide6.text = 'СИСТЕМА КОНТРОЛЯ - РАБОТА С ВЫРАВНИВАНИЕМ ПОКАЗАТЕЛЕЙ'\n",
    "title_slide6.height = Inches(0.6)\n",
    "title_slide6.width = Inches(16)\n",
    "title_slide6.top = Inches(0.1)\n",
    "title_slide6.left = Inches(0)\n",
    "# Установка цвета фона заголовка\n",
    "title_slide6.fill.solid()\n",
    "title_slide6.fill.fore_color.rgb = color_title\n",
    "# Устанавливаем размер шрифта\n",
    "title_slide6.text_frame.paragraphs[0].runs[0].font.size = Pt(12)\n",
    "# Устанавливаем цвет шрифта\n",
    "title_slide6.text_frame.paragraphs[0].runs[0].font.color.rgb = color_neutral \n",
    "# Создаем макет табличной формы\n",
    "left = Inches(0.5)\n",
    "width = int(slide_width * 0.8)\n",
    "height = int(slide_height * 0.8)\n",
    "top = Inches(0.7)\n",
    "shape6 = slide6.shapes.add_table(30, 7, left, top, width, height)\n",
    "table_placeholder6 = slide6.shapes[0]\n",
    "# Создаем таблицу\n",
    "table6 = shape6.table\n",
    "# Уменьшаем отступы в ячейках таблицы\n",
    "for row in table6.rows:\n",
    "    for cell in row.cells:\n",
    "        cell.margin_top = 0\n",
    "        cell.margin_bottom = 0\n",
    "# Заполняем заголовки столбцов\n",
    "for i, column in enumerate(df6.columns):\n",
    "    table6.cell(0, i).text = column\n",
    "    cell = table6.cell(0, i)\n",
    "    cell.text_frame.clear()  # Очистка содержимого ячейки\n",
    "    cell.text_frame.auto_size = MSO_AUTO_SIZE.TEXT_TO_FIT_SHAPE  # Масштабирование текста\n",
    "    p = cell.text_frame.paragraphs[0]\n",
    "    p.text = column\n",
    "    p.alignment = PP_ALIGN.CENTER\n",
    "    p.font.size = Pt(10)\n",
    "    p.font.name = 'Calibri'\n",
    "    cell.fill.solid()\n",
    "    cell.fill.fore_color.rgb = color_header  # Задание цвета фона ячейки\n",
    "\n",
    "for i, row in enumerate(df6.itertuples(), start=1):\n",
    "    for j, value in enumerate(row[1:], start=0):\n",
    "        table6.cell(i, j).text = str(value)\n",
    "\n",
    "for i, row in enumerate(df6.itertuples(), start=1):\n",
    "    for j, value in enumerate(row[1:], start=0):\n",
    "        cell = table6.cell(i, j)\n",
    "        cell.text_frame.clear()  # Очистка содержимого ячейки\n",
    "        cell.text_frame.auto_size = MSO_AUTO_SIZE.TEXT_TO_FIT_SHAPE  # Масштабирование текста\n",
    "        cell.width = int(slide_width * 0.05)  # Ширина ячейки\n",
    "        cell.height = int(slide_height * 0.02)  # Высота ячейки\n",
    "        cell.fill.solid()\n",
    "        cell.fill.fore_color.rgb = color_neutral  # Задание цвета фона ячейки\n",
    "        p = cell.text_frame.paragraphs[0]\n",
    "        p.text = str(value)\n",
    "        p.alignment = PP_ALIGN.CENTER\n",
    "        p.font.size = Pt(9)\n",
    "        p.font.name = 'Calibri'\n",
    "\n",
    "# Слайд 1 Столбец 1\n",
    "column_index = 1\n",
    "column_name = df6.columns[column_index]\n",
    "# Получение соответствующего столбца из DataFrame\n",
    "column = df6[column_name]\n",
    "# Итерирование по значениям столбца\n",
    "for i, value in enumerate(column, start=1):\n",
    "    # Получение ячейки таблицы на текущей позиции столбца\n",
    "    cell = table6.cell(i, column_index)\n",
    "    # Раскраска ячейки на основе значения из DataFrame\n",
    "    if value >= 100:\n",
    "        cell.fill.solid()\n",
    "        cell.fill.fore_color.rgb = color_green  \n",
    "    elif 80 <= value < 100:\n",
    "        cell.fill.solid()\n",
    "        cell.fill.fore_color.rgb = color_yallow  \n",
    "    else:\n",
    "        cell.fill.solid()\n",
    "        cell.fill.fore_color.rgb = color_red\n",
    "\n",
    "# Слайд 1 Столбец 2\n",
    "column_index = 2\n",
    "column_name = df6.columns[column_index]\n",
    "# Получение соответствующего столбца из DataFrame\n",
    "column = df6[column_name]\n",
    "# Итерирование по значениям столбца\n",
    "for i, value in enumerate(column, start=1):\n",
    "    # Получение ячейки таблицы на текущей позиции столбца\n",
    "    cell = table6.cell(i, column_index)\n",
    "    # Раскраска ячейки на основе значения из DataFrame\n",
    "    if value >= 80:\n",
    "        cell.fill.solid()\n",
    "        cell.fill.fore_color.rgb = color_green  \n",
    "    elif 60 <= value < 80:\n",
    "        cell.fill.solid()\n",
    "        cell.fill.fore_color.rgb = color_yallow  \n",
    "    else:\n",
    "        cell.fill.solid()\n",
    "        cell.fill.fore_color.rgb = color_red\n",
    "\n",
    "# Слайд 1 Столбец 3\n",
    "column_index = 3\n",
    "column_name = df6.columns[column_index]\n",
    "# Получение соответствующего столбца из DataFrame\n",
    "column = df6[column_name]\n",
    "# Итерирование по значениям столбца\n",
    "for i, value in enumerate(column, start=1):\n",
    "    # Получение ячейки таблицы на текущей позиции столбца\n",
    "    cell = table6.cell(i, column_index)\n",
    "    # Раскраска ячейки на основе значения из DataFrame\n",
    "    if value >= 65:\n",
    "        cell.fill.solid()\n",
    "        cell.fill.fore_color.rgb = color_green  \n",
    "    elif 60 <= value < 65:\n",
    "        cell.fill.solid()\n",
    "        cell.fill.fore_color.rgb = color_yallow  \n",
    "    else:\n",
    "        cell.fill.solid()\n",
    "        cell.fill.fore_color.rgb = color_red\n",
    "\n",
    "# Слайд 1 Столбец 4\n",
    "column_index = 4\n",
    "column_name = df6.columns[column_index]\n",
    "# Получение соответствующего столбца из DataFrame\n",
    "column = df6[column_name]\n",
    "# Итерирование по значениям столбца\n",
    "for i, value in enumerate(column, start=1):\n",
    "    # Получение ячейки таблицы на текущей позиции столбца\n",
    "    cell = table6.cell(i, column_index)\n",
    "    # Раскраска ячейки на основе значения из DataFrame\n",
    "    if value >= 80:\n",
    "        cell.fill.solid()\n",
    "        cell.fill.fore_color.rgb = color_green  \n",
    "    elif 50 <= value < 80:\n",
    "        cell.fill.solid()\n",
    "        cell.fill.fore_color.rgb = color_yallow  \n",
    "    else:\n",
    "        cell.fill.solid()\n",
    "        cell.fill.fore_color.rgb = color_red\n",
    "\n",
    "# Слайд 1 Столбец 5\n",
    "column_index = 5\n",
    "column_name = df6.columns[column_index]\n",
    "# Получение соответствующего столбца из DataFrame\n",
    "column = df6[column_name]\n",
    "# Итерирование по значениям столбца\n",
    "for i, value in enumerate(column, start=1):\n",
    "    # Получение ячейки таблицы на текущей позиции столбца\n",
    "    cell = table6.cell(i, column_index)\n",
    "    # Раскраска ячейки на основе значения из DataFrame\n",
    "    if value > 30:\n",
    "        cell.fill.solid()\n",
    "        cell.fill.fore_color.rgb = color_red\n",
    "    elif 20 < value <= 30:\n",
    "        cell.fill.solid()\n",
    "        cell.fill.fore_color.rgb = color_yallow  \n",
    "    else:\n",
    "        cell.fill.solid()\n",
    "        cell.fill.fore_color.rgb = color_green\n",
    "\n",
    "# Слайд 1 Столбец 6\n",
    "column_index = 6\n",
    "column_name = df6.columns[column_index]\n",
    "# Получение соответствующего столбца из DataFrame\n",
    "column = df6[column_name]\n",
    "# Итерирование по значениям столбца\n",
    "for i, value in enumerate(column, start=1):\n",
    "    # Получение ячейки таблицы на текущей позиции столбца\n",
    "    cell = table6.cell(i, column_index)\n",
    "    # Раскраска ячейки на основе значения из DataFrame\n",
    "    if value <= 0:\n",
    "        cell.fill.solid()\n",
    "        cell.fill.fore_color.rgb = color_green    \n",
    "    else:\n",
    "        cell.fill.solid()\n",
    "        cell.fill.fore_color.rgb = color_red\n",
    "\n"
   ]
  },
  {
   "cell_type": "code",
   "execution_count": 623,
   "id": "9c7d06f5",
   "metadata": {},
   "outputs": [],
   "source": [
    "prs.save('/home/serg/prezentation/output/ПрезентацияИ38.pptx')"
   ]
  },
  {
   "cell_type": "markdown",
   "id": "9449e354",
   "metadata": {},
   "source": [
    "##### Таблица по штатным единицам"
   ]
  },
  {
   "cell_type": "markdown",
   "id": "d34b6499",
   "metadata": {},
   "source": [
    "* Создаем объединенный файл на основе выгрузки ФРМР"
   ]
  },
  {
   "cell_type": "code",
   "execution_count": 624,
   "id": "7e4867b3",
   "metadata": {},
   "outputs": [],
   "source": [
    "merge_frmr_to_month = frmr_all_uchet.copy()\n",
    "merge_frmr_to_month = merge_frmr_to_month[['Организация', 'Структурное подразделение', 'Должность', 'Штатных единиц', 'Занятых штатных единиц', 'В т.ч. внешнее совместительство', 'Вакансий']]\n",
    "merge_frmr_to_month.to_excel('/home/serg/prezentation/output/Объединенный.xlsx', index=False)"
   ]
  },
  {
   "cell_type": "markdown",
   "id": "47ab67f5",
   "metadata": {},
   "source": [
    "* Считаем штатные единицы и вакансии"
   ]
  },
  {
   "cell_type": "code",
   "execution_count": 625,
   "id": "4c7aa87d",
   "metadata": {},
   "outputs": [],
   "source": [
    "slide7_input = frmr_all_uchet.copy()\n",
    "slide7_input = slide7_input[['Организация', 'Должность', 'Штатных единиц', 'Вакансий']]\n",
    "# Группируем данные по столбцам 'Организация' и 'Должность' и суммируем значения в столбце 'Занятых штатных единиц'\n",
    "slide7_post = slide7_input.groupby(['Организация', 'Должность'])['Штатных единиц'].sum().reset_index()\n",
    "# Группируем данные по столбцам 'Организация' и 'Должность' и суммируем значения в столбце 'Вакансий'\n",
    "slide7_vacancy = slide7_input.groupby(['Организация', 'Должность'])['Вакансий'].sum().reset_index()\n",
    "list_post = ['Штатных единиц', 'Вакансий']\n",
    "slide7_vp = slide7_input.groupby(['Организация', 'Должность'])[list_post].sum().reset_index()"
   ]
  },
  {
   "cell_type": "markdown",
   "id": "b3529ca3",
   "metadata": {},
   "source": [
    "* Объединяем это с данными расписания"
   ]
  },
  {
   "cell_type": "code",
   "execution_count": 626,
   "id": "a810025e",
   "metadata": {},
   "outputs": [],
   "source": [
    "slide7_tree = pd.merge(slide7_vp, employee_with_schedule, how='left', on=['Организация', 'Должность']).fillna(0)\n",
    "slide7_tree['Дата'] = end_date\n",
    "slide7_tree['Дата'] = pd.to_datetime(slide7_tree['Дата'], format='%Y-%m-%d')\n",
    "slide7_tree['Дата'] = slide7_tree['Дата'] + pd.Timedelta(days=1)\n",
    "slide7_tree.rename(columns={'кол-во сотрудников с сформированным расписанием на 7 дней': 'Сотрудников с расписанием на 7 дней'}, inplace=True)"
   ]
  },
  {
   "cell_type": "code",
   "execution_count": 627,
   "id": "3c29b069",
   "metadata": {},
   "outputs": [],
   "source": [
    "slide7_tree['День'] = slide7_tree['Дата'].dt.day"
   ]
  },
  {
   "cell_type": "code",
   "execution_count": 628,
   "id": "8a1d11fa",
   "metadata": {},
   "outputs": [],
   "source": [
    "slide7_tree['Месяц'] = slide7_tree['Дата'].dt.month"
   ]
  },
  {
   "cell_type": "code",
   "execution_count": 629,
   "id": "4c36ae73",
   "metadata": {},
   "outputs": [],
   "source": [
    "slide7_tree['Год'] = slide7_tree['Дата'].dt.year"
   ]
  },
  {
   "cell_type": "code",
   "execution_count": 630,
   "id": "38817b32",
   "metadata": {},
   "outputs": [],
   "source": [
    "slide7_tree.to_excel('/home/serg/prezentation/output/resultI38.xlsx', index=False)"
   ]
  }
 ],
 "metadata": {
  "kernelspec": {
   "display_name": "Python 3 (ipykernel)",
   "language": "python",
   "name": "python3"
  },
  "language_info": {
   "codemirror_mode": {
    "name": "ipython",
    "version": 3
   },
   "file_extension": ".py",
   "mimetype": "text/x-python",
   "name": "python",
   "nbconvert_exporter": "python",
   "pygments_lexer": "ipython3",
   "version": "3.10.12"
  }
 },
 "nbformat": 4,
 "nbformat_minor": 5
}
